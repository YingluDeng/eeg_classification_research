{
  "nbformat": 4,
  "nbformat_minor": 0,
  "metadata": {
    "colab": {
      "provenance": [],
      "machine_shape": "hm"
    },
    "kernelspec": {
      "name": "python3",
      "display_name": "Python 3"
    },
    "language_info": {
      "name": "python"
    },
    "accelerator": "GPU",
    "gpuClass": "standard",
    "widgets": {
      "application/vnd.jupyter.widget-state+json": {
        "de83de83bd674840bd9dd30352bd4caa": {
          "model_module": "@jupyter-widgets/controls",
          "model_name": "HBoxModel",
          "model_module_version": "1.5.0",
          "state": {
            "_dom_classes": [],
            "_model_module": "@jupyter-widgets/controls",
            "_model_module_version": "1.5.0",
            "_model_name": "HBoxModel",
            "_view_count": null,
            "_view_module": "@jupyter-widgets/controls",
            "_view_module_version": "1.5.0",
            "_view_name": "HBoxView",
            "box_style": "",
            "children": [
              "IPY_MODEL_5573a98e134b40df9742e46ee003e083",
              "IPY_MODEL_0a4422e364df431d8c49034153cc80b8",
              "IPY_MODEL_eebc1edcd78b44eda1836bffe76b0bfb"
            ],
            "layout": "IPY_MODEL_b1d4951bef8142309e5179ac1304c31f"
          }
        },
        "5573a98e134b40df9742e46ee003e083": {
          "model_module": "@jupyter-widgets/controls",
          "model_name": "HTMLModel",
          "model_module_version": "1.5.0",
          "state": {
            "_dom_classes": [],
            "_model_module": "@jupyter-widgets/controls",
            "_model_module_version": "1.5.0",
            "_model_name": "HTMLModel",
            "_view_count": null,
            "_view_module": "@jupyter-widgets/controls",
            "_view_module_version": "1.5.0",
            "_view_name": "HTMLView",
            "description": "",
            "description_tooltip": null,
            "layout": "IPY_MODEL_2874a991b5ed4398b6751bbe644e5578",
            "placeholder": "​",
            "style": "IPY_MODEL_108601f4337045349409fb4bff9c5fa1",
            "value": "100%"
          }
        },
        "0a4422e364df431d8c49034153cc80b8": {
          "model_module": "@jupyter-widgets/controls",
          "model_name": "FloatProgressModel",
          "model_module_version": "1.5.0",
          "state": {
            "_dom_classes": [],
            "_model_module": "@jupyter-widgets/controls",
            "_model_module_version": "1.5.0",
            "_model_name": "FloatProgressModel",
            "_view_count": null,
            "_view_module": "@jupyter-widgets/controls",
            "_view_module_version": "1.5.0",
            "_view_name": "ProgressView",
            "bar_style": "success",
            "description": "",
            "description_tooltip": null,
            "layout": "IPY_MODEL_18724ff62fa54c7dbb1e91be4e14b45a",
            "max": 100,
            "min": 0,
            "orientation": "horizontal",
            "style": "IPY_MODEL_638277b0addb4539a93e587d75d5878f",
            "value": 100
          }
        },
        "eebc1edcd78b44eda1836bffe76b0bfb": {
          "model_module": "@jupyter-widgets/controls",
          "model_name": "HTMLModel",
          "model_module_version": "1.5.0",
          "state": {
            "_dom_classes": [],
            "_model_module": "@jupyter-widgets/controls",
            "_model_module_version": "1.5.0",
            "_model_name": "HTMLModel",
            "_view_count": null,
            "_view_module": "@jupyter-widgets/controls",
            "_view_module_version": "1.5.0",
            "_view_name": "HTMLView",
            "description": "",
            "description_tooltip": null,
            "layout": "IPY_MODEL_b88d65e2bf0a4171b42046dbe5146ac0",
            "placeholder": "​",
            "style": "IPY_MODEL_43f3d72d24ff461f837b887f394127a5",
            "value": " 100/100 [03:48&lt;00:00,  2.15s/it]"
          }
        },
        "b1d4951bef8142309e5179ac1304c31f": {
          "model_module": "@jupyter-widgets/base",
          "model_name": "LayoutModel",
          "model_module_version": "1.2.0",
          "state": {
            "_model_module": "@jupyter-widgets/base",
            "_model_module_version": "1.2.0",
            "_model_name": "LayoutModel",
            "_view_count": null,
            "_view_module": "@jupyter-widgets/base",
            "_view_module_version": "1.2.0",
            "_view_name": "LayoutView",
            "align_content": null,
            "align_items": null,
            "align_self": null,
            "border": null,
            "bottom": null,
            "display": null,
            "flex": null,
            "flex_flow": null,
            "grid_area": null,
            "grid_auto_columns": null,
            "grid_auto_flow": null,
            "grid_auto_rows": null,
            "grid_column": null,
            "grid_gap": null,
            "grid_row": null,
            "grid_template_areas": null,
            "grid_template_columns": null,
            "grid_template_rows": null,
            "height": null,
            "justify_content": null,
            "justify_items": null,
            "left": null,
            "margin": null,
            "max_height": null,
            "max_width": null,
            "min_height": null,
            "min_width": null,
            "object_fit": null,
            "object_position": null,
            "order": null,
            "overflow": null,
            "overflow_x": null,
            "overflow_y": null,
            "padding": null,
            "right": null,
            "top": null,
            "visibility": null,
            "width": null
          }
        },
        "2874a991b5ed4398b6751bbe644e5578": {
          "model_module": "@jupyter-widgets/base",
          "model_name": "LayoutModel",
          "model_module_version": "1.2.0",
          "state": {
            "_model_module": "@jupyter-widgets/base",
            "_model_module_version": "1.2.0",
            "_model_name": "LayoutModel",
            "_view_count": null,
            "_view_module": "@jupyter-widgets/base",
            "_view_module_version": "1.2.0",
            "_view_name": "LayoutView",
            "align_content": null,
            "align_items": null,
            "align_self": null,
            "border": null,
            "bottom": null,
            "display": null,
            "flex": null,
            "flex_flow": null,
            "grid_area": null,
            "grid_auto_columns": null,
            "grid_auto_flow": null,
            "grid_auto_rows": null,
            "grid_column": null,
            "grid_gap": null,
            "grid_row": null,
            "grid_template_areas": null,
            "grid_template_columns": null,
            "grid_template_rows": null,
            "height": null,
            "justify_content": null,
            "justify_items": null,
            "left": null,
            "margin": null,
            "max_height": null,
            "max_width": null,
            "min_height": null,
            "min_width": null,
            "object_fit": null,
            "object_position": null,
            "order": null,
            "overflow": null,
            "overflow_x": null,
            "overflow_y": null,
            "padding": null,
            "right": null,
            "top": null,
            "visibility": null,
            "width": null
          }
        },
        "108601f4337045349409fb4bff9c5fa1": {
          "model_module": "@jupyter-widgets/controls",
          "model_name": "DescriptionStyleModel",
          "model_module_version": "1.5.0",
          "state": {
            "_model_module": "@jupyter-widgets/controls",
            "_model_module_version": "1.5.0",
            "_model_name": "DescriptionStyleModel",
            "_view_count": null,
            "_view_module": "@jupyter-widgets/base",
            "_view_module_version": "1.2.0",
            "_view_name": "StyleView",
            "description_width": ""
          }
        },
        "18724ff62fa54c7dbb1e91be4e14b45a": {
          "model_module": "@jupyter-widgets/base",
          "model_name": "LayoutModel",
          "model_module_version": "1.2.0",
          "state": {
            "_model_module": "@jupyter-widgets/base",
            "_model_module_version": "1.2.0",
            "_model_name": "LayoutModel",
            "_view_count": null,
            "_view_module": "@jupyter-widgets/base",
            "_view_module_version": "1.2.0",
            "_view_name": "LayoutView",
            "align_content": null,
            "align_items": null,
            "align_self": null,
            "border": null,
            "bottom": null,
            "display": null,
            "flex": null,
            "flex_flow": null,
            "grid_area": null,
            "grid_auto_columns": null,
            "grid_auto_flow": null,
            "grid_auto_rows": null,
            "grid_column": null,
            "grid_gap": null,
            "grid_row": null,
            "grid_template_areas": null,
            "grid_template_columns": null,
            "grid_template_rows": null,
            "height": null,
            "justify_content": null,
            "justify_items": null,
            "left": null,
            "margin": null,
            "max_height": null,
            "max_width": null,
            "min_height": null,
            "min_width": null,
            "object_fit": null,
            "object_position": null,
            "order": null,
            "overflow": null,
            "overflow_x": null,
            "overflow_y": null,
            "padding": null,
            "right": null,
            "top": null,
            "visibility": null,
            "width": null
          }
        },
        "638277b0addb4539a93e587d75d5878f": {
          "model_module": "@jupyter-widgets/controls",
          "model_name": "ProgressStyleModel",
          "model_module_version": "1.5.0",
          "state": {
            "_model_module": "@jupyter-widgets/controls",
            "_model_module_version": "1.5.0",
            "_model_name": "ProgressStyleModel",
            "_view_count": null,
            "_view_module": "@jupyter-widgets/base",
            "_view_module_version": "1.2.0",
            "_view_name": "StyleView",
            "bar_color": null,
            "description_width": ""
          }
        },
        "b88d65e2bf0a4171b42046dbe5146ac0": {
          "model_module": "@jupyter-widgets/base",
          "model_name": "LayoutModel",
          "model_module_version": "1.2.0",
          "state": {
            "_model_module": "@jupyter-widgets/base",
            "_model_module_version": "1.2.0",
            "_model_name": "LayoutModel",
            "_view_count": null,
            "_view_module": "@jupyter-widgets/base",
            "_view_module_version": "1.2.0",
            "_view_name": "LayoutView",
            "align_content": null,
            "align_items": null,
            "align_self": null,
            "border": null,
            "bottom": null,
            "display": null,
            "flex": null,
            "flex_flow": null,
            "grid_area": null,
            "grid_auto_columns": null,
            "grid_auto_flow": null,
            "grid_auto_rows": null,
            "grid_column": null,
            "grid_gap": null,
            "grid_row": null,
            "grid_template_areas": null,
            "grid_template_columns": null,
            "grid_template_rows": null,
            "height": null,
            "justify_content": null,
            "justify_items": null,
            "left": null,
            "margin": null,
            "max_height": null,
            "max_width": null,
            "min_height": null,
            "min_width": null,
            "object_fit": null,
            "object_position": null,
            "order": null,
            "overflow": null,
            "overflow_x": null,
            "overflow_y": null,
            "padding": null,
            "right": null,
            "top": null,
            "visibility": null,
            "width": null
          }
        },
        "43f3d72d24ff461f837b887f394127a5": {
          "model_module": "@jupyter-widgets/controls",
          "model_name": "DescriptionStyleModel",
          "model_module_version": "1.5.0",
          "state": {
            "_model_module": "@jupyter-widgets/controls",
            "_model_module_version": "1.5.0",
            "_model_name": "DescriptionStyleModel",
            "_view_count": null,
            "_view_module": "@jupyter-widgets/base",
            "_view_module_version": "1.2.0",
            "_view_name": "StyleView",
            "description_width": ""
          }
        },
        "8aefee7a58c84777832c9769b974bacc": {
          "model_module": "@jupyter-widgets/controls",
          "model_name": "HBoxModel",
          "model_module_version": "1.5.0",
          "state": {
            "_dom_classes": [],
            "_model_module": "@jupyter-widgets/controls",
            "_model_module_version": "1.5.0",
            "_model_name": "HBoxModel",
            "_view_count": null,
            "_view_module": "@jupyter-widgets/controls",
            "_view_module_version": "1.5.0",
            "_view_name": "HBoxView",
            "box_style": "",
            "children": [
              "IPY_MODEL_23c7c0b657a145a9a5c5a3ea56843c2e",
              "IPY_MODEL_4f1c38fccd46459fbfaa0ce345912a80",
              "IPY_MODEL_c4f56ee286fd49469c1cc458e27bec4c"
            ],
            "layout": "IPY_MODEL_6b11c6ae39754403b69c09594dd0c7ab"
          }
        },
        "23c7c0b657a145a9a5c5a3ea56843c2e": {
          "model_module": "@jupyter-widgets/controls",
          "model_name": "HTMLModel",
          "model_module_version": "1.5.0",
          "state": {
            "_dom_classes": [],
            "_model_module": "@jupyter-widgets/controls",
            "_model_module_version": "1.5.0",
            "_model_name": "HTMLModel",
            "_view_count": null,
            "_view_module": "@jupyter-widgets/controls",
            "_view_module_version": "1.5.0",
            "_view_name": "HTMLView",
            "description": "",
            "description_tooltip": null,
            "layout": "IPY_MODEL_b02f9b6e68d54c94847e8624d99ea690",
            "placeholder": "​",
            "style": "IPY_MODEL_efdf7df345f84e6ca54065aebd2bf85b",
            "value": "100%"
          }
        },
        "4f1c38fccd46459fbfaa0ce345912a80": {
          "model_module": "@jupyter-widgets/controls",
          "model_name": "FloatProgressModel",
          "model_module_version": "1.5.0",
          "state": {
            "_dom_classes": [],
            "_model_module": "@jupyter-widgets/controls",
            "_model_module_version": "1.5.0",
            "_model_name": "FloatProgressModel",
            "_view_count": null,
            "_view_module": "@jupyter-widgets/controls",
            "_view_module_version": "1.5.0",
            "_view_name": "ProgressView",
            "bar_style": "success",
            "description": "",
            "description_tooltip": null,
            "layout": "IPY_MODEL_cc0fcebddf124045ba49969d59b6b28d",
            "max": 100,
            "min": 0,
            "orientation": "horizontal",
            "style": "IPY_MODEL_35e5296e297f40ce9d30cdc2b3f6ad85",
            "value": 100
          }
        },
        "c4f56ee286fd49469c1cc458e27bec4c": {
          "model_module": "@jupyter-widgets/controls",
          "model_name": "HTMLModel",
          "model_module_version": "1.5.0",
          "state": {
            "_dom_classes": [],
            "_model_module": "@jupyter-widgets/controls",
            "_model_module_version": "1.5.0",
            "_model_name": "HTMLModel",
            "_view_count": null,
            "_view_module": "@jupyter-widgets/controls",
            "_view_module_version": "1.5.0",
            "_view_name": "HTMLView",
            "description": "",
            "description_tooltip": null,
            "layout": "IPY_MODEL_71a7911d12fa49a492251d180657bfe7",
            "placeholder": "​",
            "style": "IPY_MODEL_fa737254cff84aa4bc172dd3ff76a79c",
            "value": " 100/100 [03:51&lt;00:00,  2.33s/it]"
          }
        },
        "6b11c6ae39754403b69c09594dd0c7ab": {
          "model_module": "@jupyter-widgets/base",
          "model_name": "LayoutModel",
          "model_module_version": "1.2.0",
          "state": {
            "_model_module": "@jupyter-widgets/base",
            "_model_module_version": "1.2.0",
            "_model_name": "LayoutModel",
            "_view_count": null,
            "_view_module": "@jupyter-widgets/base",
            "_view_module_version": "1.2.0",
            "_view_name": "LayoutView",
            "align_content": null,
            "align_items": null,
            "align_self": null,
            "border": null,
            "bottom": null,
            "display": null,
            "flex": null,
            "flex_flow": null,
            "grid_area": null,
            "grid_auto_columns": null,
            "grid_auto_flow": null,
            "grid_auto_rows": null,
            "grid_column": null,
            "grid_gap": null,
            "grid_row": null,
            "grid_template_areas": null,
            "grid_template_columns": null,
            "grid_template_rows": null,
            "height": null,
            "justify_content": null,
            "justify_items": null,
            "left": null,
            "margin": null,
            "max_height": null,
            "max_width": null,
            "min_height": null,
            "min_width": null,
            "object_fit": null,
            "object_position": null,
            "order": null,
            "overflow": null,
            "overflow_x": null,
            "overflow_y": null,
            "padding": null,
            "right": null,
            "top": null,
            "visibility": null,
            "width": null
          }
        },
        "b02f9b6e68d54c94847e8624d99ea690": {
          "model_module": "@jupyter-widgets/base",
          "model_name": "LayoutModel",
          "model_module_version": "1.2.0",
          "state": {
            "_model_module": "@jupyter-widgets/base",
            "_model_module_version": "1.2.0",
            "_model_name": "LayoutModel",
            "_view_count": null,
            "_view_module": "@jupyter-widgets/base",
            "_view_module_version": "1.2.0",
            "_view_name": "LayoutView",
            "align_content": null,
            "align_items": null,
            "align_self": null,
            "border": null,
            "bottom": null,
            "display": null,
            "flex": null,
            "flex_flow": null,
            "grid_area": null,
            "grid_auto_columns": null,
            "grid_auto_flow": null,
            "grid_auto_rows": null,
            "grid_column": null,
            "grid_gap": null,
            "grid_row": null,
            "grid_template_areas": null,
            "grid_template_columns": null,
            "grid_template_rows": null,
            "height": null,
            "justify_content": null,
            "justify_items": null,
            "left": null,
            "margin": null,
            "max_height": null,
            "max_width": null,
            "min_height": null,
            "min_width": null,
            "object_fit": null,
            "object_position": null,
            "order": null,
            "overflow": null,
            "overflow_x": null,
            "overflow_y": null,
            "padding": null,
            "right": null,
            "top": null,
            "visibility": null,
            "width": null
          }
        },
        "efdf7df345f84e6ca54065aebd2bf85b": {
          "model_module": "@jupyter-widgets/controls",
          "model_name": "DescriptionStyleModel",
          "model_module_version": "1.5.0",
          "state": {
            "_model_module": "@jupyter-widgets/controls",
            "_model_module_version": "1.5.0",
            "_model_name": "DescriptionStyleModel",
            "_view_count": null,
            "_view_module": "@jupyter-widgets/base",
            "_view_module_version": "1.2.0",
            "_view_name": "StyleView",
            "description_width": ""
          }
        },
        "cc0fcebddf124045ba49969d59b6b28d": {
          "model_module": "@jupyter-widgets/base",
          "model_name": "LayoutModel",
          "model_module_version": "1.2.0",
          "state": {
            "_model_module": "@jupyter-widgets/base",
            "_model_module_version": "1.2.0",
            "_model_name": "LayoutModel",
            "_view_count": null,
            "_view_module": "@jupyter-widgets/base",
            "_view_module_version": "1.2.0",
            "_view_name": "LayoutView",
            "align_content": null,
            "align_items": null,
            "align_self": null,
            "border": null,
            "bottom": null,
            "display": null,
            "flex": null,
            "flex_flow": null,
            "grid_area": null,
            "grid_auto_columns": null,
            "grid_auto_flow": null,
            "grid_auto_rows": null,
            "grid_column": null,
            "grid_gap": null,
            "grid_row": null,
            "grid_template_areas": null,
            "grid_template_columns": null,
            "grid_template_rows": null,
            "height": null,
            "justify_content": null,
            "justify_items": null,
            "left": null,
            "margin": null,
            "max_height": null,
            "max_width": null,
            "min_height": null,
            "min_width": null,
            "object_fit": null,
            "object_position": null,
            "order": null,
            "overflow": null,
            "overflow_x": null,
            "overflow_y": null,
            "padding": null,
            "right": null,
            "top": null,
            "visibility": null,
            "width": null
          }
        },
        "35e5296e297f40ce9d30cdc2b3f6ad85": {
          "model_module": "@jupyter-widgets/controls",
          "model_name": "ProgressStyleModel",
          "model_module_version": "1.5.0",
          "state": {
            "_model_module": "@jupyter-widgets/controls",
            "_model_module_version": "1.5.0",
            "_model_name": "ProgressStyleModel",
            "_view_count": null,
            "_view_module": "@jupyter-widgets/base",
            "_view_module_version": "1.2.0",
            "_view_name": "StyleView",
            "bar_color": null,
            "description_width": ""
          }
        },
        "71a7911d12fa49a492251d180657bfe7": {
          "model_module": "@jupyter-widgets/base",
          "model_name": "LayoutModel",
          "model_module_version": "1.2.0",
          "state": {
            "_model_module": "@jupyter-widgets/base",
            "_model_module_version": "1.2.0",
            "_model_name": "LayoutModel",
            "_view_count": null,
            "_view_module": "@jupyter-widgets/base",
            "_view_module_version": "1.2.0",
            "_view_name": "LayoutView",
            "align_content": null,
            "align_items": null,
            "align_self": null,
            "border": null,
            "bottom": null,
            "display": null,
            "flex": null,
            "flex_flow": null,
            "grid_area": null,
            "grid_auto_columns": null,
            "grid_auto_flow": null,
            "grid_auto_rows": null,
            "grid_column": null,
            "grid_gap": null,
            "grid_row": null,
            "grid_template_areas": null,
            "grid_template_columns": null,
            "grid_template_rows": null,
            "height": null,
            "justify_content": null,
            "justify_items": null,
            "left": null,
            "margin": null,
            "max_height": null,
            "max_width": null,
            "min_height": null,
            "min_width": null,
            "object_fit": null,
            "object_position": null,
            "order": null,
            "overflow": null,
            "overflow_x": null,
            "overflow_y": null,
            "padding": null,
            "right": null,
            "top": null,
            "visibility": null,
            "width": null
          }
        },
        "fa737254cff84aa4bc172dd3ff76a79c": {
          "model_module": "@jupyter-widgets/controls",
          "model_name": "DescriptionStyleModel",
          "model_module_version": "1.5.0",
          "state": {
            "_model_module": "@jupyter-widgets/controls",
            "_model_module_version": "1.5.0",
            "_model_name": "DescriptionStyleModel",
            "_view_count": null,
            "_view_module": "@jupyter-widgets/base",
            "_view_module_version": "1.2.0",
            "_view_name": "StyleView",
            "description_width": ""
          }
        },
        "9a4005d843cd4ee3b9d33d05ff0ab216": {
          "model_module": "@jupyter-widgets/controls",
          "model_name": "HBoxModel",
          "model_module_version": "1.5.0",
          "state": {
            "_dom_classes": [],
            "_model_module": "@jupyter-widgets/controls",
            "_model_module_version": "1.5.0",
            "_model_name": "HBoxModel",
            "_view_count": null,
            "_view_module": "@jupyter-widgets/controls",
            "_view_module_version": "1.5.0",
            "_view_name": "HBoxView",
            "box_style": "",
            "children": [
              "IPY_MODEL_2bef8cbd35c64eed860ff5e3dc3ae63d",
              "IPY_MODEL_7ebfc8a357c34b1297c91d5ff088bc95",
              "IPY_MODEL_cd626e9c4964459683d6acdf56665c8a"
            ],
            "layout": "IPY_MODEL_3aeb5f1a4b224a97a2ac7ef7b48d595b"
          }
        },
        "2bef8cbd35c64eed860ff5e3dc3ae63d": {
          "model_module": "@jupyter-widgets/controls",
          "model_name": "HTMLModel",
          "model_module_version": "1.5.0",
          "state": {
            "_dom_classes": [],
            "_model_module": "@jupyter-widgets/controls",
            "_model_module_version": "1.5.0",
            "_model_name": "HTMLModel",
            "_view_count": null,
            "_view_module": "@jupyter-widgets/controls",
            "_view_module_version": "1.5.0",
            "_view_name": "HTMLView",
            "description": "",
            "description_tooltip": null,
            "layout": "IPY_MODEL_240d95b128d04bbaa88924855a25e08f",
            "placeholder": "​",
            "style": "IPY_MODEL_d9f7cb61a58a41919c51461977b9f5bb",
            "value": "100%"
          }
        },
        "7ebfc8a357c34b1297c91d5ff088bc95": {
          "model_module": "@jupyter-widgets/controls",
          "model_name": "FloatProgressModel",
          "model_module_version": "1.5.0",
          "state": {
            "_dom_classes": [],
            "_model_module": "@jupyter-widgets/controls",
            "_model_module_version": "1.5.0",
            "_model_name": "FloatProgressModel",
            "_view_count": null,
            "_view_module": "@jupyter-widgets/controls",
            "_view_module_version": "1.5.0",
            "_view_name": "ProgressView",
            "bar_style": "success",
            "description": "",
            "description_tooltip": null,
            "layout": "IPY_MODEL_a8ded5b39c6a462ea27bd52f3804f776",
            "max": 100,
            "min": 0,
            "orientation": "horizontal",
            "style": "IPY_MODEL_f6a1a637d02c40af941533184bde78be",
            "value": 100
          }
        },
        "cd626e9c4964459683d6acdf56665c8a": {
          "model_module": "@jupyter-widgets/controls",
          "model_name": "HTMLModel",
          "model_module_version": "1.5.0",
          "state": {
            "_dom_classes": [],
            "_model_module": "@jupyter-widgets/controls",
            "_model_module_version": "1.5.0",
            "_model_name": "HTMLModel",
            "_view_count": null,
            "_view_module": "@jupyter-widgets/controls",
            "_view_module_version": "1.5.0",
            "_view_name": "HTMLView",
            "description": "",
            "description_tooltip": null,
            "layout": "IPY_MODEL_cc451d074a54414d8cc43eab1bb001d7",
            "placeholder": "​",
            "style": "IPY_MODEL_765d5e54a1624adfbc29672c97ff95f6",
            "value": " 100/100 [04:05&lt;00:00,  2.60s/it]"
          }
        },
        "3aeb5f1a4b224a97a2ac7ef7b48d595b": {
          "model_module": "@jupyter-widgets/base",
          "model_name": "LayoutModel",
          "model_module_version": "1.2.0",
          "state": {
            "_model_module": "@jupyter-widgets/base",
            "_model_module_version": "1.2.0",
            "_model_name": "LayoutModel",
            "_view_count": null,
            "_view_module": "@jupyter-widgets/base",
            "_view_module_version": "1.2.0",
            "_view_name": "LayoutView",
            "align_content": null,
            "align_items": null,
            "align_self": null,
            "border": null,
            "bottom": null,
            "display": null,
            "flex": null,
            "flex_flow": null,
            "grid_area": null,
            "grid_auto_columns": null,
            "grid_auto_flow": null,
            "grid_auto_rows": null,
            "grid_column": null,
            "grid_gap": null,
            "grid_row": null,
            "grid_template_areas": null,
            "grid_template_columns": null,
            "grid_template_rows": null,
            "height": null,
            "justify_content": null,
            "justify_items": null,
            "left": null,
            "margin": null,
            "max_height": null,
            "max_width": null,
            "min_height": null,
            "min_width": null,
            "object_fit": null,
            "object_position": null,
            "order": null,
            "overflow": null,
            "overflow_x": null,
            "overflow_y": null,
            "padding": null,
            "right": null,
            "top": null,
            "visibility": null,
            "width": null
          }
        },
        "240d95b128d04bbaa88924855a25e08f": {
          "model_module": "@jupyter-widgets/base",
          "model_name": "LayoutModel",
          "model_module_version": "1.2.0",
          "state": {
            "_model_module": "@jupyter-widgets/base",
            "_model_module_version": "1.2.0",
            "_model_name": "LayoutModel",
            "_view_count": null,
            "_view_module": "@jupyter-widgets/base",
            "_view_module_version": "1.2.0",
            "_view_name": "LayoutView",
            "align_content": null,
            "align_items": null,
            "align_self": null,
            "border": null,
            "bottom": null,
            "display": null,
            "flex": null,
            "flex_flow": null,
            "grid_area": null,
            "grid_auto_columns": null,
            "grid_auto_flow": null,
            "grid_auto_rows": null,
            "grid_column": null,
            "grid_gap": null,
            "grid_row": null,
            "grid_template_areas": null,
            "grid_template_columns": null,
            "grid_template_rows": null,
            "height": null,
            "justify_content": null,
            "justify_items": null,
            "left": null,
            "margin": null,
            "max_height": null,
            "max_width": null,
            "min_height": null,
            "min_width": null,
            "object_fit": null,
            "object_position": null,
            "order": null,
            "overflow": null,
            "overflow_x": null,
            "overflow_y": null,
            "padding": null,
            "right": null,
            "top": null,
            "visibility": null,
            "width": null
          }
        },
        "d9f7cb61a58a41919c51461977b9f5bb": {
          "model_module": "@jupyter-widgets/controls",
          "model_name": "DescriptionStyleModel",
          "model_module_version": "1.5.0",
          "state": {
            "_model_module": "@jupyter-widgets/controls",
            "_model_module_version": "1.5.0",
            "_model_name": "DescriptionStyleModel",
            "_view_count": null,
            "_view_module": "@jupyter-widgets/base",
            "_view_module_version": "1.2.0",
            "_view_name": "StyleView",
            "description_width": ""
          }
        },
        "a8ded5b39c6a462ea27bd52f3804f776": {
          "model_module": "@jupyter-widgets/base",
          "model_name": "LayoutModel",
          "model_module_version": "1.2.0",
          "state": {
            "_model_module": "@jupyter-widgets/base",
            "_model_module_version": "1.2.0",
            "_model_name": "LayoutModel",
            "_view_count": null,
            "_view_module": "@jupyter-widgets/base",
            "_view_module_version": "1.2.0",
            "_view_name": "LayoutView",
            "align_content": null,
            "align_items": null,
            "align_self": null,
            "border": null,
            "bottom": null,
            "display": null,
            "flex": null,
            "flex_flow": null,
            "grid_area": null,
            "grid_auto_columns": null,
            "grid_auto_flow": null,
            "grid_auto_rows": null,
            "grid_column": null,
            "grid_gap": null,
            "grid_row": null,
            "grid_template_areas": null,
            "grid_template_columns": null,
            "grid_template_rows": null,
            "height": null,
            "justify_content": null,
            "justify_items": null,
            "left": null,
            "margin": null,
            "max_height": null,
            "max_width": null,
            "min_height": null,
            "min_width": null,
            "object_fit": null,
            "object_position": null,
            "order": null,
            "overflow": null,
            "overflow_x": null,
            "overflow_y": null,
            "padding": null,
            "right": null,
            "top": null,
            "visibility": null,
            "width": null
          }
        },
        "f6a1a637d02c40af941533184bde78be": {
          "model_module": "@jupyter-widgets/controls",
          "model_name": "ProgressStyleModel",
          "model_module_version": "1.5.0",
          "state": {
            "_model_module": "@jupyter-widgets/controls",
            "_model_module_version": "1.5.0",
            "_model_name": "ProgressStyleModel",
            "_view_count": null,
            "_view_module": "@jupyter-widgets/base",
            "_view_module_version": "1.2.0",
            "_view_name": "StyleView",
            "bar_color": null,
            "description_width": ""
          }
        },
        "cc451d074a54414d8cc43eab1bb001d7": {
          "model_module": "@jupyter-widgets/base",
          "model_name": "LayoutModel",
          "model_module_version": "1.2.0",
          "state": {
            "_model_module": "@jupyter-widgets/base",
            "_model_module_version": "1.2.0",
            "_model_name": "LayoutModel",
            "_view_count": null,
            "_view_module": "@jupyter-widgets/base",
            "_view_module_version": "1.2.0",
            "_view_name": "LayoutView",
            "align_content": null,
            "align_items": null,
            "align_self": null,
            "border": null,
            "bottom": null,
            "display": null,
            "flex": null,
            "flex_flow": null,
            "grid_area": null,
            "grid_auto_columns": null,
            "grid_auto_flow": null,
            "grid_auto_rows": null,
            "grid_column": null,
            "grid_gap": null,
            "grid_row": null,
            "grid_template_areas": null,
            "grid_template_columns": null,
            "grid_template_rows": null,
            "height": null,
            "justify_content": null,
            "justify_items": null,
            "left": null,
            "margin": null,
            "max_height": null,
            "max_width": null,
            "min_height": null,
            "min_width": null,
            "object_fit": null,
            "object_position": null,
            "order": null,
            "overflow": null,
            "overflow_x": null,
            "overflow_y": null,
            "padding": null,
            "right": null,
            "top": null,
            "visibility": null,
            "width": null
          }
        },
        "765d5e54a1624adfbc29672c97ff95f6": {
          "model_module": "@jupyter-widgets/controls",
          "model_name": "DescriptionStyleModel",
          "model_module_version": "1.5.0",
          "state": {
            "_model_module": "@jupyter-widgets/controls",
            "_model_module_version": "1.5.0",
            "_model_name": "DescriptionStyleModel",
            "_view_count": null,
            "_view_module": "@jupyter-widgets/base",
            "_view_module_version": "1.2.0",
            "_view_name": "StyleView",
            "description_width": ""
          }
        },
        "44257f4063df423d85bb6a355b5607fd": {
          "model_module": "@jupyter-widgets/controls",
          "model_name": "HBoxModel",
          "model_module_version": "1.5.0",
          "state": {
            "_dom_classes": [],
            "_model_module": "@jupyter-widgets/controls",
            "_model_module_version": "1.5.0",
            "_model_name": "HBoxModel",
            "_view_count": null,
            "_view_module": "@jupyter-widgets/controls",
            "_view_module_version": "1.5.0",
            "_view_name": "HBoxView",
            "box_style": "",
            "children": [
              "IPY_MODEL_a38873fc289f4acb83e1bbbe8d91d238",
              "IPY_MODEL_7b0bfaeccd3443ec80a87535ae5c1e40",
              "IPY_MODEL_b2eac705f2e24b75bdf3e3d91357467b"
            ],
            "layout": "IPY_MODEL_6075fa3fc4b44ca6b3a428e6d90de67c"
          }
        },
        "a38873fc289f4acb83e1bbbe8d91d238": {
          "model_module": "@jupyter-widgets/controls",
          "model_name": "HTMLModel",
          "model_module_version": "1.5.0",
          "state": {
            "_dom_classes": [],
            "_model_module": "@jupyter-widgets/controls",
            "_model_module_version": "1.5.0",
            "_model_name": "HTMLModel",
            "_view_count": null,
            "_view_module": "@jupyter-widgets/controls",
            "_view_module_version": "1.5.0",
            "_view_name": "HTMLView",
            "description": "",
            "description_tooltip": null,
            "layout": "IPY_MODEL_6cfb28aa85784a1baf8200dc19058006",
            "placeholder": "​",
            "style": "IPY_MODEL_aea88124ead641fd972e92f7c3286cd4",
            "value": "100%"
          }
        },
        "7b0bfaeccd3443ec80a87535ae5c1e40": {
          "model_module": "@jupyter-widgets/controls",
          "model_name": "FloatProgressModel",
          "model_module_version": "1.5.0",
          "state": {
            "_dom_classes": [],
            "_model_module": "@jupyter-widgets/controls",
            "_model_module_version": "1.5.0",
            "_model_name": "FloatProgressModel",
            "_view_count": null,
            "_view_module": "@jupyter-widgets/controls",
            "_view_module_version": "1.5.0",
            "_view_name": "ProgressView",
            "bar_style": "success",
            "description": "",
            "description_tooltip": null,
            "layout": "IPY_MODEL_a2fa3f3d52e84361b0a7e129f5069e86",
            "max": 100,
            "min": 0,
            "orientation": "horizontal",
            "style": "IPY_MODEL_aa3c9005a18b4bcc997dcabb6deecff0",
            "value": 100
          }
        },
        "b2eac705f2e24b75bdf3e3d91357467b": {
          "model_module": "@jupyter-widgets/controls",
          "model_name": "HTMLModel",
          "model_module_version": "1.5.0",
          "state": {
            "_dom_classes": [],
            "_model_module": "@jupyter-widgets/controls",
            "_model_module_version": "1.5.0",
            "_model_name": "HTMLModel",
            "_view_count": null,
            "_view_module": "@jupyter-widgets/controls",
            "_view_module_version": "1.5.0",
            "_view_name": "HTMLView",
            "description": "",
            "description_tooltip": null,
            "layout": "IPY_MODEL_3454a5049bd0496a8e84938f7ae6f928",
            "placeholder": "​",
            "style": "IPY_MODEL_9605dc4260064d729f8dc397e22e0eac",
            "value": " 100/100 [04:17&lt;00:00,  2.55s/it]"
          }
        },
        "6075fa3fc4b44ca6b3a428e6d90de67c": {
          "model_module": "@jupyter-widgets/base",
          "model_name": "LayoutModel",
          "model_module_version": "1.2.0",
          "state": {
            "_model_module": "@jupyter-widgets/base",
            "_model_module_version": "1.2.0",
            "_model_name": "LayoutModel",
            "_view_count": null,
            "_view_module": "@jupyter-widgets/base",
            "_view_module_version": "1.2.0",
            "_view_name": "LayoutView",
            "align_content": null,
            "align_items": null,
            "align_self": null,
            "border": null,
            "bottom": null,
            "display": null,
            "flex": null,
            "flex_flow": null,
            "grid_area": null,
            "grid_auto_columns": null,
            "grid_auto_flow": null,
            "grid_auto_rows": null,
            "grid_column": null,
            "grid_gap": null,
            "grid_row": null,
            "grid_template_areas": null,
            "grid_template_columns": null,
            "grid_template_rows": null,
            "height": null,
            "justify_content": null,
            "justify_items": null,
            "left": null,
            "margin": null,
            "max_height": null,
            "max_width": null,
            "min_height": null,
            "min_width": null,
            "object_fit": null,
            "object_position": null,
            "order": null,
            "overflow": null,
            "overflow_x": null,
            "overflow_y": null,
            "padding": null,
            "right": null,
            "top": null,
            "visibility": null,
            "width": null
          }
        },
        "6cfb28aa85784a1baf8200dc19058006": {
          "model_module": "@jupyter-widgets/base",
          "model_name": "LayoutModel",
          "model_module_version": "1.2.0",
          "state": {
            "_model_module": "@jupyter-widgets/base",
            "_model_module_version": "1.2.0",
            "_model_name": "LayoutModel",
            "_view_count": null,
            "_view_module": "@jupyter-widgets/base",
            "_view_module_version": "1.2.0",
            "_view_name": "LayoutView",
            "align_content": null,
            "align_items": null,
            "align_self": null,
            "border": null,
            "bottom": null,
            "display": null,
            "flex": null,
            "flex_flow": null,
            "grid_area": null,
            "grid_auto_columns": null,
            "grid_auto_flow": null,
            "grid_auto_rows": null,
            "grid_column": null,
            "grid_gap": null,
            "grid_row": null,
            "grid_template_areas": null,
            "grid_template_columns": null,
            "grid_template_rows": null,
            "height": null,
            "justify_content": null,
            "justify_items": null,
            "left": null,
            "margin": null,
            "max_height": null,
            "max_width": null,
            "min_height": null,
            "min_width": null,
            "object_fit": null,
            "object_position": null,
            "order": null,
            "overflow": null,
            "overflow_x": null,
            "overflow_y": null,
            "padding": null,
            "right": null,
            "top": null,
            "visibility": null,
            "width": null
          }
        },
        "aea88124ead641fd972e92f7c3286cd4": {
          "model_module": "@jupyter-widgets/controls",
          "model_name": "DescriptionStyleModel",
          "model_module_version": "1.5.0",
          "state": {
            "_model_module": "@jupyter-widgets/controls",
            "_model_module_version": "1.5.0",
            "_model_name": "DescriptionStyleModel",
            "_view_count": null,
            "_view_module": "@jupyter-widgets/base",
            "_view_module_version": "1.2.0",
            "_view_name": "StyleView",
            "description_width": ""
          }
        },
        "a2fa3f3d52e84361b0a7e129f5069e86": {
          "model_module": "@jupyter-widgets/base",
          "model_name": "LayoutModel",
          "model_module_version": "1.2.0",
          "state": {
            "_model_module": "@jupyter-widgets/base",
            "_model_module_version": "1.2.0",
            "_model_name": "LayoutModel",
            "_view_count": null,
            "_view_module": "@jupyter-widgets/base",
            "_view_module_version": "1.2.0",
            "_view_name": "LayoutView",
            "align_content": null,
            "align_items": null,
            "align_self": null,
            "border": null,
            "bottom": null,
            "display": null,
            "flex": null,
            "flex_flow": null,
            "grid_area": null,
            "grid_auto_columns": null,
            "grid_auto_flow": null,
            "grid_auto_rows": null,
            "grid_column": null,
            "grid_gap": null,
            "grid_row": null,
            "grid_template_areas": null,
            "grid_template_columns": null,
            "grid_template_rows": null,
            "height": null,
            "justify_content": null,
            "justify_items": null,
            "left": null,
            "margin": null,
            "max_height": null,
            "max_width": null,
            "min_height": null,
            "min_width": null,
            "object_fit": null,
            "object_position": null,
            "order": null,
            "overflow": null,
            "overflow_x": null,
            "overflow_y": null,
            "padding": null,
            "right": null,
            "top": null,
            "visibility": null,
            "width": null
          }
        },
        "aa3c9005a18b4bcc997dcabb6deecff0": {
          "model_module": "@jupyter-widgets/controls",
          "model_name": "ProgressStyleModel",
          "model_module_version": "1.5.0",
          "state": {
            "_model_module": "@jupyter-widgets/controls",
            "_model_module_version": "1.5.0",
            "_model_name": "ProgressStyleModel",
            "_view_count": null,
            "_view_module": "@jupyter-widgets/base",
            "_view_module_version": "1.2.0",
            "_view_name": "StyleView",
            "bar_color": null,
            "description_width": ""
          }
        },
        "3454a5049bd0496a8e84938f7ae6f928": {
          "model_module": "@jupyter-widgets/base",
          "model_name": "LayoutModel",
          "model_module_version": "1.2.0",
          "state": {
            "_model_module": "@jupyter-widgets/base",
            "_model_module_version": "1.2.0",
            "_model_name": "LayoutModel",
            "_view_count": null,
            "_view_module": "@jupyter-widgets/base",
            "_view_module_version": "1.2.0",
            "_view_name": "LayoutView",
            "align_content": null,
            "align_items": null,
            "align_self": null,
            "border": null,
            "bottom": null,
            "display": null,
            "flex": null,
            "flex_flow": null,
            "grid_area": null,
            "grid_auto_columns": null,
            "grid_auto_flow": null,
            "grid_auto_rows": null,
            "grid_column": null,
            "grid_gap": null,
            "grid_row": null,
            "grid_template_areas": null,
            "grid_template_columns": null,
            "grid_template_rows": null,
            "height": null,
            "justify_content": null,
            "justify_items": null,
            "left": null,
            "margin": null,
            "max_height": null,
            "max_width": null,
            "min_height": null,
            "min_width": null,
            "object_fit": null,
            "object_position": null,
            "order": null,
            "overflow": null,
            "overflow_x": null,
            "overflow_y": null,
            "padding": null,
            "right": null,
            "top": null,
            "visibility": null,
            "width": null
          }
        },
        "9605dc4260064d729f8dc397e22e0eac": {
          "model_module": "@jupyter-widgets/controls",
          "model_name": "DescriptionStyleModel",
          "model_module_version": "1.5.0",
          "state": {
            "_model_module": "@jupyter-widgets/controls",
            "_model_module_version": "1.5.0",
            "_model_name": "DescriptionStyleModel",
            "_view_count": null,
            "_view_module": "@jupyter-widgets/base",
            "_view_module_version": "1.2.0",
            "_view_name": "StyleView",
            "description_width": ""
          }
        },
        "2d6ec994429f42a8b1fe9f0a2169d98f": {
          "model_module": "@jupyter-widgets/controls",
          "model_name": "HBoxModel",
          "model_module_version": "1.5.0",
          "state": {
            "_dom_classes": [],
            "_model_module": "@jupyter-widgets/controls",
            "_model_module_version": "1.5.0",
            "_model_name": "HBoxModel",
            "_view_count": null,
            "_view_module": "@jupyter-widgets/controls",
            "_view_module_version": "1.5.0",
            "_view_name": "HBoxView",
            "box_style": "",
            "children": [
              "IPY_MODEL_7a515f1df5804b79bbb9335ccf26b7ea",
              "IPY_MODEL_904d1fba28c9402698549b30ac265ccf",
              "IPY_MODEL_38bbb208b3ab43f69b9f429d655c3171"
            ],
            "layout": "IPY_MODEL_f79f104ce67c4465aa73373e8d155332"
          }
        },
        "7a515f1df5804b79bbb9335ccf26b7ea": {
          "model_module": "@jupyter-widgets/controls",
          "model_name": "HTMLModel",
          "model_module_version": "1.5.0",
          "state": {
            "_dom_classes": [],
            "_model_module": "@jupyter-widgets/controls",
            "_model_module_version": "1.5.0",
            "_model_name": "HTMLModel",
            "_view_count": null,
            "_view_module": "@jupyter-widgets/controls",
            "_view_module_version": "1.5.0",
            "_view_name": "HTMLView",
            "description": "",
            "description_tooltip": null,
            "layout": "IPY_MODEL_ef1e3a56a7c44a36bec4de05a686da67",
            "placeholder": "​",
            "style": "IPY_MODEL_0b86e6b263b84f0cb1f4f53a5a4ccb9b",
            "value": "100%"
          }
        },
        "904d1fba28c9402698549b30ac265ccf": {
          "model_module": "@jupyter-widgets/controls",
          "model_name": "FloatProgressModel",
          "model_module_version": "1.5.0",
          "state": {
            "_dom_classes": [],
            "_model_module": "@jupyter-widgets/controls",
            "_model_module_version": "1.5.0",
            "_model_name": "FloatProgressModel",
            "_view_count": null,
            "_view_module": "@jupyter-widgets/controls",
            "_view_module_version": "1.5.0",
            "_view_name": "ProgressView",
            "bar_style": "success",
            "description": "",
            "description_tooltip": null,
            "layout": "IPY_MODEL_e17f18578d4b4c97aa5b68ed9211bcb5",
            "max": 100,
            "min": 0,
            "orientation": "horizontal",
            "style": "IPY_MODEL_7c7d92a4096049c3bdba41a05c4eec91",
            "value": 100
          }
        },
        "38bbb208b3ab43f69b9f429d655c3171": {
          "model_module": "@jupyter-widgets/controls",
          "model_name": "HTMLModel",
          "model_module_version": "1.5.0",
          "state": {
            "_dom_classes": [],
            "_model_module": "@jupyter-widgets/controls",
            "_model_module_version": "1.5.0",
            "_model_name": "HTMLModel",
            "_view_count": null,
            "_view_module": "@jupyter-widgets/controls",
            "_view_module_version": "1.5.0",
            "_view_name": "HTMLView",
            "description": "",
            "description_tooltip": null,
            "layout": "IPY_MODEL_bd8022c7cede4eed90d0e5444b33ca6d",
            "placeholder": "​",
            "style": "IPY_MODEL_9189b5804fd345789d020461d523a09f",
            "value": " 100/100 [04:31&lt;00:00,  2.88s/it]"
          }
        },
        "f79f104ce67c4465aa73373e8d155332": {
          "model_module": "@jupyter-widgets/base",
          "model_name": "LayoutModel",
          "model_module_version": "1.2.0",
          "state": {
            "_model_module": "@jupyter-widgets/base",
            "_model_module_version": "1.2.0",
            "_model_name": "LayoutModel",
            "_view_count": null,
            "_view_module": "@jupyter-widgets/base",
            "_view_module_version": "1.2.0",
            "_view_name": "LayoutView",
            "align_content": null,
            "align_items": null,
            "align_self": null,
            "border": null,
            "bottom": null,
            "display": null,
            "flex": null,
            "flex_flow": null,
            "grid_area": null,
            "grid_auto_columns": null,
            "grid_auto_flow": null,
            "grid_auto_rows": null,
            "grid_column": null,
            "grid_gap": null,
            "grid_row": null,
            "grid_template_areas": null,
            "grid_template_columns": null,
            "grid_template_rows": null,
            "height": null,
            "justify_content": null,
            "justify_items": null,
            "left": null,
            "margin": null,
            "max_height": null,
            "max_width": null,
            "min_height": null,
            "min_width": null,
            "object_fit": null,
            "object_position": null,
            "order": null,
            "overflow": null,
            "overflow_x": null,
            "overflow_y": null,
            "padding": null,
            "right": null,
            "top": null,
            "visibility": null,
            "width": null
          }
        },
        "ef1e3a56a7c44a36bec4de05a686da67": {
          "model_module": "@jupyter-widgets/base",
          "model_name": "LayoutModel",
          "model_module_version": "1.2.0",
          "state": {
            "_model_module": "@jupyter-widgets/base",
            "_model_module_version": "1.2.0",
            "_model_name": "LayoutModel",
            "_view_count": null,
            "_view_module": "@jupyter-widgets/base",
            "_view_module_version": "1.2.0",
            "_view_name": "LayoutView",
            "align_content": null,
            "align_items": null,
            "align_self": null,
            "border": null,
            "bottom": null,
            "display": null,
            "flex": null,
            "flex_flow": null,
            "grid_area": null,
            "grid_auto_columns": null,
            "grid_auto_flow": null,
            "grid_auto_rows": null,
            "grid_column": null,
            "grid_gap": null,
            "grid_row": null,
            "grid_template_areas": null,
            "grid_template_columns": null,
            "grid_template_rows": null,
            "height": null,
            "justify_content": null,
            "justify_items": null,
            "left": null,
            "margin": null,
            "max_height": null,
            "max_width": null,
            "min_height": null,
            "min_width": null,
            "object_fit": null,
            "object_position": null,
            "order": null,
            "overflow": null,
            "overflow_x": null,
            "overflow_y": null,
            "padding": null,
            "right": null,
            "top": null,
            "visibility": null,
            "width": null
          }
        },
        "0b86e6b263b84f0cb1f4f53a5a4ccb9b": {
          "model_module": "@jupyter-widgets/controls",
          "model_name": "DescriptionStyleModel",
          "model_module_version": "1.5.0",
          "state": {
            "_model_module": "@jupyter-widgets/controls",
            "_model_module_version": "1.5.0",
            "_model_name": "DescriptionStyleModel",
            "_view_count": null,
            "_view_module": "@jupyter-widgets/base",
            "_view_module_version": "1.2.0",
            "_view_name": "StyleView",
            "description_width": ""
          }
        },
        "e17f18578d4b4c97aa5b68ed9211bcb5": {
          "model_module": "@jupyter-widgets/base",
          "model_name": "LayoutModel",
          "model_module_version": "1.2.0",
          "state": {
            "_model_module": "@jupyter-widgets/base",
            "_model_module_version": "1.2.0",
            "_model_name": "LayoutModel",
            "_view_count": null,
            "_view_module": "@jupyter-widgets/base",
            "_view_module_version": "1.2.0",
            "_view_name": "LayoutView",
            "align_content": null,
            "align_items": null,
            "align_self": null,
            "border": null,
            "bottom": null,
            "display": null,
            "flex": null,
            "flex_flow": null,
            "grid_area": null,
            "grid_auto_columns": null,
            "grid_auto_flow": null,
            "grid_auto_rows": null,
            "grid_column": null,
            "grid_gap": null,
            "grid_row": null,
            "grid_template_areas": null,
            "grid_template_columns": null,
            "grid_template_rows": null,
            "height": null,
            "justify_content": null,
            "justify_items": null,
            "left": null,
            "margin": null,
            "max_height": null,
            "max_width": null,
            "min_height": null,
            "min_width": null,
            "object_fit": null,
            "object_position": null,
            "order": null,
            "overflow": null,
            "overflow_x": null,
            "overflow_y": null,
            "padding": null,
            "right": null,
            "top": null,
            "visibility": null,
            "width": null
          }
        },
        "7c7d92a4096049c3bdba41a05c4eec91": {
          "model_module": "@jupyter-widgets/controls",
          "model_name": "ProgressStyleModel",
          "model_module_version": "1.5.0",
          "state": {
            "_model_module": "@jupyter-widgets/controls",
            "_model_module_version": "1.5.0",
            "_model_name": "ProgressStyleModel",
            "_view_count": null,
            "_view_module": "@jupyter-widgets/base",
            "_view_module_version": "1.2.0",
            "_view_name": "StyleView",
            "bar_color": null,
            "description_width": ""
          }
        },
        "bd8022c7cede4eed90d0e5444b33ca6d": {
          "model_module": "@jupyter-widgets/base",
          "model_name": "LayoutModel",
          "model_module_version": "1.2.0",
          "state": {
            "_model_module": "@jupyter-widgets/base",
            "_model_module_version": "1.2.0",
            "_model_name": "LayoutModel",
            "_view_count": null,
            "_view_module": "@jupyter-widgets/base",
            "_view_module_version": "1.2.0",
            "_view_name": "LayoutView",
            "align_content": null,
            "align_items": null,
            "align_self": null,
            "border": null,
            "bottom": null,
            "display": null,
            "flex": null,
            "flex_flow": null,
            "grid_area": null,
            "grid_auto_columns": null,
            "grid_auto_flow": null,
            "grid_auto_rows": null,
            "grid_column": null,
            "grid_gap": null,
            "grid_row": null,
            "grid_template_areas": null,
            "grid_template_columns": null,
            "grid_template_rows": null,
            "height": null,
            "justify_content": null,
            "justify_items": null,
            "left": null,
            "margin": null,
            "max_height": null,
            "max_width": null,
            "min_height": null,
            "min_width": null,
            "object_fit": null,
            "object_position": null,
            "order": null,
            "overflow": null,
            "overflow_x": null,
            "overflow_y": null,
            "padding": null,
            "right": null,
            "top": null,
            "visibility": null,
            "width": null
          }
        },
        "9189b5804fd345789d020461d523a09f": {
          "model_module": "@jupyter-widgets/controls",
          "model_name": "DescriptionStyleModel",
          "model_module_version": "1.5.0",
          "state": {
            "_model_module": "@jupyter-widgets/controls",
            "_model_module_version": "1.5.0",
            "_model_name": "DescriptionStyleModel",
            "_view_count": null,
            "_view_module": "@jupyter-widgets/base",
            "_view_module_version": "1.2.0",
            "_view_name": "StyleView",
            "description_width": ""
          }
        }
      }
    }
  },
  "cells": [
    {
      "cell_type": "markdown",
      "source": [
        "# Install required packages"
      ],
      "metadata": {
        "id": "03TaUFyGrlS7"
      }
    },
    {
      "cell_type": "code",
      "source": [
        "! pip install timm"
      ],
      "metadata": {
        "id": "b3Gq5WtkMvT-",
        "colab": {
          "base_uri": "https://localhost:8080/"
        },
        "outputId": "fc1639fc-d557-46e9-e2a7-9a3169800b79"
      },
      "execution_count": null,
      "outputs": [
        {
          "output_type": "stream",
          "name": "stdout",
          "text": [
            "Looking in indexes: https://pypi.org/simple, https://us-python.pkg.dev/colab-wheels/public/simple/\n",
            "Collecting timm\n",
            "  Downloading timm-0.6.12-py3-none-any.whl (549 kB)\n",
            "\u001b[2K     \u001b[90m━━━━━━━━━━━━━━━━━━━━━━━━━━━━━━━━━━━━━━━\u001b[0m \u001b[32m549.1/549.1 KB\u001b[0m \u001b[31m3.2 MB/s\u001b[0m eta \u001b[36m0:00:00\u001b[0m\n",
            "\u001b[?25hRequirement already satisfied: torch>=1.7 in /usr/local/lib/python3.9/dist-packages (from timm) (1.13.1+cu116)\n",
            "Requirement already satisfied: pyyaml in /usr/local/lib/python3.9/dist-packages (from timm) (6.0)\n",
            "Collecting huggingface-hub\n",
            "  Downloading huggingface_hub-0.13.2-py3-none-any.whl (199 kB)\n",
            "\u001b[2K     \u001b[90m━━━━━━━━━━━━━━━━━━━━━━━━━━━━━━━━━━━━━━\u001b[0m \u001b[32m199.2/199.2 KB\u001b[0m \u001b[31m20.5 MB/s\u001b[0m eta \u001b[36m0:00:00\u001b[0m\n",
            "\u001b[?25hRequirement already satisfied: torchvision in /usr/local/lib/python3.9/dist-packages (from timm) (0.14.1+cu116)\n",
            "Requirement already satisfied: typing-extensions in /usr/local/lib/python3.9/dist-packages (from torch>=1.7->timm) (4.5.0)\n",
            "Requirement already satisfied: tqdm>=4.42.1 in /usr/local/lib/python3.9/dist-packages (from huggingface-hub->timm) (4.65.0)\n",
            "Requirement already satisfied: requests in /usr/local/lib/python3.9/dist-packages (from huggingface-hub->timm) (2.27.1)\n",
            "Requirement already satisfied: packaging>=20.9 in /usr/local/lib/python3.9/dist-packages (from huggingface-hub->timm) (23.0)\n",
            "Requirement already satisfied: filelock in /usr/local/lib/python3.9/dist-packages (from huggingface-hub->timm) (3.10.0)\n",
            "Requirement already satisfied: numpy in /usr/local/lib/python3.9/dist-packages (from torchvision->timm) (1.22.4)\n",
            "Requirement already satisfied: pillow!=8.3.*,>=5.3.0 in /usr/local/lib/python3.9/dist-packages (from torchvision->timm) (8.4.0)\n",
            "Requirement already satisfied: certifi>=2017.4.17 in /usr/local/lib/python3.9/dist-packages (from requests->huggingface-hub->timm) (2022.12.7)\n",
            "Requirement already satisfied: idna<4,>=2.5 in /usr/local/lib/python3.9/dist-packages (from requests->huggingface-hub->timm) (3.4)\n",
            "Requirement already satisfied: urllib3<1.27,>=1.21.1 in /usr/local/lib/python3.9/dist-packages (from requests->huggingface-hub->timm) (1.26.15)\n",
            "Requirement already satisfied: charset-normalizer~=2.0.0 in /usr/local/lib/python3.9/dist-packages (from requests->huggingface-hub->timm) (2.0.12)\n",
            "Installing collected packages: huggingface-hub, timm\n",
            "Successfully installed huggingface-hub-0.13.2 timm-0.6.12\n"
          ]
        }
      ]
    },
    {
      "cell_type": "markdown",
      "source": [
        "# Check GPU status"
      ],
      "metadata": {
        "id": "qETdGgm4rnX6"
      }
    },
    {
      "cell_type": "code",
      "source": [
        "! nvidia-smi"
      ],
      "metadata": {
        "id": "SQvtjTu_M42s",
        "colab": {
          "base_uri": "https://localhost:8080/"
        },
        "outputId": "a555cd47-0524-4fc2-e2f3-d45f2548ccb5"
      },
      "execution_count": null,
      "outputs": [
        {
          "output_type": "stream",
          "name": "stdout",
          "text": [
            "Sun Mar 19 11:50:05 2023       \n",
            "+-----------------------------------------------------------------------------+\n",
            "| NVIDIA-SMI 525.85.12    Driver Version: 525.85.12    CUDA Version: 12.0     |\n",
            "|-------------------------------+----------------------+----------------------+\n",
            "| GPU  Name        Persistence-M| Bus-Id        Disp.A | Volatile Uncorr. ECC |\n",
            "| Fan  Temp  Perf  Pwr:Usage/Cap|         Memory-Usage | GPU-Util  Compute M. |\n",
            "|                               |                      |               MIG M. |\n",
            "|===============================+======================+======================|\n",
            "|   0  Tesla T4            Off  | 00000000:00:04.0 Off |                    0 |\n",
            "| N/A   69C    P0    30W /  70W |      0MiB / 15360MiB |      0%      Default |\n",
            "|                               |                      |                  N/A |\n",
            "+-------------------------------+----------------------+----------------------+\n",
            "                                                                               \n",
            "+-----------------------------------------------------------------------------+\n",
            "| Processes:                                                                  |\n",
            "|  GPU   GI   CI        PID   Type   Process name                  GPU Memory |\n",
            "|        ID   ID                                                   Usage      |\n",
            "|=============================================================================|\n",
            "|  No running processes found                                                 |\n",
            "+-----------------------------------------------------------------------------+\n"
          ]
        }
      ]
    },
    {
      "cell_type": "markdown",
      "source": [
        "# Import"
      ],
      "metadata": {
        "id": "VeHNI4WwrpLr"
      }
    },
    {
      "cell_type": "code",
      "source": [
        "import os\n",
        "import sys\n",
        "import time\n",
        "import numpy as np\n",
        "import pandas as pd\n",
        "import cv2\n",
        "import PIL.Image\n",
        "import matplotlib.pyplot as plt\n",
        "%matplotlib inline\n",
        "import seaborn as sns\n",
        "from tqdm.notebook import tqdm\n",
        "from sklearn.metrics import roc_auc_score\n",
        "import torch\n",
        "from torch.utils.data import TensorDataset, DataLoader,Dataset\n",
        "import torch.nn as nn\n",
        "import torch.nn.functional as F\n",
        "import torchvision\n",
        "import torchvision.transforms as transforms\n",
        "import torch.optim as optim\n",
        "from torch.optim import lr_scheduler\n",
        "from torch.utils.data.sampler import SubsetRandomSampler, RandomSampler, SequentialSampler\n",
        "from torch.optim.lr_scheduler import CosineAnnealingLR\n",
        "import albumentations as A\n",
        "import timm\n",
        "import matplotlib.pyplot as plt\n",
        "\n",
        "device = torch.device('cuda')"
      ],
      "metadata": {
        "id": "C7yem24vMqw5"
      },
      "execution_count": null,
      "outputs": []
    },
    {
      "cell_type": "markdown",
      "source": [
        "# Read Data"
      ],
      "metadata": {
        "id": "2HqMSLBerq4u"
      }
    },
    {
      "cell_type": "code",
      "source": [
        "! ls /content/drive/MyDrive/247_proj_cnn"
      ],
      "metadata": {
        "id": "SGYDc8vjMyqo",
        "colab": {
          "base_uri": "https://localhost:8080/"
        },
        "outputId": "24363db4-3d7a-4961-915c-9eed2dff499d"
      },
      "execution_count": null,
      "outputs": [
        {
          "output_type": "stream",
          "name": "stdout",
          "text": [
            "'CNN-LSTM Hybrid with data preprocessing.ipynb'   fold_4_best_acc.ckpt\n",
            "'CNN with data preprocessing.ipynb'\t\t  person_test.npy\n",
            " EEG_loading.ipynb\t\t\t\t  person_train_valid.npy\n",
            " fold_0_best_acc.ckpt\t\t\t\t  X_test.npy\n",
            " fold_1_best_acc.ckpt\t\t\t\t  X_train_valid.npy\n",
            " fold_2_best_acc.ckpt\t\t\t\t  y_test.npy\n",
            " fold_3_best_acc.ckpt\t\t\t\t  y_train_valid.npy\n"
          ]
        }
      ]
    },
    {
      "cell_type": "code",
      "source": [
        "os.chdir('/content/drive/MyDrive/247_proj_cnn')"
      ],
      "metadata": {
        "id": "F9DcuRkYN7bd"
      },
      "execution_count": null,
      "outputs": []
    },
    {
      "cell_type": "code",
      "source": [
        "X_train_valid = np.load('X_train_valid.npy')\n",
        "y_train_valid = np.load('y_train_valid.npy')"
      ],
      "metadata": {
        "id": "ARbCBpxBOFfI"
      },
      "execution_count": null,
      "outputs": []
    },
    {
      "cell_type": "code",
      "source": [
        "X_train_valid.shape"
      ],
      "metadata": {
        "colab": {
          "base_uri": "https://localhost:8080/"
        },
        "id": "qeC3Hmd0jUX_",
        "outputId": "6964580f-f7d9-4433-f054-c0fcc7d96928"
      },
      "execution_count": null,
      "outputs": [
        {
          "output_type": "execute_result",
          "data": {
            "text/plain": [
              "(2115, 22, 1000)"
            ]
          },
          "metadata": {},
          "execution_count": 10
        }
      ]
    },
    {
      "cell_type": "code",
      "source": [
        "X_test = np.load('X_test.npy')\n",
        "y_test = np.load('y_test.npy')"
      ],
      "metadata": {
        "id": "AC__tJa3XUeV"
      },
      "execution_count": null,
      "outputs": []
    },
    {
      "cell_type": "code",
      "source": [
        "person_train_valid = np.load('person_train_valid.npy')\n",
        "person_test = np.load('person_test.npy')\n",
        "# only predict on subject one\n",
        "X_test = X_test[np.where(person_test==0)[0], :, :]\n",
        "y_test = y_test[np.where(person_test==0)[0]]"
      ],
      "metadata": {
        "id": "bEBkq0kRs8_4"
      },
      "execution_count": null,
      "outputs": []
    },
    {
      "cell_type": "markdown",
      "source": [
        "# Define dataset"
      ],
      "metadata": {
        "id": "ObweIGWkp7Ki"
      }
    },
    {
      "cell_type": "code",
      "source": [
        "class BCIDataset(Dataset):\n",
        "    def __init__(self, X, y):\n",
        "        self.X = X\n",
        "        self.y = y\n",
        "        self.encode_class = {769:0, 770:1, 771:2, 772:3}\n",
        "\n",
        "    def __len__(self):\n",
        "        return self.X.shape[0]\n",
        "\n",
        "    def __getitem__(self, index):\n",
        "        x = torch.tensor(self.X[index,:,:]).float()\n",
        "        y = self.y[index]\n",
        "        y = self.encode_class[y]\n",
        "        y = torch.tensor(y).long()\n",
        "        # return x, y\n",
        "        return x.unsqueeze(2), y\n",
        "        # return torch.stack([x,x,x]), y\n"
      ],
      "metadata": {
        "id": "HAz0VsYUkg0o"
      },
      "execution_count": null,
      "outputs": []
    },
    {
      "cell_type": "code",
      "source": [
        "plt.figure(figsize=(12,8))\n",
        "plt.imshow(next(iter(BCIDataset(X_test, y_test)))[0], cmap='gray')"
      ],
      "metadata": {
        "colab": {
          "base_uri": "https://localhost:8080/",
          "height": 84
        },
        "id": "sw9svrNDX-Rn",
        "outputId": "3217aefa-29e2-44e8-fd42-6a2d713abbbb"
      },
      "execution_count": null,
      "outputs": [
        {
          "output_type": "execute_result",
          "data": {
            "text/plain": [
              "<matplotlib.image.AxesImage at 0x7f335d446c40>"
            ]
          },
          "metadata": {},
          "execution_count": 14
        },
        {
          "output_type": "display_data",
          "data": {
            "text/plain": [
              "<Figure size 864x576 with 1 Axes>"
            ],
            "image/png": "[encoded data removed]"
          },
          "metadata": {
            "needs_background": "light"
          }
        }
      ]
    },
    {
      "cell_type": "markdown",
      "source": [
        "# Define model"
      ],
      "metadata": {
        "id": "DXxzlcX5p8Y_"
      }
    },
    {
      "cell_type": "code",
      "source": [
        "import torch.nn as nn\n",
        "\n",
        "class ResidualBlock(nn.Module):\n",
        "    def __init__(self, in_channels, out_channels, stride=1):\n",
        "        super(ResidualBlock, self).__init__()\n",
        "        self.conv1 = nn.Conv2d(in_channels, out_channels, kernel_size=3, stride=stride, padding=1, bias=False)\n",
        "        self.bn1 = nn.BatchNorm2d(out_channels)\n",
        "        self.relu = nn.ELU(inplace=True)\n",
        "        self.conv2 = nn.Conv2d(out_channels, out_channels, kernel_size=3, stride=1, padding=1, bias=False)\n",
        "        self.bn2 = nn.BatchNorm2d(out_channels)\n",
        "        self.stride = stride\n",
        "\n",
        "        if stride != 1 or in_channels != out_channels:\n",
        "            self.shortcut = nn.Sequential(\n",
        "                nn.Conv2d(in_channels, out_channels, kernel_size=1, stride=stride, bias=False),\n",
        "                nn.BatchNorm2d(out_channels)\n",
        "            )\n",
        "        else:\n",
        "            self.shortcut = nn.Identity()\n",
        "\n",
        "    def forward(self, x):\n",
        "        residual = x\n",
        "\n",
        "        out = self.conv1(x)\n",
        "        out = self.bn1(out)\n",
        "        out = self.relu(out)\n",
        "\n",
        "        out = self.conv2(out)\n",
        "        out = self.bn2(out)\n",
        "\n",
        "        out += self.shortcut(residual)\n",
        "        out = self.relu(out)\n",
        "\n",
        "        return out\n",
        "\n",
        "class ERUConv(nn.Module):\n",
        "    def __init__(self, in_channel, out_channel, kernel_size, mp_kernal_size, padding, dropout):\n",
        "        super().__init__()\n",
        "        self.conv = nn.Conv2d(in_channel, out_channel, \n",
        "                              kernel_size = kernel_size, padding=padding)\n",
        "        nn.init.xavier_uniform_(self.conv.weight)\n",
        "        self.elu = nn.ELU()\n",
        "        self.maxpool = nn.MaxPool2d(kernel_size = mp_kernal_size)\n",
        "        self.BN = nn.BatchNorm2d(out_channel)\n",
        "        self.dropout = nn.Dropout(p=dropout)\n",
        "    \n",
        "    def forward(self, x):\n",
        "        x = self.elu(self.conv(x))\n",
        "        x = self.maxpool(x)\n",
        "        x = self.BN(x)\n",
        "        x = self.dropout(x)\n",
        "        return x\n",
        "\n",
        "class ResTemporalCNN(nn.Module):\n",
        "    def __init__(self, drop_out):\n",
        "        super().__init__()\n",
        "\n",
        "        self.conv_temp = nn.Conv2d(1, 1, (1, 5), stride = (1, 3)) # 3\n",
        "        self.elu = nn.ELU()\n",
        "        nn.init.xavier_uniform_(self.conv_temp.weight)\n",
        "\n",
        "        self.res1 = ResidualBlock(22, 44)\n",
        "        self.conv1 = ERUConv(44, 88, (10, 1), (2, 1), 'same', drop_out)\n",
        "        self.conv2 = ERUConv(88, 168, (10, 1), (2, 1), 'same', drop_out)\n",
        "        self.conv3 = ERUConv(168, 384, (10, 1), (2, 1), 'same', drop_out)\n",
        "        \n",
        "        self.fc = nn.Sequential(\n",
        "            nn.Linear(384*41, 64), \n",
        "            nn.BatchNorm1d(64),\n",
        "            nn.ELU(),\n",
        "            nn.Dropout(drop_out),\n",
        "            nn.Linear(64,32),\n",
        "            nn.BatchNorm1d(32),\n",
        "            nn.ELU(),\n",
        "            nn.Dropout(0.2),\n",
        "            nn.Linear(32,4)\n",
        "        )\n",
        "    \n",
        "    def forward(self, x):\n",
        "        x = self.conv_temp(x.permute(0,3,1,2))\n",
        "        # print(x.shape)\n",
        "        # x = self.elu(x)\n",
        "        x = x.permute(0,2,3,1)\n",
        "\n",
        "        x = self.res1(x)\n",
        "       #  print(x.shape)\n",
        "        x = self.conv1(x)\n",
        "        # print(x.shape)\n",
        "        x = self.conv2(x)\n",
        "        # print(x.shape)\n",
        "        x = self.conv3(x)\n",
        "        # print(x.shape)\n",
        "        # print(x.shape)\n",
        "        bs = x.size(0)\n",
        "        x = x.view(bs, -1)\n",
        "        x = self.fc(x)\n",
        "\n",
        "        return x\n",
        "\n",
        "model = ResTemporalCNN(0.5)\n",
        "model(torch.randn(2,22,1000,1))"
      ],
      "metadata": {
        "colab": {
          "base_uri": "https://localhost:8080/"
        },
        "id": "i0NXXQjdkt_S",
        "outputId": "440402c5-076d-4b05-be6e-2cc297a06de4"
      },
      "execution_count": null,
      "outputs": [
        {
          "output_type": "execute_result",
          "data": {
            "text/plain": [
              "tensor([[-0.1663,  1.2533,  0.2170, -1.0739],\n",
              "        [-0.5134, -0.7631, -0.1363,  0.7020]], grad_fn=<AddmmBackward0>)"
            ]
          },
          "metadata": {},
          "execution_count": 19
        }
      ]
    },
    {
      "cell_type": "markdown",
      "source": [
        "# Training and validation"
      ],
      "metadata": {
        "id": "X79MQadLp3KH"
      }
    },
    {
      "cell_type": "markdown",
      "source": [
        "## training configurations"
      ],
      "metadata": {
        "id": "H36St9mpuYFw"
      }
    },
    {
      "cell_type": "code",
      "source": [
        "num_epochs = 100\n",
        "lr=0.005\n",
        "drop_out = 0.5\n",
        "k = 5 # number of folds\n",
        "batch_size = 64\n",
        "num_worker = 8"
      ],
      "metadata": {
        "id": "dj7yBLfemCja"
      },
      "execution_count": null,
      "outputs": []
    },
    {
      "cell_type": "code",
      "source": [
        "def train_valid_fold(X_train, y_train, X_valid, y_valid, fold_id):\n",
        "    print('Building dataset...')\n",
        "    bcidataset_train = BCIDataset(X_train, y_train)\n",
        "    bcidataset_train_dl = torch.utils.data.DataLoader(bcidataset_train, batch_size=batch_size, num_workers=num_worker, shuffle=True)\n",
        "    bcidataset_test = BCIDataset(X_valid, y_valid)\n",
        "    bcidataset_test_dl = torch.utils.data.DataLoader(bcidataset_test, batch_size=batch_size, num_workers=num_worker, shuffle=False)\n",
        "\n",
        "    print('Create new model...')\n",
        "    model = ResTemporalCNN(drop_out)\n",
        "    model = model.cuda()\n",
        "\n",
        "    print('Setting up loss function, optimizer and scheduler...')\n",
        "    criterion = nn.CrossEntropyLoss()\n",
        "    optimizer = optim.Adam(model.parameters(), lr=lr)\n",
        "    scheduler = optim.lr_scheduler.CosineAnnealingLR(optimizer, T_max=num_epochs,)\n",
        "\n",
        "    # Training loop\n",
        "    accuracy_list = []\n",
        "    loss_by_epoch = []\n",
        "    val_loss_by_epoch = []\n",
        "    max_accuracy = 0\n",
        "    best_model = model\n",
        "    for epoch in tqdm(range(num_epochs)):\n",
        "        losses = []\n",
        "        model.train()\n",
        "        for i, (inputs, labels) in enumerate(bcidataset_train_dl):\n",
        "            inputs = inputs.cuda()\n",
        "            labels = labels.cuda()\n",
        "            optimizer.zero_grad()\n",
        "            outputs = model(inputs)\n",
        "            loss = criterion(outputs, labels)\n",
        "            loss.backward()\n",
        "            optimizer.step()\n",
        "            losses.append(loss.item())\n",
        "        loss = np.mean(losses)\n",
        "        loss_by_epoch.append(loss)\n",
        "        \n",
        "        # validate with the testing dataset\n",
        "        predicted_label = []\n",
        "        actual_label = []\n",
        "        model.eval()\n",
        "        val_losses = []\n",
        "        for i, (inputs, labels) in enumerate(bcidataset_test_dl):\n",
        "            inputs = inputs.cuda()\n",
        "            actual_label += labels.tolist()\n",
        "            labels = labels.cuda()\n",
        "            outputs = model(inputs)\n",
        "            loss = criterion(outputs, labels)\n",
        "            val_losses.append(loss.item())\n",
        "            predicted = outputs.argmax(1)\n",
        "            predicted_label += predicted.cpu().numpy().tolist()\n",
        "        val_loss_by_epoch.append(np.mean(losses))\n",
        "        predicted_label = torch.tensor(predicted_label)\n",
        "        actual_label = torch.tensor(actual_label)\n",
        "        accuracy = (np.array(actual_label) == np.array(predicted_label)).sum() / len(predicted_label)\n",
        "        if accuracy > max_accuracy:\n",
        "            print(f'Better accuracy found ({max_accuracy} -> {accuracy}), best model saved.')\n",
        "            max_accuracy = accuracy\n",
        "            torch.save(model.state_dict(), f'fold_{fold_id}_best_acc.ckpt')\n",
        "        accuracy_list.append(accuracy)\n",
        "        scheduler.step()\n",
        "\n",
        "    axes[0].plot(accuracy_list)\n",
        "    axes[0].set_xlabel('Epoch')\n",
        "    axes[0].set_ylabel('Validation Accuracy')\n",
        "    \n",
        "    axes[1].plot(np.arange(10, num_epochs), loss_by_epoch[10:])\n",
        "    axes[1].set_xlabel('Epoch')\n",
        "    axes[1].set_ylabel('Training Loss')\n",
        "\n",
        "    axes[2].plot(np.arange(10, num_epochs), val_loss_by_epoch[10:])\n",
        "    axes[2].set_xlabel('Epoch')\n",
        "    axes[2].set_ylabel('Validation Loss')\n",
        "\n"
      ],
      "metadata": {
        "id": "m_2qHFw9lk1o"
      },
      "execution_count": null,
      "outputs": []
    },
    {
      "cell_type": "code",
      "source": [
        "from sklearn.model_selection import KFold\n",
        "\n",
        "# Split the data into k folds\n",
        "kf = KFold(n_splits=k, shuffle=True, random_state=42)\n",
        "\n",
        "fig, axes = plt.subplots(1, 3, figsize=(20, 5))\n",
        "axes = axes.flatten()\n",
        "\n",
        "# Loop over each fold\n",
        "for fold, (train_index, test_index) in enumerate(kf.split(X_train_valid)):\n",
        "\n",
        "    # Get the training and test sets for this fold\n",
        "    X_train, X_valid = X_train_valid[train_index], X_train_valid[test_index]\n",
        "    y_train, y_valid = y_train_valid[train_index], y_train_valid[test_index]\n",
        "    train_valid_fold(X_train, y_train, X_valid, y_valid, fold)"
      ],
      "metadata": {
        "colab": {
          "base_uri": "https://localhost:8080/",
          "height": 1000,
          "referenced_widgets": [
            "de83de83bd674840bd9dd30352bd4caa",
            "5573a98e134b40df9742e46ee003e083",
            "0a4422e364df431d8c49034153cc80b8",
            "eebc1edcd78b44eda1836bffe76b0bfb",
            "b1d4951bef8142309e5179ac1304c31f",
            "2874a991b5ed4398b6751bbe644e5578",
            "108601f4337045349409fb4bff9c5fa1",
            "18724ff62fa54c7dbb1e91be4e14b45a",
            "638277b0addb4539a93e587d75d5878f",
            "b88d65e2bf0a4171b42046dbe5146ac0",
            "43f3d72d24ff461f837b887f394127a5",
            "8aefee7a58c84777832c9769b974bacc",
            "23c7c0b657a145a9a5c5a3ea56843c2e",
            "4f1c38fccd46459fbfaa0ce345912a80",
            "c4f56ee286fd49469c1cc458e27bec4c",
            "6b11c6ae39754403b69c09594dd0c7ab",
            "b02f9b6e68d54c94847e8624d99ea690",
            "efdf7df345f84e6ca54065aebd2bf85b",
            "cc0fcebddf124045ba49969d59b6b28d",
            "35e5296e297f40ce9d30cdc2b3f6ad85",
            "71a7911d12fa49a492251d180657bfe7",
            "fa737254cff84aa4bc172dd3ff76a79c",
            "9a4005d843cd4ee3b9d33d05ff0ab216",
            "2bef8cbd35c64eed860ff5e3dc3ae63d",
            "7ebfc8a357c34b1297c91d5ff088bc95",
            "cd626e9c4964459683d6acdf56665c8a",
            "3aeb5f1a4b224a97a2ac7ef7b48d595b",
            "240d95b128d04bbaa88924855a25e08f",
            "d9f7cb61a58a41919c51461977b9f5bb",
            "a8ded5b39c6a462ea27bd52f3804f776",
            "f6a1a637d02c40af941533184bde78be",
            "cc451d074a54414d8cc43eab1bb001d7",
            "765d5e54a1624adfbc29672c97ff95f6",
            "44257f4063df423d85bb6a355b5607fd",
            "a38873fc289f4acb83e1bbbe8d91d238",
            "7b0bfaeccd3443ec80a87535ae5c1e40",
            "b2eac705f2e24b75bdf3e3d91357467b",
            "6075fa3fc4b44ca6b3a428e6d90de67c",
            "6cfb28aa85784a1baf8200dc19058006",
            "aea88124ead641fd972e92f7c3286cd4",
            "a2fa3f3d52e84361b0a7e129f5069e86",
            "aa3c9005a18b4bcc997dcabb6deecff0",
            "3454a5049bd0496a8e84938f7ae6f928",
            "9605dc4260064d729f8dc397e22e0eac",
            "2d6ec994429f42a8b1fe9f0a2169d98f",
            "7a515f1df5804b79bbb9335ccf26b7ea",
            "904d1fba28c9402698549b30ac265ccf",
            "38bbb208b3ab43f69b9f429d655c3171",
            "f79f104ce67c4465aa73373e8d155332",
            "ef1e3a56a7c44a36bec4de05a686da67",
            "0b86e6b263b84f0cb1f4f53a5a4ccb9b",
            "e17f18578d4b4c97aa5b68ed9211bcb5",
            "7c7d92a4096049c3bdba41a05c4eec91",
            "bd8022c7cede4eed90d0e5444b33ca6d",
            "9189b5804fd345789d020461d523a09f"
          ]
        },
        "id": "fPmLYFNVo5Vz",
        "outputId": "e0450b8a-1af9-4254-810d-25fc979d58c2"
      },
      "execution_count": null,
      "outputs": [
        {
          "output_type": "stream",
          "name": "stdout",
          "text": [
            "Building dataset...\n",
            "Create new model...\n",
            "Setting up loss function, optimizer and scheduler...\n"
          ]
        },
        {
          "output_type": "display_data",
          "data": {
            "text/plain": [
              "  0%|          | 0/100 [00:00<?, ?it/s]"
            ],
            "application/vnd.jupyter.widget-view+json": {
              "version_major": 2,
              "version_minor": 0,
              "model_id": "de83de83bd674840bd9dd30352bd4caa"
            }
          },
          "metadata": {}
        },
        {
          "output_type": "stream",
          "name": "stdout",
          "text": [
            "Better accuracy found (0 -> 0.3900709219858156), best model saved.\n",
            "Better accuracy found (0.3900709219858156 -> 0.4444444444444444), best model saved.\n",
            "Better accuracy found (0.4444444444444444 -> 0.5035460992907801), best model saved.\n",
            "Better accuracy found (0.5035460992907801 -> 0.5130023640661938), best model saved.\n",
            "Better accuracy found (0.5130023640661938 -> 0.5555555555555556), best model saved.\n",
            "Better accuracy found (0.5555555555555556 -> 0.574468085106383), best model saved.\n",
            "Better accuracy found (0.574468085106383 -> 0.5768321513002365), best model saved.\n",
            "Better accuracy found (0.5768321513002365 -> 0.5933806146572104), best model saved.\n",
            "Better accuracy found (0.5933806146572104 -> 0.5957446808510638), best model saved.\n",
            "Better accuracy found (0.5957446808510638 -> 0.6028368794326241), best model saved.\n",
            "Better accuracy found (0.6028368794326241 -> 0.6312056737588653), best model saved.\n",
            "Better accuracy found (0.6312056737588653 -> 0.6643026004728132), best model saved.\n",
            "Better accuracy found (0.6643026004728132 -> 0.6666666666666666), best model saved.\n",
            "Better accuracy found (0.6666666666666666 -> 0.6690307328605201), best model saved.\n",
            "Better accuracy found (0.6690307328605201 -> 0.6808510638297872), best model saved.\n",
            "Better accuracy found (0.6808510638297872 -> 0.6832151300236406), best model saved.\n",
            "Better accuracy found (0.6832151300236406 -> 0.6903073286052009), best model saved.\n",
            "Building dataset...\n",
            "Create new model...\n",
            "Setting up loss function, optimizer and scheduler...\n"
          ]
        },
        {
          "output_type": "display_data",
          "data": {
            "text/plain": [
              "  0%|          | 0/100 [00:00<?, ?it/s]"
            ],
            "application/vnd.jupyter.widget-view+json": {
              "version_major": 2,
              "version_minor": 0,
              "model_id": "8aefee7a58c84777832c9769b974bacc"
            }
          },
          "metadata": {}
        },
        {
          "output_type": "stream",
          "name": "stdout",
          "text": [
            "Better accuracy found (0 -> 0.2718676122931442), best model saved.\n",
            "Better accuracy found (0.2718676122931442 -> 0.37115839243498816), best model saved.\n",
            "Better accuracy found (0.37115839243498816 -> 0.39952718676122934), best model saved.\n",
            "Better accuracy found (0.39952718676122934 -> 0.41371158392434987), best model saved.\n",
            "Better accuracy found (0.41371158392434987 -> 0.43498817966903075), best model saved.\n",
            "Better accuracy found (0.43498817966903075 -> 0.47754137115839246), best model saved.\n",
            "Better accuracy found (0.47754137115839246 -> 0.48699763593380613), best model saved.\n",
            "Better accuracy found (0.48699763593380613 -> 0.5153664302600472), best model saved.\n",
            "Better accuracy found (0.5153664302600472 -> 0.5484633569739953), best model saved.\n",
            "Better accuracy found (0.5484633569739953 -> 0.5791962174940898), best model saved.\n",
            "Better accuracy found (0.5791962174940898 -> 0.6028368794326241), best model saved.\n",
            "Better accuracy found (0.6028368794326241 -> 0.6146572104018913), best model saved.\n",
            "Better accuracy found (0.6146572104018913 -> 0.640661938534279), best model saved.\n",
            "Better accuracy found (0.640661938534279 -> 0.6501182033096927), best model saved.\n",
            "Better accuracy found (0.6501182033096927 -> 0.6595744680851063), best model saved.\n",
            "Better accuracy found (0.6595744680851063 -> 0.6619385342789598), best model saved.\n",
            "Better accuracy found (0.6619385342789598 -> 0.6643026004728132), best model saved.\n",
            "Better accuracy found (0.6643026004728132 -> 0.6832151300236406), best model saved.\n",
            "Building dataset...\n",
            "Create new model...\n",
            "Setting up loss function, optimizer and scheduler...\n"
          ]
        },
        {
          "output_type": "display_data",
          "data": {
            "text/plain": [
              "  0%|          | 0/100 [00:00<?, ?it/s]"
            ],
            "application/vnd.jupyter.widget-view+json": {
              "version_major": 2,
              "version_minor": 0,
              "model_id": "9a4005d843cd4ee3b9d33d05ff0ab216"
            }
          },
          "metadata": {}
        },
        {
          "output_type": "stream",
          "name": "stdout",
          "text": [
            "Better accuracy found (0 -> 0.3806146572104019), best model saved.\n",
            "Better accuracy found (0.3806146572104019 -> 0.4657210401891253), best model saved.\n",
            "Better accuracy found (0.4657210401891253 -> 0.4988179669030733), best model saved.\n",
            "Better accuracy found (0.4988179669030733 -> 0.5366430260047281), best model saved.\n",
            "Better accuracy found (0.5366430260047281 -> 0.5721040189125296), best model saved.\n",
            "Better accuracy found (0.5721040189125296 -> 0.5768321513002365), best model saved.\n",
            "Better accuracy found (0.5768321513002365 -> 0.5815602836879432), best model saved.\n",
            "Better accuracy found (0.5815602836879432 -> 0.5910165484633569), best model saved.\n",
            "Better accuracy found (0.5910165484633569 -> 0.6146572104018913), best model saved.\n",
            "Better accuracy found (0.6146572104018913 -> 0.6264775413711584), best model saved.\n",
            "Better accuracy found (0.6264775413711584 -> 0.6312056737588653), best model saved.\n",
            "Better accuracy found (0.6312056737588653 -> 0.6477541371158393), best model saved.\n",
            "Better accuracy found (0.6477541371158393 -> 0.6572104018912529), best model saved.\n",
            "Better accuracy found (0.6572104018912529 -> 0.6595744680851063), best model saved.\n",
            "Better accuracy found (0.6595744680851063 -> 0.6666666666666666), best model saved.\n",
            "Building dataset...\n",
            "Create new model...\n",
            "Setting up loss function, optimizer and scheduler...\n"
          ]
        },
        {
          "output_type": "display_data",
          "data": {
            "text/plain": [
              "  0%|          | 0/100 [00:00<?, ?it/s]"
            ],
            "application/vnd.jupyter.widget-view+json": {
              "version_major": 2,
              "version_minor": 0,
              "model_id": "44257f4063df423d85bb6a355b5607fd"
            }
          },
          "metadata": {}
        },
        {
          "output_type": "stream",
          "name": "stdout",
          "text": [
            "Better accuracy found (0 -> 0.32860520094562645), best model saved.\n",
            "Better accuracy found (0.32860520094562645 -> 0.4491725768321513), best model saved.\n",
            "Better accuracy found (0.4491725768321513 -> 0.45390070921985815), best model saved.\n",
            "Better accuracy found (0.45390070921985815 -> 0.4657210401891253), best model saved.\n",
            "Better accuracy found (0.4657210401891253 -> 0.541371158392435), best model saved.\n",
            "Better accuracy found (0.541371158392435 -> 0.5555555555555556), best model saved.\n",
            "Better accuracy found (0.5555555555555556 -> 0.574468085106383), best model saved.\n",
            "Better accuracy found (0.574468085106383 -> 0.6028368794326241), best model saved.\n",
            "Better accuracy found (0.6028368794326241 -> 0.6193853427895981), best model saved.\n",
            "Better accuracy found (0.6193853427895981 -> 0.624113475177305), best model saved.\n",
            "Better accuracy found (0.624113475177305 -> 0.6335697399527187), best model saved.\n",
            "Better accuracy found (0.6335697399527187 -> 0.6359338061465721), best model saved.\n",
            "Better accuracy found (0.6359338061465721 -> 0.640661938534279), best model saved.\n",
            "Better accuracy found (0.640661938534279 -> 0.6430260047281324), best model saved.\n",
            "Better accuracy found (0.6430260047281324 -> 0.6453900709219859), best model saved.\n",
            "Better accuracy found (0.6453900709219859 -> 0.6619385342789598), best model saved.\n",
            "Better accuracy found (0.6619385342789598 -> 0.6643026004728132), best model saved.\n",
            "Better accuracy found (0.6643026004728132 -> 0.6666666666666666), best model saved.\n",
            "Better accuracy found (0.6666666666666666 -> 0.6832151300236406), best model saved.\n",
            "Better accuracy found (0.6832151300236406 -> 0.6855791962174941), best model saved.\n",
            "Better accuracy found (0.6855791962174941 -> 0.6950354609929078), best model saved.\n",
            "Building dataset...\n",
            "Create new model...\n",
            "Setting up loss function, optimizer and scheduler...\n"
          ]
        },
        {
          "output_type": "display_data",
          "data": {
            "text/plain": [
              "  0%|          | 0/100 [00:00<?, ?it/s]"
            ],
            "application/vnd.jupyter.widget-view+json": {
              "version_major": 2,
              "version_minor": 0,
              "model_id": "2d6ec994429f42a8b1fe9f0a2169d98f"
            }
          },
          "metadata": {}
        },
        {
          "output_type": "stream",
          "name": "stdout",
          "text": [
            "Better accuracy found (0 -> 0.46099290780141844), best model saved.\n",
            "Better accuracy found (0.46099290780141844 -> 0.48226950354609927), best model saved.\n",
            "Better accuracy found (0.48226950354609927 -> 0.5484633569739953), best model saved.\n",
            "Better accuracy found (0.5484633569739953 -> 0.5839243498817966), best model saved.\n",
            "Better accuracy found (0.5839243498817966 -> 0.6004728132387707), best model saved.\n",
            "Better accuracy found (0.6004728132387707 -> 0.6217494089834515), best model saved.\n",
            "Better accuracy found (0.6217494089834515 -> 0.6430260047281324), best model saved.\n",
            "Better accuracy found (0.6430260047281324 -> 0.6855791962174941), best model saved.\n",
            "Better accuracy found (0.6855791962174941 -> 0.7139479905437353), best model saved.\n",
            "Better accuracy found (0.7139479905437353 -> 0.7281323877068558), best model saved.\n",
            "Better accuracy found (0.7281323877068558 -> 0.7304964539007093), best model saved.\n",
            "Better accuracy found (0.7304964539007093 -> 0.7423167848699763), best model saved.\n",
            "Better accuracy found (0.7423167848699763 -> 0.7494089834515366), best model saved.\n",
            "Better accuracy found (0.7494089834515366 -> 0.7565011820330969), best model saved.\n",
            "Better accuracy found (0.7565011820330969 -> 0.7635933806146572), best model saved.\n",
            "Better accuracy found (0.7635933806146572 -> 0.7730496453900709), best model saved.\n",
            "Better accuracy found (0.7730496453900709 -> 0.7754137115839244), best model saved.\n"
          ]
        },
        {
          "output_type": "display_data",
          "data": {
            "text/plain": [
              "<Figure size 1440x360 with 3 Axes>"
            ],
            "image/png": "[encoded data removed]"
          },
          "metadata": {
            "needs_background": "light"
          }
        }
      ]
    },
    {
      "cell_type": "markdown",
      "source": [
        "# Predict the test dataset"
      ],
      "metadata": {
        "id": "Xd2TaycZpzUU"
      }
    },
    {
      "cell_type": "code",
      "source": [
        "bcidataset_test = BCIDataset(X_test, y_test)\n",
        "bcidataset_test_dl = torch.utils.data.DataLoader(bcidataset_test, batch_size=64, num_workers=8, shuffle=False)"
      ],
      "metadata": {
        "id": "8y4AJkRoqS3U"
      },
      "execution_count": null,
      "outputs": []
    },
    {
      "cell_type": "code",
      "source": [
        "pred_proba_list = []\n",
        "for fold_id in range(k):\n",
        "    model = ResTemporalCNN(drop_out)\n",
        "    model.load_state_dict(torch.load(f'fold_{fold_id}_best_acc.ckpt'))\n",
        "    model = model.cuda()\n",
        "    # validate with the testing dataset\n",
        "    predicted_label = []\n",
        "    predicted_proba = []\n",
        "    actual_label = []\n",
        "    model.eval()\n",
        "    for i, (inputs, labels) in enumerate(bcidataset_test_dl):\n",
        "        inputs = inputs.cuda()\n",
        "        actual_label += labels.tolist()\n",
        "        outputs = model(inputs)\n",
        "        predicted_label += outputs.argmax(1).cpu().numpy().tolist()\n",
        "        predicted_proba += outputs.softmax(1).cpu().tolist()\n",
        "    pred_proba_list.append(predicted_proba)"
      ],
      "metadata": {
        "id": "UyYYXHJSK2d9"
      },
      "execution_count": null,
      "outputs": []
    },
    {
      "cell_type": "code",
      "source": [
        "test_accuracy = (np.array(pred_proba_list).mean(0).argmax(1) == np.array(actual_label)).sum() / len(np.array(actual_label))"
      ],
      "metadata": {
        "id": "wVFdJp6rs6j3"
      },
      "execution_count": null,
      "outputs": []
    },
    {
      "cell_type": "code",
      "source": [
        "print(f'Final test accuracy is {test_accuracy: .5f}')"
      ],
      "metadata": {
        "colab": {
          "base_uri": "https://localhost:8080/"
        },
        "id": "LLhDhdRItVFm",
        "outputId": "0879b254-83c1-4a96-c470-824a7b3bfa2f"
      },
      "execution_count": null,
      "outputs": [
        {
          "output_type": "stream",
          "name": "stdout",
          "text": [
            "Final test accuracy is  0.66000\n"
          ]
        }
      ]
    },
    {
      "cell_type": "code",
      "source": [
        "from sklearn.metrics import confusion_matrix\n",
        "cf_matrix = confusion_matrix(np.array(actual_label), np.array(pred_proba_list).mean(0).argmax(1))\n",
        "\n",
        "sns.heatmap(cf_matrix/np.sum(cf_matrix), annot=True, \n",
        "            fmt='.2%', cmap='Blues')"
      ],
      "metadata": {
        "colab": {
          "base_uri": "https://localhost:8080/",
          "height": 287
        },
        "id": "7A5fQjWrt4eQ",
        "outputId": "f114e2c4-d0fa-4042-e817-627ea70e1971"
      },
      "execution_count": null,
      "outputs": [
        {
          "output_type": "execute_result",
          "data": {
            "text/plain": [
              "<Axes: >"
            ]
          },
          "metadata": {},
          "execution_count": 27
        },
        {
          "output_type": "display_data",
          "data": {
            "text/plain": [
              "<Figure size 432x288 with 2 Axes>"
            ],
            "image/png": "[encoded data removed]"
          },
          "metadata": {
            "needs_background": "light"
          }
        }
      ]
    },
    {
      "cell_type": "code",
      "source": [],
      "metadata": {
        "id": "LniUSgonzj8g"
      },
      "execution_count": null,
      "outputs": []
    }
  ]
}
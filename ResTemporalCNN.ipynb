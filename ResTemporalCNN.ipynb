{
  "nbformat": 4,
  "nbformat_minor": 0,
  "metadata": {
    "colab": {
      "provenance": [],
      "machine_shape": "hm"
    },
    "kernelspec": {
      "name": "python3",
      "display_name": "Python 3"
    },
    "language_info": {
      "name": "python"
    },
    "accelerator": "GPU",
    "gpuClass": "standard",
    "widgets": {
      "application/vnd.jupyter.widget-state+json": {
        "59c7b4913c634c25bfbd616ebab6195d": {
          "model_module": "@jupyter-widgets/controls",
          "model_name": "HBoxModel",
          "model_module_version": "1.5.0",
          "state": {
            "_dom_classes": [],
            "_model_module": "@jupyter-widgets/controls",
            "_model_module_version": "1.5.0",
            "_model_name": "HBoxModel",
            "_view_count": null,
            "_view_module": "@jupyter-widgets/controls",
            "_view_module_version": "1.5.0",
            "_view_name": "HBoxView",
            "box_style": "",
            "children": [
              "IPY_MODEL_ae7d7dc707984b60ba308e70c8f97421",
              "IPY_MODEL_bbb23529d17a40ef87fb7776bc969a35",
              "IPY_MODEL_abcbbd8a25d24ef3b472aaecd56a90ae"
            ],
            "layout": "IPY_MODEL_14feb497b29d4c19b7412a2e7db2e328"
          }
        },
        "ae7d7dc707984b60ba308e70c8f97421": {
          "model_module": "@jupyter-widgets/controls",
          "model_name": "HTMLModel",
          "model_module_version": "1.5.0",
          "state": {
            "_dom_classes": [],
            "_model_module": "@jupyter-widgets/controls",
            "_model_module_version": "1.5.0",
            "_model_name": "HTMLModel",
            "_view_count": null,
            "_view_module": "@jupyter-widgets/controls",
            "_view_module_version": "1.5.0",
            "_view_name": "HTMLView",
            "description": "",
            "description_tooltip": null,
            "layout": "IPY_MODEL_3c846498def9411cb3a0bdbd0a969429",
            "placeholder": "​",
            "style": "IPY_MODEL_b82c21260f2d45139573d307bae738f7",
            "value": "100%"
          }
        },
        "bbb23529d17a40ef87fb7776bc969a35": {
          "model_module": "@jupyter-widgets/controls",
          "model_name": "FloatProgressModel",
          "model_module_version": "1.5.0",
          "state": {
            "_dom_classes": [],
            "_model_module": "@jupyter-widgets/controls",
            "_model_module_version": "1.5.0",
            "_model_name": "FloatProgressModel",
            "_view_count": null,
            "_view_module": "@jupyter-widgets/controls",
            "_view_module_version": "1.5.0",
            "_view_name": "ProgressView",
            "bar_style": "success",
            "description": "",
            "description_tooltip": null,
            "layout": "IPY_MODEL_ddd8d404c6494721b3ddddcad4b47bf7",
            "max": 100,
            "min": 0,
            "orientation": "horizontal",
            "style": "IPY_MODEL_6521350d9f60489e87f1bc8759bd7299",
            "value": 100
          }
        },
        "abcbbd8a25d24ef3b472aaecd56a90ae": {
          "model_module": "@jupyter-widgets/controls",
          "model_name": "HTMLModel",
          "model_module_version": "1.5.0",
          "state": {
            "_dom_classes": [],
            "_model_module": "@jupyter-widgets/controls",
            "_model_module_version": "1.5.0",
            "_model_name": "HTMLModel",
            "_view_count": null,
            "_view_module": "@jupyter-widgets/controls",
            "_view_module_version": "1.5.0",
            "_view_name": "HTMLView",
            "description": "",
            "description_tooltip": null,
            "layout": "IPY_MODEL_1da49a8939a24618ae8992f95c1f0215",
            "placeholder": "​",
            "style": "IPY_MODEL_58dcb10c78824404871e16b64fcd90f0",
            "value": " 100/100 [02:52&lt;00:00,  1.63s/it]"
          }
        },
        "14feb497b29d4c19b7412a2e7db2e328": {
          "model_module": "@jupyter-widgets/base",
          "model_name": "LayoutModel",
          "model_module_version": "1.2.0",
          "state": {
            "_model_module": "@jupyter-widgets/base",
            "_model_module_version": "1.2.0",
            "_model_name": "LayoutModel",
            "_view_count": null,
            "_view_module": "@jupyter-widgets/base",
            "_view_module_version": "1.2.0",
            "_view_name": "LayoutView",
            "align_content": null,
            "align_items": null,
            "align_self": null,
            "border": null,
            "bottom": null,
            "display": null,
            "flex": null,
            "flex_flow": null,
            "grid_area": null,
            "grid_auto_columns": null,
            "grid_auto_flow": null,
            "grid_auto_rows": null,
            "grid_column": null,
            "grid_gap": null,
            "grid_row": null,
            "grid_template_areas": null,
            "grid_template_columns": null,
            "grid_template_rows": null,
            "height": null,
            "justify_content": null,
            "justify_items": null,
            "left": null,
            "margin": null,
            "max_height": null,
            "max_width": null,
            "min_height": null,
            "min_width": null,
            "object_fit": null,
            "object_position": null,
            "order": null,
            "overflow": null,
            "overflow_x": null,
            "overflow_y": null,
            "padding": null,
            "right": null,
            "top": null,
            "visibility": null,
            "width": null
          }
        },
        "3c846498def9411cb3a0bdbd0a969429": {
          "model_module": "@jupyter-widgets/base",
          "model_name": "LayoutModel",
          "model_module_version": "1.2.0",
          "state": {
            "_model_module": "@jupyter-widgets/base",
            "_model_module_version": "1.2.0",
            "_model_name": "LayoutModel",
            "_view_count": null,
            "_view_module": "@jupyter-widgets/base",
            "_view_module_version": "1.2.0",
            "_view_name": "LayoutView",
            "align_content": null,
            "align_items": null,
            "align_self": null,
            "border": null,
            "bottom": null,
            "display": null,
            "flex": null,
            "flex_flow": null,
            "grid_area": null,
            "grid_auto_columns": null,
            "grid_auto_flow": null,
            "grid_auto_rows": null,
            "grid_column": null,
            "grid_gap": null,
            "grid_row": null,
            "grid_template_areas": null,
            "grid_template_columns": null,
            "grid_template_rows": null,
            "height": null,
            "justify_content": null,
            "justify_items": null,
            "left": null,
            "margin": null,
            "max_height": null,
            "max_width": null,
            "min_height": null,
            "min_width": null,
            "object_fit": null,
            "object_position": null,
            "order": null,
            "overflow": null,
            "overflow_x": null,
            "overflow_y": null,
            "padding": null,
            "right": null,
            "top": null,
            "visibility": null,
            "width": null
          }
        },
        "b82c21260f2d45139573d307bae738f7": {
          "model_module": "@jupyter-widgets/controls",
          "model_name": "DescriptionStyleModel",
          "model_module_version": "1.5.0",
          "state": {
            "_model_module": "@jupyter-widgets/controls",
            "_model_module_version": "1.5.0",
            "_model_name": "DescriptionStyleModel",
            "_view_count": null,
            "_view_module": "@jupyter-widgets/base",
            "_view_module_version": "1.2.0",
            "_view_name": "StyleView",
            "description_width": ""
          }
        },
        "ddd8d404c6494721b3ddddcad4b47bf7": {
          "model_module": "@jupyter-widgets/base",
          "model_name": "LayoutModel",
          "model_module_version": "1.2.0",
          "state": {
            "_model_module": "@jupyter-widgets/base",
            "_model_module_version": "1.2.0",
            "_model_name": "LayoutModel",
            "_view_count": null,
            "_view_module": "@jupyter-widgets/base",
            "_view_module_version": "1.2.0",
            "_view_name": "LayoutView",
            "align_content": null,
            "align_items": null,
            "align_self": null,
            "border": null,
            "bottom": null,
            "display": null,
            "flex": null,
            "flex_flow": null,
            "grid_area": null,
            "grid_auto_columns": null,
            "grid_auto_flow": null,
            "grid_auto_rows": null,
            "grid_column": null,
            "grid_gap": null,
            "grid_row": null,
            "grid_template_areas": null,
            "grid_template_columns": null,
            "grid_template_rows": null,
            "height": null,
            "justify_content": null,
            "justify_items": null,
            "left": null,
            "margin": null,
            "max_height": null,
            "max_width": null,
            "min_height": null,
            "min_width": null,
            "object_fit": null,
            "object_position": null,
            "order": null,
            "overflow": null,
            "overflow_x": null,
            "overflow_y": null,
            "padding": null,
            "right": null,
            "top": null,
            "visibility": null,
            "width": null
          }
        },
        "6521350d9f60489e87f1bc8759bd7299": {
          "model_module": "@jupyter-widgets/controls",
          "model_name": "ProgressStyleModel",
          "model_module_version": "1.5.0",
          "state": {
            "_model_module": "@jupyter-widgets/controls",
            "_model_module_version": "1.5.0",
            "_model_name": "ProgressStyleModel",
            "_view_count": null,
            "_view_module": "@jupyter-widgets/base",
            "_view_module_version": "1.2.0",
            "_view_name": "StyleView",
            "bar_color": null,
            "description_width": ""
          }
        },
        "1da49a8939a24618ae8992f95c1f0215": {
          "model_module": "@jupyter-widgets/base",
          "model_name": "LayoutModel",
          "model_module_version": "1.2.0",
          "state": {
            "_model_module": "@jupyter-widgets/base",
            "_model_module_version": "1.2.0",
            "_model_name": "LayoutModel",
            "_view_count": null,
            "_view_module": "@jupyter-widgets/base",
            "_view_module_version": "1.2.0",
            "_view_name": "LayoutView",
            "align_content": null,
            "align_items": null,
            "align_self": null,
            "border": null,
            "bottom": null,
            "display": null,
            "flex": null,
            "flex_flow": null,
            "grid_area": null,
            "grid_auto_columns": null,
            "grid_auto_flow": null,
            "grid_auto_rows": null,
            "grid_column": null,
            "grid_gap": null,
            "grid_row": null,
            "grid_template_areas": null,
            "grid_template_columns": null,
            "grid_template_rows": null,
            "height": null,
            "justify_content": null,
            "justify_items": null,
            "left": null,
            "margin": null,
            "max_height": null,
            "max_width": null,
            "min_height": null,
            "min_width": null,
            "object_fit": null,
            "object_position": null,
            "order": null,
            "overflow": null,
            "overflow_x": null,
            "overflow_y": null,
            "padding": null,
            "right": null,
            "top": null,
            "visibility": null,
            "width": null
          }
        },
        "58dcb10c78824404871e16b64fcd90f0": {
          "model_module": "@jupyter-widgets/controls",
          "model_name": "DescriptionStyleModel",
          "model_module_version": "1.5.0",
          "state": {
            "_model_module": "@jupyter-widgets/controls",
            "_model_module_version": "1.5.0",
            "_model_name": "DescriptionStyleModel",
            "_view_count": null,
            "_view_module": "@jupyter-widgets/base",
            "_view_module_version": "1.2.0",
            "_view_name": "StyleView",
            "description_width": ""
          }
        },
        "2bfdcc77c74247ebab7f5ed77c92fbb0": {
          "model_module": "@jupyter-widgets/controls",
          "model_name": "HBoxModel",
          "model_module_version": "1.5.0",
          "state": {
            "_dom_classes": [],
            "_model_module": "@jupyter-widgets/controls",
            "_model_module_version": "1.5.0",
            "_model_name": "HBoxModel",
            "_view_count": null,
            "_view_module": "@jupyter-widgets/controls",
            "_view_module_version": "1.5.0",
            "_view_name": "HBoxView",
            "box_style": "",
            "children": [
              "IPY_MODEL_d2df6abd4c074d908203b915eabb1506",
              "IPY_MODEL_74a3c2f761d848e69b95bf2b15d2d35e",
              "IPY_MODEL_2ab559b8f109421982e92cfab345b014"
            ],
            "layout": "IPY_MODEL_ae5489a785f64ea295a14b2763137f95"
          }
        },
        "d2df6abd4c074d908203b915eabb1506": {
          "model_module": "@jupyter-widgets/controls",
          "model_name": "HTMLModel",
          "model_module_version": "1.5.0",
          "state": {
            "_dom_classes": [],
            "_model_module": "@jupyter-widgets/controls",
            "_model_module_version": "1.5.0",
            "_model_name": "HTMLModel",
            "_view_count": null,
            "_view_module": "@jupyter-widgets/controls",
            "_view_module_version": "1.5.0",
            "_view_name": "HTMLView",
            "description": "",
            "description_tooltip": null,
            "layout": "IPY_MODEL_2ce52ec636c24dcf87730bdbc0a1078f",
            "placeholder": "​",
            "style": "IPY_MODEL_1203cbbc82ce4d20bb6a08e0be1c7e75",
            "value": "100%"
          }
        },
        "74a3c2f761d848e69b95bf2b15d2d35e": {
          "model_module": "@jupyter-widgets/controls",
          "model_name": "FloatProgressModel",
          "model_module_version": "1.5.0",
          "state": {
            "_dom_classes": [],
            "_model_module": "@jupyter-widgets/controls",
            "_model_module_version": "1.5.0",
            "_model_name": "FloatProgressModel",
            "_view_count": null,
            "_view_module": "@jupyter-widgets/controls",
            "_view_module_version": "1.5.0",
            "_view_name": "ProgressView",
            "bar_style": "success",
            "description": "",
            "description_tooltip": null,
            "layout": "IPY_MODEL_cec999d716c54284afe92d40203e88d9",
            "max": 100,
            "min": 0,
            "orientation": "horizontal",
            "style": "IPY_MODEL_acb89b917add40d998af6cefc606a34e",
            "value": 100
          }
        },
        "2ab559b8f109421982e92cfab345b014": {
          "model_module": "@jupyter-widgets/controls",
          "model_name": "HTMLModel",
          "model_module_version": "1.5.0",
          "state": {
            "_dom_classes": [],
            "_model_module": "@jupyter-widgets/controls",
            "_model_module_version": "1.5.0",
            "_model_name": "HTMLModel",
            "_view_count": null,
            "_view_module": "@jupyter-widgets/controls",
            "_view_module_version": "1.5.0",
            "_view_name": "HTMLView",
            "description": "",
            "description_tooltip": null,
            "layout": "IPY_MODEL_6c77f45dc0334264953ab6fe9d27ec25",
            "placeholder": "​",
            "style": "IPY_MODEL_549bd425dd7d488b9fbcfc2bd05dd826",
            "value": " 100/100 [02:51&lt;00:00,  1.69s/it]"
          }
        },
        "ae5489a785f64ea295a14b2763137f95": {
          "model_module": "@jupyter-widgets/base",
          "model_name": "LayoutModel",
          "model_module_version": "1.2.0",
          "state": {
            "_model_module": "@jupyter-widgets/base",
            "_model_module_version": "1.2.0",
            "_model_name": "LayoutModel",
            "_view_count": null,
            "_view_module": "@jupyter-widgets/base",
            "_view_module_version": "1.2.0",
            "_view_name": "LayoutView",
            "align_content": null,
            "align_items": null,
            "align_self": null,
            "border": null,
            "bottom": null,
            "display": null,
            "flex": null,
            "flex_flow": null,
            "grid_area": null,
            "grid_auto_columns": null,
            "grid_auto_flow": null,
            "grid_auto_rows": null,
            "grid_column": null,
            "grid_gap": null,
            "grid_row": null,
            "grid_template_areas": null,
            "grid_template_columns": null,
            "grid_template_rows": null,
            "height": null,
            "justify_content": null,
            "justify_items": null,
            "left": null,
            "margin": null,
            "max_height": null,
            "max_width": null,
            "min_height": null,
            "min_width": null,
            "object_fit": null,
            "object_position": null,
            "order": null,
            "overflow": null,
            "overflow_x": null,
            "overflow_y": null,
            "padding": null,
            "right": null,
            "top": null,
            "visibility": null,
            "width": null
          }
        },
        "2ce52ec636c24dcf87730bdbc0a1078f": {
          "model_module": "@jupyter-widgets/base",
          "model_name": "LayoutModel",
          "model_module_version": "1.2.0",
          "state": {
            "_model_module": "@jupyter-widgets/base",
            "_model_module_version": "1.2.0",
            "_model_name": "LayoutModel",
            "_view_count": null,
            "_view_module": "@jupyter-widgets/base",
            "_view_module_version": "1.2.0",
            "_view_name": "LayoutView",
            "align_content": null,
            "align_items": null,
            "align_self": null,
            "border": null,
            "bottom": null,
            "display": null,
            "flex": null,
            "flex_flow": null,
            "grid_area": null,
            "grid_auto_columns": null,
            "grid_auto_flow": null,
            "grid_auto_rows": null,
            "grid_column": null,
            "grid_gap": null,
            "grid_row": null,
            "grid_template_areas": null,
            "grid_template_columns": null,
            "grid_template_rows": null,
            "height": null,
            "justify_content": null,
            "justify_items": null,
            "left": null,
            "margin": null,
            "max_height": null,
            "max_width": null,
            "min_height": null,
            "min_width": null,
            "object_fit": null,
            "object_position": null,
            "order": null,
            "overflow": null,
            "overflow_x": null,
            "overflow_y": null,
            "padding": null,
            "right": null,
            "top": null,
            "visibility": null,
            "width": null
          }
        },
        "1203cbbc82ce4d20bb6a08e0be1c7e75": {
          "model_module": "@jupyter-widgets/controls",
          "model_name": "DescriptionStyleModel",
          "model_module_version": "1.5.0",
          "state": {
            "_model_module": "@jupyter-widgets/controls",
            "_model_module_version": "1.5.0",
            "_model_name": "DescriptionStyleModel",
            "_view_count": null,
            "_view_module": "@jupyter-widgets/base",
            "_view_module_version": "1.2.0",
            "_view_name": "StyleView",
            "description_width": ""
          }
        },
        "cec999d716c54284afe92d40203e88d9": {
          "model_module": "@jupyter-widgets/base",
          "model_name": "LayoutModel",
          "model_module_version": "1.2.0",
          "state": {
            "_model_module": "@jupyter-widgets/base",
            "_model_module_version": "1.2.0",
            "_model_name": "LayoutModel",
            "_view_count": null,
            "_view_module": "@jupyter-widgets/base",
            "_view_module_version": "1.2.0",
            "_view_name": "LayoutView",
            "align_content": null,
            "align_items": null,
            "align_self": null,
            "border": null,
            "bottom": null,
            "display": null,
            "flex": null,
            "flex_flow": null,
            "grid_area": null,
            "grid_auto_columns": null,
            "grid_auto_flow": null,
            "grid_auto_rows": null,
            "grid_column": null,
            "grid_gap": null,
            "grid_row": null,
            "grid_template_areas": null,
            "grid_template_columns": null,
            "grid_template_rows": null,
            "height": null,
            "justify_content": null,
            "justify_items": null,
            "left": null,
            "margin": null,
            "max_height": null,
            "max_width": null,
            "min_height": null,
            "min_width": null,
            "object_fit": null,
            "object_position": null,
            "order": null,
            "overflow": null,
            "overflow_x": null,
            "overflow_y": null,
            "padding": null,
            "right": null,
            "top": null,
            "visibility": null,
            "width": null
          }
        },
        "acb89b917add40d998af6cefc606a34e": {
          "model_module": "@jupyter-widgets/controls",
          "model_name": "ProgressStyleModel",
          "model_module_version": "1.5.0",
          "state": {
            "_model_module": "@jupyter-widgets/controls",
            "_model_module_version": "1.5.0",
            "_model_name": "ProgressStyleModel",
            "_view_count": null,
            "_view_module": "@jupyter-widgets/base",
            "_view_module_version": "1.2.0",
            "_view_name": "StyleView",
            "bar_color": null,
            "description_width": ""
          }
        },
        "6c77f45dc0334264953ab6fe9d27ec25": {
          "model_module": "@jupyter-widgets/base",
          "model_name": "LayoutModel",
          "model_module_version": "1.2.0",
          "state": {
            "_model_module": "@jupyter-widgets/base",
            "_model_module_version": "1.2.0",
            "_model_name": "LayoutModel",
            "_view_count": null,
            "_view_module": "@jupyter-widgets/base",
            "_view_module_version": "1.2.0",
            "_view_name": "LayoutView",
            "align_content": null,
            "align_items": null,
            "align_self": null,
            "border": null,
            "bottom": null,
            "display": null,
            "flex": null,
            "flex_flow": null,
            "grid_area": null,
            "grid_auto_columns": null,
            "grid_auto_flow": null,
            "grid_auto_rows": null,
            "grid_column": null,
            "grid_gap": null,
            "grid_row": null,
            "grid_template_areas": null,
            "grid_template_columns": null,
            "grid_template_rows": null,
            "height": null,
            "justify_content": null,
            "justify_items": null,
            "left": null,
            "margin": null,
            "max_height": null,
            "max_width": null,
            "min_height": null,
            "min_width": null,
            "object_fit": null,
            "object_position": null,
            "order": null,
            "overflow": null,
            "overflow_x": null,
            "overflow_y": null,
            "padding": null,
            "right": null,
            "top": null,
            "visibility": null,
            "width": null
          }
        },
        "549bd425dd7d488b9fbcfc2bd05dd826": {
          "model_module": "@jupyter-widgets/controls",
          "model_name": "DescriptionStyleModel",
          "model_module_version": "1.5.0",
          "state": {
            "_model_module": "@jupyter-widgets/controls",
            "_model_module_version": "1.5.0",
            "_model_name": "DescriptionStyleModel",
            "_view_count": null,
            "_view_module": "@jupyter-widgets/base",
            "_view_module_version": "1.2.0",
            "_view_name": "StyleView",
            "description_width": ""
          }
        },
        "e079c108efd04e3bbf05353b92fb6b70": {
          "model_module": "@jupyter-widgets/controls",
          "model_name": "HBoxModel",
          "model_module_version": "1.5.0",
          "state": {
            "_dom_classes": [],
            "_model_module": "@jupyter-widgets/controls",
            "_model_module_version": "1.5.0",
            "_model_name": "HBoxModel",
            "_view_count": null,
            "_view_module": "@jupyter-widgets/controls",
            "_view_module_version": "1.5.0",
            "_view_name": "HBoxView",
            "box_style": "",
            "children": [
              "IPY_MODEL_d46cd7a6a3a046d99a8a5fcd45b32945",
              "IPY_MODEL_547da550451a4043a78b31c876acee5a",
              "IPY_MODEL_91fa45ccf7dc433eaec4e1f589b5538a"
            ],
            "layout": "IPY_MODEL_3a0568ce412e40f9bbe902c7d1b61b68"
          }
        },
        "d46cd7a6a3a046d99a8a5fcd45b32945": {
          "model_module": "@jupyter-widgets/controls",
          "model_name": "HTMLModel",
          "model_module_version": "1.5.0",
          "state": {
            "_dom_classes": [],
            "_model_module": "@jupyter-widgets/controls",
            "_model_module_version": "1.5.0",
            "_model_name": "HTMLModel",
            "_view_count": null,
            "_view_module": "@jupyter-widgets/controls",
            "_view_module_version": "1.5.0",
            "_view_name": "HTMLView",
            "description": "",
            "description_tooltip": null,
            "layout": "IPY_MODEL_cd5c9d8c4c154ebe8307498e1e603280",
            "placeholder": "​",
            "style": "IPY_MODEL_397a01383e894bf6990b319159932f13",
            "value": "100%"
          }
        },
        "547da550451a4043a78b31c876acee5a": {
          "model_module": "@jupyter-widgets/controls",
          "model_name": "FloatProgressModel",
          "model_module_version": "1.5.0",
          "state": {
            "_dom_classes": [],
            "_model_module": "@jupyter-widgets/controls",
            "_model_module_version": "1.5.0",
            "_model_name": "FloatProgressModel",
            "_view_count": null,
            "_view_module": "@jupyter-widgets/controls",
            "_view_module_version": "1.5.0",
            "_view_name": "ProgressView",
            "bar_style": "success",
            "description": "",
            "description_tooltip": null,
            "layout": "IPY_MODEL_b66ea942720f4e72b8c3624d31c258f0",
            "max": 100,
            "min": 0,
            "orientation": "horizontal",
            "style": "IPY_MODEL_8c30b324cbb846328693c45bf8394de9",
            "value": 100
          }
        },
        "91fa45ccf7dc433eaec4e1f589b5538a": {
          "model_module": "@jupyter-widgets/controls",
          "model_name": "HTMLModel",
          "model_module_version": "1.5.0",
          "state": {
            "_dom_classes": [],
            "_model_module": "@jupyter-widgets/controls",
            "_model_module_version": "1.5.0",
            "_model_name": "HTMLModel",
            "_view_count": null,
            "_view_module": "@jupyter-widgets/controls",
            "_view_module_version": "1.5.0",
            "_view_name": "HTMLView",
            "description": "",
            "description_tooltip": null,
            "layout": "IPY_MODEL_f7d7be03b4aa49768f221c4a383e7586",
            "placeholder": "​",
            "style": "IPY_MODEL_1c784d9ea06c47fbb40ef3b5ff70659d",
            "value": " 100/100 [02:54&lt;00:00,  1.77s/it]"
          }
        },
        "3a0568ce412e40f9bbe902c7d1b61b68": {
          "model_module": "@jupyter-widgets/base",
          "model_name": "LayoutModel",
          "model_module_version": "1.2.0",
          "state": {
            "_model_module": "@jupyter-widgets/base",
            "_model_module_version": "1.2.0",
            "_model_name": "LayoutModel",
            "_view_count": null,
            "_view_module": "@jupyter-widgets/base",
            "_view_module_version": "1.2.0",
            "_view_name": "LayoutView",
            "align_content": null,
            "align_items": null,
            "align_self": null,
            "border": null,
            "bottom": null,
            "display": null,
            "flex": null,
            "flex_flow": null,
            "grid_area": null,
            "grid_auto_columns": null,
            "grid_auto_flow": null,
            "grid_auto_rows": null,
            "grid_column": null,
            "grid_gap": null,
            "grid_row": null,
            "grid_template_areas": null,
            "grid_template_columns": null,
            "grid_template_rows": null,
            "height": null,
            "justify_content": null,
            "justify_items": null,
            "left": null,
            "margin": null,
            "max_height": null,
            "max_width": null,
            "min_height": null,
            "min_width": null,
            "object_fit": null,
            "object_position": null,
            "order": null,
            "overflow": null,
            "overflow_x": null,
            "overflow_y": null,
            "padding": null,
            "right": null,
            "top": null,
            "visibility": null,
            "width": null
          }
        },
        "cd5c9d8c4c154ebe8307498e1e603280": {
          "model_module": "@jupyter-widgets/base",
          "model_name": "LayoutModel",
          "model_module_version": "1.2.0",
          "state": {
            "_model_module": "@jupyter-widgets/base",
            "_model_module_version": "1.2.0",
            "_model_name": "LayoutModel",
            "_view_count": null,
            "_view_module": "@jupyter-widgets/base",
            "_view_module_version": "1.2.0",
            "_view_name": "LayoutView",
            "align_content": null,
            "align_items": null,
            "align_self": null,
            "border": null,
            "bottom": null,
            "display": null,
            "flex": null,
            "flex_flow": null,
            "grid_area": null,
            "grid_auto_columns": null,
            "grid_auto_flow": null,
            "grid_auto_rows": null,
            "grid_column": null,
            "grid_gap": null,
            "grid_row": null,
            "grid_template_areas": null,
            "grid_template_columns": null,
            "grid_template_rows": null,
            "height": null,
            "justify_content": null,
            "justify_items": null,
            "left": null,
            "margin": null,
            "max_height": null,
            "max_width": null,
            "min_height": null,
            "min_width": null,
            "object_fit": null,
            "object_position": null,
            "order": null,
            "overflow": null,
            "overflow_x": null,
            "overflow_y": null,
            "padding": null,
            "right": null,
            "top": null,
            "visibility": null,
            "width": null
          }
        },
        "397a01383e894bf6990b319159932f13": {
          "model_module": "@jupyter-widgets/controls",
          "model_name": "DescriptionStyleModel",
          "model_module_version": "1.5.0",
          "state": {
            "_model_module": "@jupyter-widgets/controls",
            "_model_module_version": "1.5.0",
            "_model_name": "DescriptionStyleModel",
            "_view_count": null,
            "_view_module": "@jupyter-widgets/base",
            "_view_module_version": "1.2.0",
            "_view_name": "StyleView",
            "description_width": ""
          }
        },
        "b66ea942720f4e72b8c3624d31c258f0": {
          "model_module": "@jupyter-widgets/base",
          "model_name": "LayoutModel",
          "model_module_version": "1.2.0",
          "state": {
            "_model_module": "@jupyter-widgets/base",
            "_model_module_version": "1.2.0",
            "_model_name": "LayoutModel",
            "_view_count": null,
            "_view_module": "@jupyter-widgets/base",
            "_view_module_version": "1.2.0",
            "_view_name": "LayoutView",
            "align_content": null,
            "align_items": null,
            "align_self": null,
            "border": null,
            "bottom": null,
            "display": null,
            "flex": null,
            "flex_flow": null,
            "grid_area": null,
            "grid_auto_columns": null,
            "grid_auto_flow": null,
            "grid_auto_rows": null,
            "grid_column": null,
            "grid_gap": null,
            "grid_row": null,
            "grid_template_areas": null,
            "grid_template_columns": null,
            "grid_template_rows": null,
            "height": null,
            "justify_content": null,
            "justify_items": null,
            "left": null,
            "margin": null,
            "max_height": null,
            "max_width": null,
            "min_height": null,
            "min_width": null,
            "object_fit": null,
            "object_position": null,
            "order": null,
            "overflow": null,
            "overflow_x": null,
            "overflow_y": null,
            "padding": null,
            "right": null,
            "top": null,
            "visibility": null,
            "width": null
          }
        },
        "8c30b324cbb846328693c45bf8394de9": {
          "model_module": "@jupyter-widgets/controls",
          "model_name": "ProgressStyleModel",
          "model_module_version": "1.5.0",
          "state": {
            "_model_module": "@jupyter-widgets/controls",
            "_model_module_version": "1.5.0",
            "_model_name": "ProgressStyleModel",
            "_view_count": null,
            "_view_module": "@jupyter-widgets/base",
            "_view_module_version": "1.2.0",
            "_view_name": "StyleView",
            "bar_color": null,
            "description_width": ""
          }
        },
        "f7d7be03b4aa49768f221c4a383e7586": {
          "model_module": "@jupyter-widgets/base",
          "model_name": "LayoutModel",
          "model_module_version": "1.2.0",
          "state": {
            "_model_module": "@jupyter-widgets/base",
            "_model_module_version": "1.2.0",
            "_model_name": "LayoutModel",
            "_view_count": null,
            "_view_module": "@jupyter-widgets/base",
            "_view_module_version": "1.2.0",
            "_view_name": "LayoutView",
            "align_content": null,
            "align_items": null,
            "align_self": null,
            "border": null,
            "bottom": null,
            "display": null,
            "flex": null,
            "flex_flow": null,
            "grid_area": null,
            "grid_auto_columns": null,
            "grid_auto_flow": null,
            "grid_auto_rows": null,
            "grid_column": null,
            "grid_gap": null,
            "grid_row": null,
            "grid_template_areas": null,
            "grid_template_columns": null,
            "grid_template_rows": null,
            "height": null,
            "justify_content": null,
            "justify_items": null,
            "left": null,
            "margin": null,
            "max_height": null,
            "max_width": null,
            "min_height": null,
            "min_width": null,
            "object_fit": null,
            "object_position": null,
            "order": null,
            "overflow": null,
            "overflow_x": null,
            "overflow_y": null,
            "padding": null,
            "right": null,
            "top": null,
            "visibility": null,
            "width": null
          }
        },
        "1c784d9ea06c47fbb40ef3b5ff70659d": {
          "model_module": "@jupyter-widgets/controls",
          "model_name": "DescriptionStyleModel",
          "model_module_version": "1.5.0",
          "state": {
            "_model_module": "@jupyter-widgets/controls",
            "_model_module_version": "1.5.0",
            "_model_name": "DescriptionStyleModel",
            "_view_count": null,
            "_view_module": "@jupyter-widgets/base",
            "_view_module_version": "1.2.0",
            "_view_name": "StyleView",
            "description_width": ""
          }
        },
        "6549c5adcb2c4655abf60445a9313493": {
          "model_module": "@jupyter-widgets/controls",
          "model_name": "HBoxModel",
          "model_module_version": "1.5.0",
          "state": {
            "_dom_classes": [],
            "_model_module": "@jupyter-widgets/controls",
            "_model_module_version": "1.5.0",
            "_model_name": "HBoxModel",
            "_view_count": null,
            "_view_module": "@jupyter-widgets/controls",
            "_view_module_version": "1.5.0",
            "_view_name": "HBoxView",
            "box_style": "",
            "children": [
              "IPY_MODEL_2ef436b637c84c2fa68ac225ff53def1",
              "IPY_MODEL_9b1a1c35560045d5b3a242e7555225f2",
              "IPY_MODEL_cc1a25b7aff54692840d6b811a5c647f"
            ],
            "layout": "IPY_MODEL_498804d2795c44b784ba69b4c9a8df3e"
          }
        },
        "2ef436b637c84c2fa68ac225ff53def1": {
          "model_module": "@jupyter-widgets/controls",
          "model_name": "HTMLModel",
          "model_module_version": "1.5.0",
          "state": {
            "_dom_classes": [],
            "_model_module": "@jupyter-widgets/controls",
            "_model_module_version": "1.5.0",
            "_model_name": "HTMLModel",
            "_view_count": null,
            "_view_module": "@jupyter-widgets/controls",
            "_view_module_version": "1.5.0",
            "_view_name": "HTMLView",
            "description": "",
            "description_tooltip": null,
            "layout": "IPY_MODEL_2fa0225aff5c4076a0a031257ebc9c66",
            "placeholder": "​",
            "style": "IPY_MODEL_79d5556ad0464336948e8d8eaa51ca07",
            "value": "100%"
          }
        },
        "9b1a1c35560045d5b3a242e7555225f2": {
          "model_module": "@jupyter-widgets/controls",
          "model_name": "FloatProgressModel",
          "model_module_version": "1.5.0",
          "state": {
            "_dom_classes": [],
            "_model_module": "@jupyter-widgets/controls",
            "_model_module_version": "1.5.0",
            "_model_name": "FloatProgressModel",
            "_view_count": null,
            "_view_module": "@jupyter-widgets/controls",
            "_view_module_version": "1.5.0",
            "_view_name": "ProgressView",
            "bar_style": "success",
            "description": "",
            "description_tooltip": null,
            "layout": "IPY_MODEL_bc2d6de441ac4a96a3f827e9af78b5f6",
            "max": 100,
            "min": 0,
            "orientation": "horizontal",
            "style": "IPY_MODEL_d307f0b03fbd4a4181df86807e6da516",
            "value": 100
          }
        },
        "cc1a25b7aff54692840d6b811a5c647f": {
          "model_module": "@jupyter-widgets/controls",
          "model_name": "HTMLModel",
          "model_module_version": "1.5.0",
          "state": {
            "_dom_classes": [],
            "_model_module": "@jupyter-widgets/controls",
            "_model_module_version": "1.5.0",
            "_model_name": "HTMLModel",
            "_view_count": null,
            "_view_module": "@jupyter-widgets/controls",
            "_view_module_version": "1.5.0",
            "_view_name": "HTMLView",
            "description": "",
            "description_tooltip": null,
            "layout": "IPY_MODEL_69b83e4b8a1f4ae5b405128ee0767399",
            "placeholder": "​",
            "style": "IPY_MODEL_9ccfc99e4a7942f0abbdfef95a07a4f8",
            "value": " 100/100 [02:59&lt;00:00,  1.83s/it]"
          }
        },
        "498804d2795c44b784ba69b4c9a8df3e": {
          "model_module": "@jupyter-widgets/base",
          "model_name": "LayoutModel",
          "model_module_version": "1.2.0",
          "state": {
            "_model_module": "@jupyter-widgets/base",
            "_model_module_version": "1.2.0",
            "_model_name": "LayoutModel",
            "_view_count": null,
            "_view_module": "@jupyter-widgets/base",
            "_view_module_version": "1.2.0",
            "_view_name": "LayoutView",
            "align_content": null,
            "align_items": null,
            "align_self": null,
            "border": null,
            "bottom": null,
            "display": null,
            "flex": null,
            "flex_flow": null,
            "grid_area": null,
            "grid_auto_columns": null,
            "grid_auto_flow": null,
            "grid_auto_rows": null,
            "grid_column": null,
            "grid_gap": null,
            "grid_row": null,
            "grid_template_areas": null,
            "grid_template_columns": null,
            "grid_template_rows": null,
            "height": null,
            "justify_content": null,
            "justify_items": null,
            "left": null,
            "margin": null,
            "max_height": null,
            "max_width": null,
            "min_height": null,
            "min_width": null,
            "object_fit": null,
            "object_position": null,
            "order": null,
            "overflow": null,
            "overflow_x": null,
            "overflow_y": null,
            "padding": null,
            "right": null,
            "top": null,
            "visibility": null,
            "width": null
          }
        },
        "2fa0225aff5c4076a0a031257ebc9c66": {
          "model_module": "@jupyter-widgets/base",
          "model_name": "LayoutModel",
          "model_module_version": "1.2.0",
          "state": {
            "_model_module": "@jupyter-widgets/base",
            "_model_module_version": "1.2.0",
            "_model_name": "LayoutModel",
            "_view_count": null,
            "_view_module": "@jupyter-widgets/base",
            "_view_module_version": "1.2.0",
            "_view_name": "LayoutView",
            "align_content": null,
            "align_items": null,
            "align_self": null,
            "border": null,
            "bottom": null,
            "display": null,
            "flex": null,
            "flex_flow": null,
            "grid_area": null,
            "grid_auto_columns": null,
            "grid_auto_flow": null,
            "grid_auto_rows": null,
            "grid_column": null,
            "grid_gap": null,
            "grid_row": null,
            "grid_template_areas": null,
            "grid_template_columns": null,
            "grid_template_rows": null,
            "height": null,
            "justify_content": null,
            "justify_items": null,
            "left": null,
            "margin": null,
            "max_height": null,
            "max_width": null,
            "min_height": null,
            "min_width": null,
            "object_fit": null,
            "object_position": null,
            "order": null,
            "overflow": null,
            "overflow_x": null,
            "overflow_y": null,
            "padding": null,
            "right": null,
            "top": null,
            "visibility": null,
            "width": null
          }
        },
        "79d5556ad0464336948e8d8eaa51ca07": {
          "model_module": "@jupyter-widgets/controls",
          "model_name": "DescriptionStyleModel",
          "model_module_version": "1.5.0",
          "state": {
            "_model_module": "@jupyter-widgets/controls",
            "_model_module_version": "1.5.0",
            "_model_name": "DescriptionStyleModel",
            "_view_count": null,
            "_view_module": "@jupyter-widgets/base",
            "_view_module_version": "1.2.0",
            "_view_name": "StyleView",
            "description_width": ""
          }
        },
        "bc2d6de441ac4a96a3f827e9af78b5f6": {
          "model_module": "@jupyter-widgets/base",
          "model_name": "LayoutModel",
          "model_module_version": "1.2.0",
          "state": {
            "_model_module": "@jupyter-widgets/base",
            "_model_module_version": "1.2.0",
            "_model_name": "LayoutModel",
            "_view_count": null,
            "_view_module": "@jupyter-widgets/base",
            "_view_module_version": "1.2.0",
            "_view_name": "LayoutView",
            "align_content": null,
            "align_items": null,
            "align_self": null,
            "border": null,
            "bottom": null,
            "display": null,
            "flex": null,
            "flex_flow": null,
            "grid_area": null,
            "grid_auto_columns": null,
            "grid_auto_flow": null,
            "grid_auto_rows": null,
            "grid_column": null,
            "grid_gap": null,
            "grid_row": null,
            "grid_template_areas": null,
            "grid_template_columns": null,
            "grid_template_rows": null,
            "height": null,
            "justify_content": null,
            "justify_items": null,
            "left": null,
            "margin": null,
            "max_height": null,
            "max_width": null,
            "min_height": null,
            "min_width": null,
            "object_fit": null,
            "object_position": null,
            "order": null,
            "overflow": null,
            "overflow_x": null,
            "overflow_y": null,
            "padding": null,
            "right": null,
            "top": null,
            "visibility": null,
            "width": null
          }
        },
        "d307f0b03fbd4a4181df86807e6da516": {
          "model_module": "@jupyter-widgets/controls",
          "model_name": "ProgressStyleModel",
          "model_module_version": "1.5.0",
          "state": {
            "_model_module": "@jupyter-widgets/controls",
            "_model_module_version": "1.5.0",
            "_model_name": "ProgressStyleModel",
            "_view_count": null,
            "_view_module": "@jupyter-widgets/base",
            "_view_module_version": "1.2.0",
            "_view_name": "StyleView",
            "bar_color": null,
            "description_width": ""
          }
        },
        "69b83e4b8a1f4ae5b405128ee0767399": {
          "model_module": "@jupyter-widgets/base",
          "model_name": "LayoutModel",
          "model_module_version": "1.2.0",
          "state": {
            "_model_module": "@jupyter-widgets/base",
            "_model_module_version": "1.2.0",
            "_model_name": "LayoutModel",
            "_view_count": null,
            "_view_module": "@jupyter-widgets/base",
            "_view_module_version": "1.2.0",
            "_view_name": "LayoutView",
            "align_content": null,
            "align_items": null,
            "align_self": null,
            "border": null,
            "bottom": null,
            "display": null,
            "flex": null,
            "flex_flow": null,
            "grid_area": null,
            "grid_auto_columns": null,
            "grid_auto_flow": null,
            "grid_auto_rows": null,
            "grid_column": null,
            "grid_gap": null,
            "grid_row": null,
            "grid_template_areas": null,
            "grid_template_columns": null,
            "grid_template_rows": null,
            "height": null,
            "justify_content": null,
            "justify_items": null,
            "left": null,
            "margin": null,
            "max_height": null,
            "max_width": null,
            "min_height": null,
            "min_width": null,
            "object_fit": null,
            "object_position": null,
            "order": null,
            "overflow": null,
            "overflow_x": null,
            "overflow_y": null,
            "padding": null,
            "right": null,
            "top": null,
            "visibility": null,
            "width": null
          }
        },
        "9ccfc99e4a7942f0abbdfef95a07a4f8": {
          "model_module": "@jupyter-widgets/controls",
          "model_name": "DescriptionStyleModel",
          "model_module_version": "1.5.0",
          "state": {
            "_model_module": "@jupyter-widgets/controls",
            "_model_module_version": "1.5.0",
            "_model_name": "DescriptionStyleModel",
            "_view_count": null,
            "_view_module": "@jupyter-widgets/base",
            "_view_module_version": "1.2.0",
            "_view_name": "StyleView",
            "description_width": ""
          }
        },
        "c1dacda21dcc43998092df2720dd67df": {
          "model_module": "@jupyter-widgets/controls",
          "model_name": "HBoxModel",
          "model_module_version": "1.5.0",
          "state": {
            "_dom_classes": [],
            "_model_module": "@jupyter-widgets/controls",
            "_model_module_version": "1.5.0",
            "_model_name": "HBoxModel",
            "_view_count": null,
            "_view_module": "@jupyter-widgets/controls",
            "_view_module_version": "1.5.0",
            "_view_name": "HBoxView",
            "box_style": "",
            "children": [
              "IPY_MODEL_26926e8f41b6437ba232acbb2cafe705",
              "IPY_MODEL_e02fba0200074882bc4c99dbd3c40a32",
              "IPY_MODEL_6e464df5bae743508c92ae10581ad7d0"
            ],
            "layout": "IPY_MODEL_615d60f8600c47c8becf7a6a67c15c1a"
          }
        },
        "26926e8f41b6437ba232acbb2cafe705": {
          "model_module": "@jupyter-widgets/controls",
          "model_name": "HTMLModel",
          "model_module_version": "1.5.0",
          "state": {
            "_dom_classes": [],
            "_model_module": "@jupyter-widgets/controls",
            "_model_module_version": "1.5.0",
            "_model_name": "HTMLModel",
            "_view_count": null,
            "_view_module": "@jupyter-widgets/controls",
            "_view_module_version": "1.5.0",
            "_view_name": "HTMLView",
            "description": "",
            "description_tooltip": null,
            "layout": "IPY_MODEL_012f2f45c2be4c9495fc4b84e75d4c46",
            "placeholder": "​",
            "style": "IPY_MODEL_aacf948226f143ad80c7bf87f5949f6d",
            "value": "100%"
          }
        },
        "e02fba0200074882bc4c99dbd3c40a32": {
          "model_module": "@jupyter-widgets/controls",
          "model_name": "FloatProgressModel",
          "model_module_version": "1.5.0",
          "state": {
            "_dom_classes": [],
            "_model_module": "@jupyter-widgets/controls",
            "_model_module_version": "1.5.0",
            "_model_name": "FloatProgressModel",
            "_view_count": null,
            "_view_module": "@jupyter-widgets/controls",
            "_view_module_version": "1.5.0",
            "_view_name": "ProgressView",
            "bar_style": "success",
            "description": "",
            "description_tooltip": null,
            "layout": "IPY_MODEL_ece97694368c494296ce10730b242f4a",
            "max": 100,
            "min": 0,
            "orientation": "horizontal",
            "style": "IPY_MODEL_5c68c88a0e9c42288a3f1b05cb34b853",
            "value": 100
          }
        },
        "6e464df5bae743508c92ae10581ad7d0": {
          "model_module": "@jupyter-widgets/controls",
          "model_name": "HTMLModel",
          "model_module_version": "1.5.0",
          "state": {
            "_dom_classes": [],
            "_model_module": "@jupyter-widgets/controls",
            "_model_module_version": "1.5.0",
            "_model_name": "HTMLModel",
            "_view_count": null,
            "_view_module": "@jupyter-widgets/controls",
            "_view_module_version": "1.5.0",
            "_view_name": "HTMLView",
            "description": "",
            "description_tooltip": null,
            "layout": "IPY_MODEL_a920d508f9264a3c8721c515f436da34",
            "placeholder": "​",
            "style": "IPY_MODEL_6d6bfa8ceb7a4fd0927c170823f60a90",
            "value": " 100/100 [03:01&lt;00:00,  1.76s/it]"
          }
        },
        "615d60f8600c47c8becf7a6a67c15c1a": {
          "model_module": "@jupyter-widgets/base",
          "model_name": "LayoutModel",
          "model_module_version": "1.2.0",
          "state": {
            "_model_module": "@jupyter-widgets/base",
            "_model_module_version": "1.2.0",
            "_model_name": "LayoutModel",
            "_view_count": null,
            "_view_module": "@jupyter-widgets/base",
            "_view_module_version": "1.2.0",
            "_view_name": "LayoutView",
            "align_content": null,
            "align_items": null,
            "align_self": null,
            "border": null,
            "bottom": null,
            "display": null,
            "flex": null,
            "flex_flow": null,
            "grid_area": null,
            "grid_auto_columns": null,
            "grid_auto_flow": null,
            "grid_auto_rows": null,
            "grid_column": null,
            "grid_gap": null,
            "grid_row": null,
            "grid_template_areas": null,
            "grid_template_columns": null,
            "grid_template_rows": null,
            "height": null,
            "justify_content": null,
            "justify_items": null,
            "left": null,
            "margin": null,
            "max_height": null,
            "max_width": null,
            "min_height": null,
            "min_width": null,
            "object_fit": null,
            "object_position": null,
            "order": null,
            "overflow": null,
            "overflow_x": null,
            "overflow_y": null,
            "padding": null,
            "right": null,
            "top": null,
            "visibility": null,
            "width": null
          }
        },
        "012f2f45c2be4c9495fc4b84e75d4c46": {
          "model_module": "@jupyter-widgets/base",
          "model_name": "LayoutModel",
          "model_module_version": "1.2.0",
          "state": {
            "_model_module": "@jupyter-widgets/base",
            "_model_module_version": "1.2.0",
            "_model_name": "LayoutModel",
            "_view_count": null,
            "_view_module": "@jupyter-widgets/base",
            "_view_module_version": "1.2.0",
            "_view_name": "LayoutView",
            "align_content": null,
            "align_items": null,
            "align_self": null,
            "border": null,
            "bottom": null,
            "display": null,
            "flex": null,
            "flex_flow": null,
            "grid_area": null,
            "grid_auto_columns": null,
            "grid_auto_flow": null,
            "grid_auto_rows": null,
            "grid_column": null,
            "grid_gap": null,
            "grid_row": null,
            "grid_template_areas": null,
            "grid_template_columns": null,
            "grid_template_rows": null,
            "height": null,
            "justify_content": null,
            "justify_items": null,
            "left": null,
            "margin": null,
            "max_height": null,
            "max_width": null,
            "min_height": null,
            "min_width": null,
            "object_fit": null,
            "object_position": null,
            "order": null,
            "overflow": null,
            "overflow_x": null,
            "overflow_y": null,
            "padding": null,
            "right": null,
            "top": null,
            "visibility": null,
            "width": null
          }
        },
        "aacf948226f143ad80c7bf87f5949f6d": {
          "model_module": "@jupyter-widgets/controls",
          "model_name": "DescriptionStyleModel",
          "model_module_version": "1.5.0",
          "state": {
            "_model_module": "@jupyter-widgets/controls",
            "_model_module_version": "1.5.0",
            "_model_name": "DescriptionStyleModel",
            "_view_count": null,
            "_view_module": "@jupyter-widgets/base",
            "_view_module_version": "1.2.0",
            "_view_name": "StyleView",
            "description_width": ""
          }
        },
        "ece97694368c494296ce10730b242f4a": {
          "model_module": "@jupyter-widgets/base",
          "model_name": "LayoutModel",
          "model_module_version": "1.2.0",
          "state": {
            "_model_module": "@jupyter-widgets/base",
            "_model_module_version": "1.2.0",
            "_model_name": "LayoutModel",
            "_view_count": null,
            "_view_module": "@jupyter-widgets/base",
            "_view_module_version": "1.2.0",
            "_view_name": "LayoutView",
            "align_content": null,
            "align_items": null,
            "align_self": null,
            "border": null,
            "bottom": null,
            "display": null,
            "flex": null,
            "flex_flow": null,
            "grid_area": null,
            "grid_auto_columns": null,
            "grid_auto_flow": null,
            "grid_auto_rows": null,
            "grid_column": null,
            "grid_gap": null,
            "grid_row": null,
            "grid_template_areas": null,
            "grid_template_columns": null,
            "grid_template_rows": null,
            "height": null,
            "justify_content": null,
            "justify_items": null,
            "left": null,
            "margin": null,
            "max_height": null,
            "max_width": null,
            "min_height": null,
            "min_width": null,
            "object_fit": null,
            "object_position": null,
            "order": null,
            "overflow": null,
            "overflow_x": null,
            "overflow_y": null,
            "padding": null,
            "right": null,
            "top": null,
            "visibility": null,
            "width": null
          }
        },
        "5c68c88a0e9c42288a3f1b05cb34b853": {
          "model_module": "@jupyter-widgets/controls",
          "model_name": "ProgressStyleModel",
          "model_module_version": "1.5.0",
          "state": {
            "_model_module": "@jupyter-widgets/controls",
            "_model_module_version": "1.5.0",
            "_model_name": "ProgressStyleModel",
            "_view_count": null,
            "_view_module": "@jupyter-widgets/base",
            "_view_module_version": "1.2.0",
            "_view_name": "StyleView",
            "bar_color": null,
            "description_width": ""
          }
        },
        "a920d508f9264a3c8721c515f436da34": {
          "model_module": "@jupyter-widgets/base",
          "model_name": "LayoutModel",
          "model_module_version": "1.2.0",
          "state": {
            "_model_module": "@jupyter-widgets/base",
            "_model_module_version": "1.2.0",
            "_model_name": "LayoutModel",
            "_view_count": null,
            "_view_module": "@jupyter-widgets/base",
            "_view_module_version": "1.2.0",
            "_view_name": "LayoutView",
            "align_content": null,
            "align_items": null,
            "align_self": null,
            "border": null,
            "bottom": null,
            "display": null,
            "flex": null,
            "flex_flow": null,
            "grid_area": null,
            "grid_auto_columns": null,
            "grid_auto_flow": null,
            "grid_auto_rows": null,
            "grid_column": null,
            "grid_gap": null,
            "grid_row": null,
            "grid_template_areas": null,
            "grid_template_columns": null,
            "grid_template_rows": null,
            "height": null,
            "justify_content": null,
            "justify_items": null,
            "left": null,
            "margin": null,
            "max_height": null,
            "max_width": null,
            "min_height": null,
            "min_width": null,
            "object_fit": null,
            "object_position": null,
            "order": null,
            "overflow": null,
            "overflow_x": null,
            "overflow_y": null,
            "padding": null,
            "right": null,
            "top": null,
            "visibility": null,
            "width": null
          }
        },
        "6d6bfa8ceb7a4fd0927c170823f60a90": {
          "model_module": "@jupyter-widgets/controls",
          "model_name": "DescriptionStyleModel",
          "model_module_version": "1.5.0",
          "state": {
            "_model_module": "@jupyter-widgets/controls",
            "_model_module_version": "1.5.0",
            "_model_name": "DescriptionStyleModel",
            "_view_count": null,
            "_view_module": "@jupyter-widgets/base",
            "_view_module_version": "1.2.0",
            "_view_name": "StyleView",
            "description_width": ""
          }
        }
      }
    }
  },
  "cells": [
    {
      "cell_type": "markdown",
      "source": [
        "# Install required packages"
      ],
      "metadata": {
        "id": "03TaUFyGrlS7"
      }
    },
    {
      "cell_type": "code",
      "source": [
        "! pip install timm"
      ],
      "metadata": {
        "id": "b3Gq5WtkMvT-",
        "colab": {
          "base_uri": "https://localhost:8080/"
        },
        "outputId": "7c2ae8af-ab3b-4d66-d7f4-69f0295e2b17"
      },
      "execution_count": null,
      "outputs": [
        {
          "output_type": "stream",
          "name": "stdout",
          "text": [
            "Looking in indexes: https://pypi.org/simple, https://us-python.pkg.dev/colab-wheels/public/simple/\n",
            "Collecting timm\n",
            "  Downloading timm-0.6.12-py3-none-any.whl (549 kB)\n",
            "\u001b[2K     \u001b[90m━━━━━━━━━━━━━━━━━━━━━━━━━━━━━━━━━━━━━━\u001b[0m \u001b[32m549.1/549.1 KB\u001b[0m \u001b[31m22.4 MB/s\u001b[0m eta \u001b[36m0:00:00\u001b[0m\n",
            "\u001b[?25hRequirement already satisfied: torchvision in /usr/local/lib/python3.9/dist-packages (from timm) (0.14.1+cu116)\n",
            "Requirement already satisfied: torch>=1.7 in /usr/local/lib/python3.9/dist-packages (from timm) (1.13.1+cu116)\n",
            "Requirement already satisfied: pyyaml in /usr/local/lib/python3.9/dist-packages (from timm) (6.0)\n",
            "Collecting huggingface-hub\n",
            "  Downloading huggingface_hub-0.13.2-py3-none-any.whl (199 kB)\n",
            "\u001b[2K     \u001b[90m━━━━━━━━━━━━━━━━━━━━━━━━━━━━━━━━━━━━━━\u001b[0m \u001b[32m199.2/199.2 KB\u001b[0m \u001b[31m25.6 MB/s\u001b[0m eta \u001b[36m0:00:00\u001b[0m\n",
            "\u001b[?25hRequirement already satisfied: typing-extensions in /usr/local/lib/python3.9/dist-packages (from torch>=1.7->timm) (4.5.0)\n",
            "Requirement already satisfied: requests in /usr/local/lib/python3.9/dist-packages (from huggingface-hub->timm) (2.25.1)\n",
            "Requirement already satisfied: filelock in /usr/local/lib/python3.9/dist-packages (from huggingface-hub->timm) (3.9.0)\n",
            "Requirement already satisfied: tqdm>=4.42.1 in /usr/local/lib/python3.9/dist-packages (from huggingface-hub->timm) (4.65.0)\n",
            "Requirement already satisfied: packaging>=20.9 in /usr/local/lib/python3.9/dist-packages (from huggingface-hub->timm) (23.0)\n",
            "Requirement already satisfied: pillow!=8.3.*,>=5.3.0 in /usr/local/lib/python3.9/dist-packages (from torchvision->timm) (8.4.0)\n",
            "Requirement already satisfied: numpy in /usr/local/lib/python3.9/dist-packages (from torchvision->timm) (1.22.4)\n",
            "Requirement already satisfied: chardet<5,>=3.0.2 in /usr/local/lib/python3.9/dist-packages (from requests->huggingface-hub->timm) (4.0.0)\n",
            "Requirement already satisfied: idna<3,>=2.5 in /usr/local/lib/python3.9/dist-packages (from requests->huggingface-hub->timm) (2.10)\n",
            "Requirement already satisfied: certifi>=2017.4.17 in /usr/local/lib/python3.9/dist-packages (from requests->huggingface-hub->timm) (2022.12.7)\n",
            "Requirement already satisfied: urllib3<1.27,>=1.21.1 in /usr/local/lib/python3.9/dist-packages (from requests->huggingface-hub->timm) (1.26.14)\n",
            "Installing collected packages: huggingface-hub, timm\n",
            "Successfully installed huggingface-hub-0.13.2 timm-0.6.12\n"
          ]
        }
      ]
    },
    {
      "cell_type": "markdown",
      "source": [
        "# Check GPU status"
      ],
      "metadata": {
        "id": "qETdGgm4rnX6"
      }
    },
    {
      "cell_type": "code",
      "source": [
        "! nvidia-smi"
      ],
      "metadata": {
        "id": "SQvtjTu_M42s",
        "colab": {
          "base_uri": "https://localhost:8080/"
        },
        "outputId": "97d25b64-f62b-4379-8bb6-8400f8bbfb96"
      },
      "execution_count": null,
      "outputs": [
        {
          "output_type": "stream",
          "name": "stdout",
          "text": [
            "Tue Mar 14 08:49:15 2023       \n",
            "+-----------------------------------------------------------------------------+\n",
            "| NVIDIA-SMI 525.85.12    Driver Version: 525.85.12    CUDA Version: 12.0     |\n",
            "|-------------------------------+----------------------+----------------------+\n",
            "| GPU  Name        Persistence-M| Bus-Id        Disp.A | Volatile Uncorr. ECC |\n",
            "| Fan  Temp  Perf  Pwr:Usage/Cap|         Memory-Usage | GPU-Util  Compute M. |\n",
            "|                               |                      |               MIG M. |\n",
            "|===============================+======================+======================|\n",
            "|   0  Tesla T4            Off  | 00000000:00:04.0 Off |                    0 |\n",
            "| N/A   36C    P0    25W /  70W |      0MiB / 15360MiB |      0%      Default |\n",
            "|                               |                      |                  N/A |\n",
            "+-------------------------------+----------------------+----------------------+\n",
            "                                                                               \n",
            "+-----------------------------------------------------------------------------+\n",
            "| Processes:                                                                  |\n",
            "|  GPU   GI   CI        PID   Type   Process name                  GPU Memory |\n",
            "|        ID   ID                                                   Usage      |\n",
            "|=============================================================================|\n",
            "|  No running processes found                                                 |\n",
            "+-----------------------------------------------------------------------------+\n"
          ]
        }
      ]
    },
    {
      "cell_type": "markdown",
      "source": [
        "# Import"
      ],
      "metadata": {
        "id": "VeHNI4WwrpLr"
      }
    },
    {
      "cell_type": "code",
      "source": [
        "import os\n",
        "import sys\n",
        "import time\n",
        "import numpy as np\n",
        "import pandas as pd\n",
        "import cv2\n",
        "import PIL.Image\n",
        "import matplotlib.pyplot as plt\n",
        "%matplotlib inline\n",
        "import seaborn as sns\n",
        "from tqdm.notebook import tqdm\n",
        "from sklearn.metrics import roc_auc_score\n",
        "import torch\n",
        "from torch.utils.data import TensorDataset, DataLoader,Dataset\n",
        "import torch.nn as nn\n",
        "import torch.nn.functional as F\n",
        "import torchvision\n",
        "import torchvision.transforms as transforms\n",
        "import torch.optim as optim\n",
        "from torch.optim import lr_scheduler\n",
        "from torch.utils.data.sampler import SubsetRandomSampler, RandomSampler, SequentialSampler\n",
        "from torch.optim.lr_scheduler import CosineAnnealingLR\n",
        "import albumentations as A\n",
        "import timm\n",
        "import matplotlib.pyplot as plt\n",
        "\n",
        "device = torch.device('cuda')"
      ],
      "metadata": {
        "id": "C7yem24vMqw5"
      },
      "execution_count": null,
      "outputs": []
    },
    {
      "cell_type": "markdown",
      "source": [
        "# Read Data"
      ],
      "metadata": {
        "id": "2HqMSLBerq4u"
      }
    },
    {
      "cell_type": "code",
      "source": [
        "! ls /content/drive/MyDrive/247_proj_cnn"
      ],
      "metadata": {
        "id": "SGYDc8vjMyqo",
        "colab": {
          "base_uri": "https://localhost:8080/"
        },
        "outputId": "69f925c0-fc24-47f0-ba32-5f54adeca88f"
      },
      "execution_count": null,
      "outputs": [
        {
          "output_type": "stream",
          "name": "stdout",
          "text": [
            "'CNN-LSTM Hybrid with data preprocessing.ipynb'   fold_4_best_acc.ckpt\n",
            "'CNN with data preprocessing.ipynb'\t\t  person_test.npy\n",
            " EEG_loading.ipynb\t\t\t\t  person_train_valid.npy\n",
            " fold_0_best_acc.ckpt\t\t\t\t  X_test.npy\n",
            " fold_1_best_acc.ckpt\t\t\t\t  X_train_valid.npy\n",
            " fold_2_best_acc.ckpt\t\t\t\t  y_test.npy\n",
            " fold_3_best_acc.ckpt\t\t\t\t  y_train_valid.npy\n"
          ]
        }
      ]
    },
    {
      "cell_type": "code",
      "source": [
        "os.chdir('/content/drive/MyDrive/247_proj_cnn')"
      ],
      "metadata": {
        "id": "F9DcuRkYN7bd"
      },
      "execution_count": null,
      "outputs": []
    },
    {
      "cell_type": "code",
      "source": [
        "X_train_valid = np.load('X_train_valid.npy')\n",
        "y_train_valid = np.load('y_train_valid.npy')"
      ],
      "metadata": {
        "id": "ARbCBpxBOFfI"
      },
      "execution_count": null,
      "outputs": []
    },
    {
      "cell_type": "code",
      "source": [
        "X_train_valid.shape"
      ],
      "metadata": {
        "colab": {
          "base_uri": "https://localhost:8080/"
        },
        "id": "qeC3Hmd0jUX_",
        "outputId": "aff82270-a578-4e61-b820-3edf6ea1bae2"
      },
      "execution_count": null,
      "outputs": [
        {
          "output_type": "execute_result",
          "data": {
            "text/plain": [
              "(2115, 22, 1000)"
            ]
          },
          "metadata": {},
          "execution_count": 7
        }
      ]
    },
    {
      "cell_type": "code",
      "source": [
        "X_test = np.load('X_test.npy')\n",
        "y_test = np.load('y_test.npy')"
      ],
      "metadata": {
        "id": "AC__tJa3XUeV"
      },
      "execution_count": null,
      "outputs": []
    },
    {
      "cell_type": "markdown",
      "source": [
        "# Define dataset"
      ],
      "metadata": {
        "id": "ObweIGWkp7Ki"
      }
    },
    {
      "cell_type": "code",
      "source": [
        "class BCIDataset(Dataset):\n",
        "    def __init__(self, X, y):\n",
        "        self.X = X\n",
        "        self.y = y\n",
        "        self.encode_class = {769:0, 770:1, 771:2, 772:3}\n",
        "\n",
        "    def __len__(self):\n",
        "        return self.X.shape[0]\n",
        "\n",
        "    def __getitem__(self, index):\n",
        "        x = torch.tensor(self.X[index,:,:]).float()\n",
        "        y = self.y[index]\n",
        "        y = self.encode_class[y]\n",
        "        y = torch.tensor(y).long()\n",
        "        # return x, y\n",
        "        return x.unsqueeze(2), y\n",
        "        # return torch.stack([x,x,x]), y\n"
      ],
      "metadata": {
        "id": "HAz0VsYUkg0o"
      },
      "execution_count": null,
      "outputs": []
    },
    {
      "cell_type": "code",
      "source": [
        "plt.figure(figsize=(12,8))\n",
        "plt.imshow(next(iter(BCIDataset(X_test, y_test)))[0], cmap='gray')"
      ],
      "metadata": {
        "colab": {
          "base_uri": "https://localhost:8080/",
          "height": 84
        },
        "id": "sw9svrNDX-Rn",
        "outputId": "315f7fac-08bb-4109-e2bc-a0e5a2547243"
      },
      "execution_count": null,
      "outputs": [
        {
          "output_type": "execute_result",
          "data": {
            "text/plain": [
              "<matplotlib.image.AxesImage at 0x7ff2969c7280>"
            ]
          },
          "metadata": {},
          "execution_count": 21
        },
        {
          "output_type": "display_data",
          "data": {
            "text/plain": [
              "<Figure size 864x576 with 1 Axes>"
            ],
            "image/png": "[encoded data removed]"
          },
          "metadata": {
            "needs_background": "light"
          }
        }
      ]
    },
    {
      "cell_type": "markdown",
      "source": [
        "# Define model"
      ],
      "metadata": {
        "id": "DXxzlcX5p8Y_"
      }
    },
    {
      "cell_type": "code",
      "source": [
        "import torch.nn as nn\n",
        "\n",
        "class ResidualBlock(nn.Module):\n",
        "    def __init__(self, in_channels, out_channels, stride=1):\n",
        "        super(ResidualBlock, self).__init__()\n",
        "        self.conv1 = nn.Conv2d(in_channels, out_channels, kernel_size=3, stride=stride, padding=1, bias=False)\n",
        "        self.bn1 = nn.BatchNorm2d(out_channels)\n",
        "        self.relu = nn.ELU(inplace=True)\n",
        "        self.conv2 = nn.Conv2d(out_channels, out_channels, kernel_size=3, stride=1, padding=1, bias=False)\n",
        "        self.bn2 = nn.BatchNorm2d(out_channels)\n",
        "        self.stride = stride\n",
        "\n",
        "        if stride != 1 or in_channels != out_channels:\n",
        "            self.shortcut = nn.Sequential(\n",
        "                nn.Conv2d(in_channels, out_channels, kernel_size=1, stride=stride, bias=False),\n",
        "                nn.BatchNorm2d(out_channels)\n",
        "            )\n",
        "        else:\n",
        "            self.shortcut = nn.Identity()\n",
        "\n",
        "    def forward(self, x):\n",
        "        residual = x\n",
        "\n",
        "        out = self.conv1(x)\n",
        "        out = self.bn1(out)\n",
        "        out = self.relu(out)\n",
        "\n",
        "        out = self.conv2(out)\n",
        "        out = self.bn2(out)\n",
        "\n",
        "        out += self.shortcut(residual)\n",
        "        out = self.relu(out)\n",
        "\n",
        "        return out\n",
        "\n",
        "class ERUConv(nn.Module):\n",
        "    def __init__(self, in_channel, out_channel, kernel_size, mp_kernal_size, padding, dropout):\n",
        "        super().__init__()\n",
        "        self.conv = nn.Conv2d(in_channel, out_channel, \n",
        "                              kernel_size = kernel_size, padding=padding)\n",
        "        nn.init.xavier_uniform_(self.conv.weight)\n",
        "        self.elu = nn.ELU()\n",
        "        self.maxpool = nn.MaxPool2d(kernel_size = mp_kernal_size)\n",
        "        self.BN = nn.BatchNorm2d(out_channel)\n",
        "        self.dropout = nn.Dropout(p=dropout)\n",
        "    \n",
        "    def forward(self, x):\n",
        "        x = self.elu(self.conv(x))\n",
        "        x = self.maxpool(x)\n",
        "        x = self.BN(x)\n",
        "        x = self.dropout(x)\n",
        "        return x\n",
        "\n",
        "class ResTemporalCNN(nn.Module):\n",
        "    def __init__(self, drop_out):\n",
        "        super().__init__()\n",
        "\n",
        "        self.conv_temp = nn.Conv2d(1, 1, (1, 5), stride = (1, 3)) # 3\n",
        "        self.elu = nn.ELU()\n",
        "        nn.init.xavier_uniform_(self.conv_temp.weight)\n",
        "\n",
        "        self.res1 = ResidualBlock(22, 44)\n",
        "        self.conv1 = ERUConv(44, 88, (10, 1), (2, 1), 'same', drop_out)\n",
        "        self.conv2 = ERUConv(88, 168, (10, 1), (2, 1), 'same', drop_out)\n",
        "        self.conv3 = ERUConv(168, 384, (10, 1), (2, 1), 'same', drop_out)\n",
        "        \n",
        "        self.fc = nn.Sequential(\n",
        "            nn.Linear(384*41, 64), \n",
        "            nn.BatchNorm1d(64),\n",
        "            nn.ELU(),\n",
        "            nn.Dropout(drop_out),\n",
        "            nn.Linear(64,32),\n",
        "            nn.BatchNorm1d(32),\n",
        "            nn.ELU(),\n",
        "            nn.Dropout(0.2),\n",
        "            nn.Linear(32,4)\n",
        "        )\n",
        "    \n",
        "    def forward(self, x):\n",
        "        x = self.conv_temp(x.permute(0,3,1,2))\n",
        "        print(x.shape)\n",
        "        # x = self.elu(x)\n",
        "        x = x.permute(0,2,3,1)\n",
        "\n",
        "        x = self.res1(x)\n",
        "        print(x.shape)\n",
        "        x = self.conv1(x)\n",
        "        print(x.shape)\n",
        "        x = self.conv2(x)\n",
        "        print(x.shape)\n",
        "        x = self.conv3(x)\n",
        "        print(x.shape)\n",
        "        # print(x.shape)\n",
        "        bs = x.size(0)\n",
        "        x = x.view(bs, -1)\n",
        "        x = self.fc(x)\n",
        "\n",
        "        return x\n",
        "\n",
        "model = ResTemporalCNN(0.5)\n",
        "model(torch.randn(2,22,1000,1))"
      ],
      "metadata": {
        "colab": {
          "base_uri": "https://localhost:8080/"
        },
        "id": "i0NXXQjdkt_S",
        "outputId": "7fc716bb-151b-4d47-e4c5-ddac09967631"
      },
      "execution_count": null,
      "outputs": [
        {
          "output_type": "stream",
          "name": "stdout",
          "text": [
            "torch.Size([2, 1, 22, 332])\n",
            "torch.Size([2, 44, 332, 1])\n",
            "torch.Size([2, 88, 166, 1])\n",
            "torch.Size([2, 168, 83, 1])\n",
            "torch.Size([2, 384, 41, 1])\n"
          ]
        },
        {
          "output_type": "execute_result",
          "data": {
            "text/plain": [
              "tensor([[ 0.2429,  0.3007,  0.4586,  0.0119],\n",
              "        [-0.0837,  0.4738,  0.2870,  0.3750]], grad_fn=<AddmmBackward0>)"
            ]
          },
          "metadata": {},
          "execution_count": 19
        }
      ]
    },
    {
      "cell_type": "markdown",
      "source": [
        "# Training and validation"
      ],
      "metadata": {
        "id": "X79MQadLp3KH"
      }
    },
    {
      "cell_type": "markdown",
      "source": [
        "## training configurations"
      ],
      "metadata": {
        "id": "H36St9mpuYFw"
      }
    },
    {
      "cell_type": "code",
      "source": [
        "num_epochs = 100\n",
        "lr=0.005\n",
        "drop_out = 0.5\n",
        "k = 5 # number of folds\n",
        "batch_size = 64\n",
        "num_worker = 8"
      ],
      "metadata": {
        "id": "dj7yBLfemCja"
      },
      "execution_count": null,
      "outputs": []
    },
    {
      "cell_type": "code",
      "source": [
        "def train_valid_fold(X_train, y_train, X_valid, y_valid, fold_id):\n",
        "    print('Building dataset...')\n",
        "    bcidataset_train = BCIDataset(X_train, y_train)\n",
        "    bcidataset_train_dl = torch.utils.data.DataLoader(bcidataset_train, batch_size=batch_size, num_workers=num_worker, shuffle=True)\n",
        "    bcidataset_test = BCIDataset(X_valid, y_valid)\n",
        "    bcidataset_test_dl = torch.utils.data.DataLoader(bcidataset_test, batch_size=batch_size, num_workers=num_worker, shuffle=False)\n",
        "\n",
        "    print('Create new model...')\n",
        "    model = ResTemporalCNN(drop_out)\n",
        "    model = model.cuda()\n",
        "\n",
        "    print('Setting up loss function, optimizer and scheduler...')\n",
        "    criterion = nn.CrossEntropyLoss()\n",
        "    optimizer = optim.Adam(model.parameters(), lr=lr)\n",
        "    scheduler = optim.lr_scheduler.CosineAnnealingLR(optimizer, T_max=num_epochs,)\n",
        "\n",
        "    # Training loop\n",
        "    accuracy_list = []\n",
        "    loss_by_epoch = []\n",
        "    val_loss_by_epoch = []\n",
        "    max_accuracy = 0\n",
        "    best_model = model\n",
        "    for epoch in tqdm(range(num_epochs)):\n",
        "        losses = []\n",
        "        model.train()\n",
        "        for i, (inputs, labels) in enumerate(bcidataset_train_dl):\n",
        "            inputs = inputs.cuda()\n",
        "            labels = labels.cuda()\n",
        "            optimizer.zero_grad()\n",
        "            outputs = model(inputs)\n",
        "            loss = criterion(outputs, labels)\n",
        "            loss.backward()\n",
        "            optimizer.step()\n",
        "            losses.append(loss.item())\n",
        "        loss = np.mean(losses)\n",
        "        loss_by_epoch.append(loss)\n",
        "        \n",
        "        # validate with the testing dataset\n",
        "        predicted_label = []\n",
        "        actual_label = []\n",
        "        model.eval()\n",
        "        val_losses = []\n",
        "        for i, (inputs, labels) in enumerate(bcidataset_test_dl):\n",
        "            inputs = inputs.cuda()\n",
        "            actual_label += labels.tolist()\n",
        "            labels = labels.cuda()\n",
        "            outputs = model(inputs)\n",
        "            loss = criterion(outputs, labels)\n",
        "            val_losses.append(loss.item())\n",
        "            predicted = outputs.argmax(1)\n",
        "            predicted_label += predicted.cpu().numpy().tolist()\n",
        "        val_loss_by_epoch.append(np.mean(losses))\n",
        "        predicted_label = torch.tensor(predicted_label)\n",
        "        actual_label = torch.tensor(actual_label)\n",
        "        accuracy = (np.array(actual_label) == np.array(predicted_label)).sum() / len(predicted_label)\n",
        "        if accuracy > max_accuracy:\n",
        "            print(f'Better accuracy found ({max_accuracy} -> {accuracy}), best model saved.')\n",
        "            max_accuracy = accuracy\n",
        "            torch.save(model.state_dict(), f'fold_{fold_id}_best_acc.ckpt')\n",
        "        accuracy_list.append(accuracy)\n",
        "        scheduler.step()\n",
        "\n",
        "    axes[0].plot(accuracy_list)\n",
        "    axes[0].set_xlabel('Epoch')\n",
        "    axes[0].set_ylabel('Validation Accuracy')\n",
        "    \n",
        "    axes[1].plot(np.arange(10, num_epochs), loss_by_epoch[10:])\n",
        "    axes[1].set_xlabel('Epoch')\n",
        "    axes[1].set_ylabel('Training Loss')\n",
        "\n",
        "    axes[2].plot(np.arange(10, num_epochs), val_loss_by_epoch[10:])\n",
        "    axes[2].set_xlabel('Epoch')\n",
        "    axes[2].set_ylabel('Validation Loss')\n",
        "\n"
      ],
      "metadata": {
        "id": "m_2qHFw9lk1o"
      },
      "execution_count": null,
      "outputs": []
    },
    {
      "cell_type": "code",
      "source": [
        "from sklearn.model_selection import KFold\n",
        "\n",
        "# Split the data into k folds\n",
        "kf = KFold(n_splits=k, shuffle=True, random_state=42)\n",
        "\n",
        "fig, axes = plt.subplots(1, 3, figsize=(20, 5))\n",
        "axes = axes.flatten()\n",
        "\n",
        "# Loop over each fold\n",
        "for fold, (train_index, test_index) in enumerate(kf.split(X_train_valid)):\n",
        "\n",
        "    # Get the training and test sets for this fold\n",
        "    X_train, X_valid = X_train_valid[train_index], X_train_valid[test_index]\n",
        "    y_train, y_valid = y_train_valid[train_index], y_train_valid[test_index]\n",
        "    train_valid_fold(X_train, y_train, X_valid, y_valid, fold)"
      ],
      "metadata": {
        "colab": {
          "base_uri": "https://localhost:8080/",
          "height": 1000,
          "referenced_widgets": [
            "59c7b4913c634c25bfbd616ebab6195d",
            "ae7d7dc707984b60ba308e70c8f97421",
            "bbb23529d17a40ef87fb7776bc969a35",
            "abcbbd8a25d24ef3b472aaecd56a90ae",
            "14feb497b29d4c19b7412a2e7db2e328",
            "3c846498def9411cb3a0bdbd0a969429",
            "b82c21260f2d45139573d307bae738f7",
            "ddd8d404c6494721b3ddddcad4b47bf7",
            "6521350d9f60489e87f1bc8759bd7299",
            "1da49a8939a24618ae8992f95c1f0215",
            "58dcb10c78824404871e16b64fcd90f0",
            "2bfdcc77c74247ebab7f5ed77c92fbb0",
            "d2df6abd4c074d908203b915eabb1506",
            "74a3c2f761d848e69b95bf2b15d2d35e",
            "2ab559b8f109421982e92cfab345b014",
            "ae5489a785f64ea295a14b2763137f95",
            "2ce52ec636c24dcf87730bdbc0a1078f",
            "1203cbbc82ce4d20bb6a08e0be1c7e75",
            "cec999d716c54284afe92d40203e88d9",
            "acb89b917add40d998af6cefc606a34e",
            "6c77f45dc0334264953ab6fe9d27ec25",
            "549bd425dd7d488b9fbcfc2bd05dd826",
            "e079c108efd04e3bbf05353b92fb6b70",
            "d46cd7a6a3a046d99a8a5fcd45b32945",
            "547da550451a4043a78b31c876acee5a",
            "91fa45ccf7dc433eaec4e1f589b5538a",
            "3a0568ce412e40f9bbe902c7d1b61b68",
            "cd5c9d8c4c154ebe8307498e1e603280",
            "397a01383e894bf6990b319159932f13",
            "b66ea942720f4e72b8c3624d31c258f0",
            "8c30b324cbb846328693c45bf8394de9",
            "f7d7be03b4aa49768f221c4a383e7586",
            "1c784d9ea06c47fbb40ef3b5ff70659d",
            "6549c5adcb2c4655abf60445a9313493",
            "2ef436b637c84c2fa68ac225ff53def1",
            "9b1a1c35560045d5b3a242e7555225f2",
            "cc1a25b7aff54692840d6b811a5c647f",
            "498804d2795c44b784ba69b4c9a8df3e",
            "2fa0225aff5c4076a0a031257ebc9c66",
            "79d5556ad0464336948e8d8eaa51ca07",
            "bc2d6de441ac4a96a3f827e9af78b5f6",
            "d307f0b03fbd4a4181df86807e6da516",
            "69b83e4b8a1f4ae5b405128ee0767399",
            "9ccfc99e4a7942f0abbdfef95a07a4f8",
            "c1dacda21dcc43998092df2720dd67df",
            "26926e8f41b6437ba232acbb2cafe705",
            "e02fba0200074882bc4c99dbd3c40a32",
            "6e464df5bae743508c92ae10581ad7d0",
            "615d60f8600c47c8becf7a6a67c15c1a",
            "012f2f45c2be4c9495fc4b84e75d4c46",
            "aacf948226f143ad80c7bf87f5949f6d",
            "ece97694368c494296ce10730b242f4a",
            "5c68c88a0e9c42288a3f1b05cb34b853",
            "a920d508f9264a3c8721c515f436da34",
            "6d6bfa8ceb7a4fd0927c170823f60a90"
          ]
        },
        "id": "fPmLYFNVo5Vz",
        "outputId": "f3d11c4d-463c-4f26-c045-5b62115ce5eb"
      },
      "execution_count": null,
      "outputs": [
        {
          "output_type": "stream",
          "name": "stdout",
          "text": [
            "Building dataset...\n",
            "Create new model...\n"
          ]
        },
        {
          "output_type": "stream",
          "name": "stderr",
          "text": [
            "/usr/local/lib/python3.9/dist-packages/torch/utils/data/dataloader.py:554: UserWarning: This DataLoader will create 8 worker processes in total. Our suggested max number of worker in current system is 4, which is smaller than what this DataLoader is going to create. Please be aware that excessive worker creation might get DataLoader running slow or even freeze, lower the worker number to avoid potential slowness/freeze if necessary.\n",
            "  warnings.warn(_create_warning_msg(\n"
          ]
        },
        {
          "output_type": "stream",
          "name": "stdout",
          "text": [
            "Setting up loss function, optimizer and scheduler...\n"
          ]
        },
        {
          "output_type": "display_data",
          "data": {
            "text/plain": [
              "  0%|          | 0/100 [00:00<?, ?it/s]"
            ],
            "application/vnd.jupyter.widget-view+json": {
              "version_major": 2,
              "version_minor": 0,
              "model_id": "59c7b4913c634c25bfbd616ebab6195d"
            }
          },
          "metadata": {}
        },
        {
          "output_type": "stream",
          "name": "stdout",
          "text": [
            "Better accuracy found (0 -> 0.33569739952718675), best model saved.\n",
            "Better accuracy found (0.33569739952718675 -> 0.4515366430260047), best model saved.\n",
            "Better accuracy found (0.4515366430260047 -> 0.4657210401891253), best model saved.\n",
            "Better accuracy found (0.4657210401891253 -> 0.48699763593380613), best model saved.\n",
            "Better accuracy found (0.48699763593380613 -> 0.5011820330969267), best model saved.\n",
            "Better accuracy found (0.5011820330969267 -> 0.5460992907801419), best model saved.\n",
            "Better accuracy found (0.5460992907801419 -> 0.5484633569739953), best model saved.\n",
            "Better accuracy found (0.5484633569739953 -> 0.5791962174940898), best model saved.\n",
            "Better accuracy found (0.5791962174940898 -> 0.5910165484633569), best model saved.\n",
            "Better accuracy found (0.5910165484633569 -> 0.607565011820331), best model saved.\n",
            "Better accuracy found (0.607565011820331 -> 0.6217494089834515), best model saved.\n",
            "Better accuracy found (0.6217494089834515 -> 0.6288416075650118), best model saved.\n",
            "Better accuracy found (0.6288416075650118 -> 0.6453900709219859), best model saved.\n",
            "Better accuracy found (0.6453900709219859 -> 0.6666666666666666), best model saved.\n",
            "Better accuracy found (0.6666666666666666 -> 0.6855791962174941), best model saved.\n",
            "Building dataset...\n",
            "Create new model...\n",
            "Setting up loss function, optimizer and scheduler...\n"
          ]
        },
        {
          "output_type": "display_data",
          "data": {
            "text/plain": [
              "  0%|          | 0/100 [00:00<?, ?it/s]"
            ],
            "application/vnd.jupyter.widget-view+json": {
              "version_major": 2,
              "version_minor": 0,
              "model_id": "2bfdcc77c74247ebab7f5ed77c92fbb0"
            }
          },
          "metadata": {}
        },
        {
          "output_type": "stream",
          "name": "stdout",
          "text": [
            "Better accuracy found (0 -> 0.3617021276595745), best model saved.\n",
            "Better accuracy found (0.3617021276595745 -> 0.408983451536643), best model saved.\n",
            "Better accuracy found (0.408983451536643 -> 0.4940898345153664), best model saved.\n",
            "Better accuracy found (0.4940898345153664 -> 0.5059101654846335), best model saved.\n",
            "Better accuracy found (0.5059101654846335 -> 0.5153664302600472), best model saved.\n",
            "Better accuracy found (0.5153664302600472 -> 0.5366430260047281), best model saved.\n",
            "Better accuracy found (0.5366430260047281 -> 0.5508274231678487), best model saved.\n",
            "Better accuracy found (0.5508274231678487 -> 0.607565011820331), best model saved.\n",
            "Better accuracy found (0.607565011820331 -> 0.6382978723404256), best model saved.\n",
            "Better accuracy found (0.6382978723404256 -> 0.6477541371158393), best model saved.\n",
            "Better accuracy found (0.6477541371158393 -> 0.6524822695035462), best model saved.\n",
            "Better accuracy found (0.6524822695035462 -> 0.6619385342789598), best model saved.\n",
            "Better accuracy found (0.6619385342789598 -> 0.6690307328605201), best model saved.\n",
            "Better accuracy found (0.6690307328605201 -> 0.6784869976359338), best model saved.\n",
            "Better accuracy found (0.6784869976359338 -> 0.6903073286052009), best model saved.\n",
            "Better accuracy found (0.6903073286052009 -> 0.6950354609929078), best model saved.\n",
            "Building dataset...\n",
            "Create new model...\n",
            "Setting up loss function, optimizer and scheduler...\n"
          ]
        },
        {
          "output_type": "display_data",
          "data": {
            "text/plain": [
              "  0%|          | 0/100 [00:00<?, ?it/s]"
            ],
            "application/vnd.jupyter.widget-view+json": {
              "version_major": 2,
              "version_minor": 0,
              "model_id": "e079c108efd04e3bbf05353b92fb6b70"
            }
          },
          "metadata": {}
        },
        {
          "output_type": "stream",
          "name": "stdout",
          "text": [
            "Better accuracy found (0 -> 0.39952718676122934), best model saved.\n",
            "Better accuracy found (0.39952718676122934 -> 0.44208037825059104), best model saved.\n",
            "Better accuracy found (0.44208037825059104 -> 0.45390070921985815), best model saved.\n",
            "Better accuracy found (0.45390070921985815 -> 0.5437352245862884), best model saved.\n",
            "Better accuracy found (0.5437352245862884 -> 0.6170212765957447), best model saved.\n",
            "Better accuracy found (0.6170212765957447 -> 0.6501182033096927), best model saved.\n",
            "Better accuracy found (0.6501182033096927 -> 0.6643026004728132), best model saved.\n",
            "Better accuracy found (0.6643026004728132 -> 0.6666666666666666), best model saved.\n",
            "Better accuracy found (0.6666666666666666 -> 0.6690307328605201), best model saved.\n",
            "Better accuracy found (0.6690307328605201 -> 0.6713947990543735), best model saved.\n",
            "Better accuracy found (0.6713947990543735 -> 0.6879432624113475), best model saved.\n",
            "Better accuracy found (0.6879432624113475 -> 0.6926713947990544), best model saved.\n",
            "Better accuracy found (0.6926713947990544 -> 0.6973995271867612), best model saved.\n",
            "Better accuracy found (0.6973995271867612 -> 0.723404255319149), best model saved.\n",
            "Better accuracy found (0.723404255319149 -> 0.7257683215130024), best model saved.\n",
            "Better accuracy found (0.7257683215130024 -> 0.7328605200945626), best model saved.\n",
            "Better accuracy found (0.7328605200945626 -> 0.7375886524822695), best model saved.\n",
            "Better accuracy found (0.7375886524822695 -> 0.7399527186761229), best model saved.\n",
            "Better accuracy found (0.7399527186761229 -> 0.7423167848699763), best model saved.\n",
            "Building dataset...\n",
            "Create new model...\n",
            "Setting up loss function, optimizer and scheduler...\n"
          ]
        },
        {
          "output_type": "display_data",
          "data": {
            "text/plain": [
              "  0%|          | 0/100 [00:00<?, ?it/s]"
            ],
            "application/vnd.jupyter.widget-view+json": {
              "version_major": 2,
              "version_minor": 0,
              "model_id": "6549c5adcb2c4655abf60445a9313493"
            }
          },
          "metadata": {}
        },
        {
          "output_type": "stream",
          "name": "stdout",
          "text": [
            "Better accuracy found (0 -> 0.3900709219858156), best model saved.\n",
            "Better accuracy found (0.3900709219858156 -> 0.4444444444444444), best model saved.\n",
            "Better accuracy found (0.4444444444444444 -> 0.491725768321513), best model saved.\n",
            "Better accuracy found (0.491725768321513 -> 0.5390070921985816), best model saved.\n",
            "Better accuracy found (0.5390070921985816 -> 0.6028368794326241), best model saved.\n",
            "Better accuracy found (0.6028368794326241 -> 0.6052009456264775), best model saved.\n",
            "Better accuracy found (0.6052009456264775 -> 0.6122931442080378), best model saved.\n",
            "Better accuracy found (0.6122931442080378 -> 0.624113475177305), best model saved.\n",
            "Better accuracy found (0.624113475177305 -> 0.6501182033096927), best model saved.\n",
            "Better accuracy found (0.6501182033096927 -> 0.6524822695035462), best model saved.\n",
            "Better accuracy found (0.6524822695035462 -> 0.6666666666666666), best model saved.\n",
            "Better accuracy found (0.6666666666666666 -> 0.6690307328605201), best model saved.\n",
            "Better accuracy found (0.6690307328605201 -> 0.6761229314420804), best model saved.\n",
            "Better accuracy found (0.6761229314420804 -> 0.6784869976359338), best model saved.\n",
            "Better accuracy found (0.6784869976359338 -> 0.6832151300236406), best model saved.\n",
            "Better accuracy found (0.6832151300236406 -> 0.6855791962174941), best model saved.\n",
            "Better accuracy found (0.6855791962174941 -> 0.6926713947990544), best model saved.\n",
            "Building dataset...\n",
            "Create new model...\n",
            "Setting up loss function, optimizer and scheduler...\n"
          ]
        },
        {
          "output_type": "display_data",
          "data": {
            "text/plain": [
              "  0%|          | 0/100 [00:00<?, ?it/s]"
            ],
            "application/vnd.jupyter.widget-view+json": {
              "version_major": 2,
              "version_minor": 0,
              "model_id": "c1dacda21dcc43998092df2720dd67df"
            }
          },
          "metadata": {}
        },
        {
          "output_type": "stream",
          "name": "stdout",
          "text": [
            "Better accuracy found (0 -> 0.458628841607565), best model saved.\n",
            "Better accuracy found (0.458628841607565 -> 0.4728132387706856), best model saved.\n",
            "Better accuracy found (0.4728132387706856 -> 0.4799054373522459), best model saved.\n",
            "Better accuracy found (0.4799054373522459 -> 0.508274231678487), best model saved.\n",
            "Better accuracy found (0.508274231678487 -> 0.5815602836879432), best model saved.\n",
            "Better accuracy found (0.5815602836879432 -> 0.6217494089834515), best model saved.\n",
            "Better accuracy found (0.6217494089834515 -> 0.6335697399527187), best model saved.\n",
            "Better accuracy found (0.6335697399527187 -> 0.6926713947990544), best model saved.\n",
            "Better accuracy found (0.6926713947990544 -> 0.7092198581560284), best model saved.\n",
            "Better accuracy found (0.7092198581560284 -> 0.7139479905437353), best model saved.\n",
            "Better accuracy found (0.7139479905437353 -> 0.7210401891252955), best model saved.\n",
            "Better accuracy found (0.7210401891252955 -> 0.723404255319149), best model saved.\n",
            "Better accuracy found (0.723404255319149 -> 0.7375886524822695), best model saved.\n",
            "Better accuracy found (0.7375886524822695 -> 0.7423167848699763), best model saved.\n"
          ]
        },
        {
          "output_type": "display_data",
          "data": {
            "text/plain": [
              "<Figure size 1440x360 with 3 Axes>"
            ],
            "image/png": "[encoded data removed]"
          },
          "metadata": {
            "needs_background": "light"
          }
        }
      ]
    },
    {
      "cell_type": "markdown",
      "source": [
        "# Predict the test dataset"
      ],
      "metadata": {
        "id": "Xd2TaycZpzUU"
      }
    },
    {
      "cell_type": "code",
      "source": [
        "bcidataset_test = BCIDataset(X_test, y_test)\n",
        "bcidataset_test_dl = torch.utils.data.DataLoader(bcidataset_test, batch_size=64, num_workers=8, shuffle=False)"
      ],
      "metadata": {
        "id": "8y4AJkRoqS3U"
      },
      "execution_count": null,
      "outputs": []
    },
    {
      "cell_type": "code",
      "source": [
        "pred_proba_list = []\n",
        "for fold_id in range(k):\n",
        "    model = ResTemporalCNN(drop_out)\n",
        "    model.load_state_dict(torch.load(f'fold_{fold_id}_best_acc.ckpt'))\n",
        "    model = model.cuda()\n",
        "    # validate with the testing dataset\n",
        "    predicted_label = []\n",
        "    predicted_proba = []\n",
        "    actual_label = []\n",
        "    model.eval()\n",
        "    for i, (inputs, labels) in enumerate(bcidataset_test_dl):\n",
        "        inputs = inputs.cuda()\n",
        "        actual_label += labels.tolist()\n",
        "        outputs = model(inputs)\n",
        "        predicted_label += outputs.argmax(1).cpu().numpy().tolist()\n",
        "        predicted_proba += outputs.softmax(1).cpu().tolist()\n",
        "    pred_proba_list.append(predicted_proba)"
      ],
      "metadata": {
        "id": "UyYYXHJSK2d9"
      },
      "execution_count": null,
      "outputs": []
    },
    {
      "cell_type": "code",
      "source": [
        "test_accuracy = (np.array(pred_proba_list).mean(0).argmax(1) == np.array(actual_label)).sum() / len(np.array(actual_label))"
      ],
      "metadata": {
        "id": "wVFdJp6rs6j3"
      },
      "execution_count": null,
      "outputs": []
    },
    {
      "cell_type": "code",
      "source": [
        "print(f'Final test accuracy is {test_accuracy: .5f}')"
      ],
      "metadata": {
        "colab": {
          "base_uri": "https://localhost:8080/"
        },
        "id": "LLhDhdRItVFm",
        "outputId": "ba11f56d-304b-412e-9773-d5a2eb6a40ea"
      },
      "execution_count": null,
      "outputs": [
        {
          "output_type": "stream",
          "name": "stdout",
          "text": [
            "Final test accuracy is 0.73584\n"
          ]
        }
      ]
    },
    {
      "cell_type": "code",
      "source": [
        "from sklearn.metrics import confusion_matrix\n",
        "cf_matrix = confusion_matrix(np.array(actual_label), np.array(pred_proba_list).mean(0).argmax(1))\n",
        "\n",
        "sns.heatmap(cf_matrix/np.sum(cf_matrix), annot=True, \n",
        "            fmt='.2%', cmap='Blues')"
      ],
      "metadata": {
        "colab": {
          "base_uri": "https://localhost:8080/",
          "height": 283
        },
        "id": "7A5fQjWrt4eQ",
        "outputId": "40652ac3-09ef-4635-b484-0c2a68c71383"
      },
      "execution_count": null,
      "outputs": [
        {
          "output_type": "execute_result",
          "data": {
            "text/plain": [
              "<AxesSubplot:>"
            ]
          },
          "metadata": {},
          "execution_count": 18
        },
        {
          "output_type": "display_data",
          "data": {
            "text/plain": [
              "<Figure size 432x288 with 2 Axes>"
            ],
            "image/png": "[encoded data removed]"
          },
          "metadata": {
            "needs_background": "light"
          }
        }
      ]
    },
    {
      "cell_type": "code",
      "source": [],
      "metadata": {
        "id": "LniUSgonzj8g"
      },
      "execution_count": null,
      "outputs": []
    }
  ]
}
{
  "nbformat": 4,
  "nbformat_minor": 0,
  "metadata": {
    "colab": {
      "provenance": [],
      "machine_shape": "hm"
    },
    "kernelspec": {
      "name": "python3",
      "display_name": "Python 3"
    },
    "language_info": {
      "name": "python"
    },
    "accelerator": "GPU",
    "gpuClass": "standard",
    "widgets": {
      "application/vnd.jupyter.widget-state+json": {
        "a4fff0089f804475870bb549c93eee2f": {
          "model_module": "@jupyter-widgets/controls",
          "model_name": "HBoxModel",
          "model_module_version": "1.5.0",
          "state": {
            "_dom_classes": [],
            "_model_module": "@jupyter-widgets/controls",
            "_model_module_version": "1.5.0",
            "_model_name": "HBoxModel",
            "_view_count": null,
            "_view_module": "@jupyter-widgets/controls",
            "_view_module_version": "1.5.0",
            "_view_name": "HBoxView",
            "box_style": "",
            "children": [
              "IPY_MODEL_8566f8afa3e44475a9d01bcf3d3844f5",
              "IPY_MODEL_086b2f92a39040eba7cb0a4049b2ee89",
              "IPY_MODEL_cbbd75c3dd144f13bcc01c5597887814"
            ],
            "layout": "IPY_MODEL_1854b64294764c398c3c114f4026cbb6"
          }
        },
        "8566f8afa3e44475a9d01bcf3d3844f5": {
          "model_module": "@jupyter-widgets/controls",
          "model_name": "HTMLModel",
          "model_module_version": "1.5.0",
          "state": {
            "_dom_classes": [],
            "_model_module": "@jupyter-widgets/controls",
            "_model_module_version": "1.5.0",
            "_model_name": "HTMLModel",
            "_view_count": null,
            "_view_module": "@jupyter-widgets/controls",
            "_view_module_version": "1.5.0",
            "_view_name": "HTMLView",
            "description": "",
            "description_tooltip": null,
            "layout": "IPY_MODEL_52cfb6d8c29f4481a78767010986df9e",
            "placeholder": "​",
            "style": "IPY_MODEL_9218d80d78504b53bca327b6d6f11633",
            "value": "100%"
          }
        },
        "086b2f92a39040eba7cb0a4049b2ee89": {
          "model_module": "@jupyter-widgets/controls",
          "model_name": "FloatProgressModel",
          "model_module_version": "1.5.0",
          "state": {
            "_dom_classes": [],
            "_model_module": "@jupyter-widgets/controls",
            "_model_module_version": "1.5.0",
            "_model_name": "FloatProgressModel",
            "_view_count": null,
            "_view_module": "@jupyter-widgets/controls",
            "_view_module_version": "1.5.0",
            "_view_name": "ProgressView",
            "bar_style": "success",
            "description": "",
            "description_tooltip": null,
            "layout": "IPY_MODEL_5627fd2dafdc4bc98694a42d7e968dbf",
            "max": 100,
            "min": 0,
            "orientation": "horizontal",
            "style": "IPY_MODEL_230d9ba9227d42ec9acd3be9f82ae9cf",
            "value": 100
          }
        },
        "cbbd75c3dd144f13bcc01c5597887814": {
          "model_module": "@jupyter-widgets/controls",
          "model_name": "HTMLModel",
          "model_module_version": "1.5.0",
          "state": {
            "_dom_classes": [],
            "_model_module": "@jupyter-widgets/controls",
            "_model_module_version": "1.5.0",
            "_model_name": "HTMLModel",
            "_view_count": null,
            "_view_module": "@jupyter-widgets/controls",
            "_view_module_version": "1.5.0",
            "_view_name": "HTMLView",
            "description": "",
            "description_tooltip": null,
            "layout": "IPY_MODEL_0a974f15356a48f3aafb5d17230de7ba",
            "placeholder": "​",
            "style": "IPY_MODEL_bb8b27cf80134ae0a293647b4d072916",
            "value": " 100/100 [02:11&lt;00:00,  1.41s/it]"
          }
        },
        "1854b64294764c398c3c114f4026cbb6": {
          "model_module": "@jupyter-widgets/base",
          "model_name": "LayoutModel",
          "model_module_version": "1.2.0",
          "state": {
            "_model_module": "@jupyter-widgets/base",
            "_model_module_version": "1.2.0",
            "_model_name": "LayoutModel",
            "_view_count": null,
            "_view_module": "@jupyter-widgets/base",
            "_view_module_version": "1.2.0",
            "_view_name": "LayoutView",
            "align_content": null,
            "align_items": null,
            "align_self": null,
            "border": null,
            "bottom": null,
            "display": null,
            "flex": null,
            "flex_flow": null,
            "grid_area": null,
            "grid_auto_columns": null,
            "grid_auto_flow": null,
            "grid_auto_rows": null,
            "grid_column": null,
            "grid_gap": null,
            "grid_row": null,
            "grid_template_areas": null,
            "grid_template_columns": null,
            "grid_template_rows": null,
            "height": null,
            "justify_content": null,
            "justify_items": null,
            "left": null,
            "margin": null,
            "max_height": null,
            "max_width": null,
            "min_height": null,
            "min_width": null,
            "object_fit": null,
            "object_position": null,
            "order": null,
            "overflow": null,
            "overflow_x": null,
            "overflow_y": null,
            "padding": null,
            "right": null,
            "top": null,
            "visibility": null,
            "width": null
          }
        },
        "52cfb6d8c29f4481a78767010986df9e": {
          "model_module": "@jupyter-widgets/base",
          "model_name": "LayoutModel",
          "model_module_version": "1.2.0",
          "state": {
            "_model_module": "@jupyter-widgets/base",
            "_model_module_version": "1.2.0",
            "_model_name": "LayoutModel",
            "_view_count": null,
            "_view_module": "@jupyter-widgets/base",
            "_view_module_version": "1.2.0",
            "_view_name": "LayoutView",
            "align_content": null,
            "align_items": null,
            "align_self": null,
            "border": null,
            "bottom": null,
            "display": null,
            "flex": null,
            "flex_flow": null,
            "grid_area": null,
            "grid_auto_columns": null,
            "grid_auto_flow": null,
            "grid_auto_rows": null,
            "grid_column": null,
            "grid_gap": null,
            "grid_row": null,
            "grid_template_areas": null,
            "grid_template_columns": null,
            "grid_template_rows": null,
            "height": null,
            "justify_content": null,
            "justify_items": null,
            "left": null,
            "margin": null,
            "max_height": null,
            "max_width": null,
            "min_height": null,
            "min_width": null,
            "object_fit": null,
            "object_position": null,
            "order": null,
            "overflow": null,
            "overflow_x": null,
            "overflow_y": null,
            "padding": null,
            "right": null,
            "top": null,
            "visibility": null,
            "width": null
          }
        },
        "9218d80d78504b53bca327b6d6f11633": {
          "model_module": "@jupyter-widgets/controls",
          "model_name": "DescriptionStyleModel",
          "model_module_version": "1.5.0",
          "state": {
            "_model_module": "@jupyter-widgets/controls",
            "_model_module_version": "1.5.0",
            "_model_name": "DescriptionStyleModel",
            "_view_count": null,
            "_view_module": "@jupyter-widgets/base",
            "_view_module_version": "1.2.0",
            "_view_name": "StyleView",
            "description_width": ""
          }
        },
        "5627fd2dafdc4bc98694a42d7e968dbf": {
          "model_module": "@jupyter-widgets/base",
          "model_name": "LayoutModel",
          "model_module_version": "1.2.0",
          "state": {
            "_model_module": "@jupyter-widgets/base",
            "_model_module_version": "1.2.0",
            "_model_name": "LayoutModel",
            "_view_count": null,
            "_view_module": "@jupyter-widgets/base",
            "_view_module_version": "1.2.0",
            "_view_name": "LayoutView",
            "align_content": null,
            "align_items": null,
            "align_self": null,
            "border": null,
            "bottom": null,
            "display": null,
            "flex": null,
            "flex_flow": null,
            "grid_area": null,
            "grid_auto_columns": null,
            "grid_auto_flow": null,
            "grid_auto_rows": null,
            "grid_column": null,
            "grid_gap": null,
            "grid_row": null,
            "grid_template_areas": null,
            "grid_template_columns": null,
            "grid_template_rows": null,
            "height": null,
            "justify_content": null,
            "justify_items": null,
            "left": null,
            "margin": null,
            "max_height": null,
            "max_width": null,
            "min_height": null,
            "min_width": null,
            "object_fit": null,
            "object_position": null,
            "order": null,
            "overflow": null,
            "overflow_x": null,
            "overflow_y": null,
            "padding": null,
            "right": null,
            "top": null,
            "visibility": null,
            "width": null
          }
        },
        "230d9ba9227d42ec9acd3be9f82ae9cf": {
          "model_module": "@jupyter-widgets/controls",
          "model_name": "ProgressStyleModel",
          "model_module_version": "1.5.0",
          "state": {
            "_model_module": "@jupyter-widgets/controls",
            "_model_module_version": "1.5.0",
            "_model_name": "ProgressStyleModel",
            "_view_count": null,
            "_view_module": "@jupyter-widgets/base",
            "_view_module_version": "1.2.0",
            "_view_name": "StyleView",
            "bar_color": null,
            "description_width": ""
          }
        },
        "0a974f15356a48f3aafb5d17230de7ba": {
          "model_module": "@jupyter-widgets/base",
          "model_name": "LayoutModel",
          "model_module_version": "1.2.0",
          "state": {
            "_model_module": "@jupyter-widgets/base",
            "_model_module_version": "1.2.0",
            "_model_name": "LayoutModel",
            "_view_count": null,
            "_view_module": "@jupyter-widgets/base",
            "_view_module_version": "1.2.0",
            "_view_name": "LayoutView",
            "align_content": null,
            "align_items": null,
            "align_self": null,
            "border": null,
            "bottom": null,
            "display": null,
            "flex": null,
            "flex_flow": null,
            "grid_area": null,
            "grid_auto_columns": null,
            "grid_auto_flow": null,
            "grid_auto_rows": null,
            "grid_column": null,
            "grid_gap": null,
            "grid_row": null,
            "grid_template_areas": null,
            "grid_template_columns": null,
            "grid_template_rows": null,
            "height": null,
            "justify_content": null,
            "justify_items": null,
            "left": null,
            "margin": null,
            "max_height": null,
            "max_width": null,
            "min_height": null,
            "min_width": null,
            "object_fit": null,
            "object_position": null,
            "order": null,
            "overflow": null,
            "overflow_x": null,
            "overflow_y": null,
            "padding": null,
            "right": null,
            "top": null,
            "visibility": null,
            "width": null
          }
        },
        "bb8b27cf80134ae0a293647b4d072916": {
          "model_module": "@jupyter-widgets/controls",
          "model_name": "DescriptionStyleModel",
          "model_module_version": "1.5.0",
          "state": {
            "_model_module": "@jupyter-widgets/controls",
            "_model_module_version": "1.5.0",
            "_model_name": "DescriptionStyleModel",
            "_view_count": null,
            "_view_module": "@jupyter-widgets/base",
            "_view_module_version": "1.2.0",
            "_view_name": "StyleView",
            "description_width": ""
          }
        },
        "d6fca79118ba44749570a02e8ef8a7ed": {
          "model_module": "@jupyter-widgets/controls",
          "model_name": "HBoxModel",
          "model_module_version": "1.5.0",
          "state": {
            "_dom_classes": [],
            "_model_module": "@jupyter-widgets/controls",
            "_model_module_version": "1.5.0",
            "_model_name": "HBoxModel",
            "_view_count": null,
            "_view_module": "@jupyter-widgets/controls",
            "_view_module_version": "1.5.0",
            "_view_name": "HBoxView",
            "box_style": "",
            "children": [
              "IPY_MODEL_f45da89fab7f4e6ca422ca4fae06dc66",
              "IPY_MODEL_7056cb922e394665b11d25851db1a374",
              "IPY_MODEL_e21db5a4e08d44cea89dc0fb20e06ca8"
            ],
            "layout": "IPY_MODEL_1e845e83c9f04729a664a828c77cd224"
          }
        },
        "f45da89fab7f4e6ca422ca4fae06dc66": {
          "model_module": "@jupyter-widgets/controls",
          "model_name": "HTMLModel",
          "model_module_version": "1.5.0",
          "state": {
            "_dom_classes": [],
            "_model_module": "@jupyter-widgets/controls",
            "_model_module_version": "1.5.0",
            "_model_name": "HTMLModel",
            "_view_count": null,
            "_view_module": "@jupyter-widgets/controls",
            "_view_module_version": "1.5.0",
            "_view_name": "HTMLView",
            "description": "",
            "description_tooltip": null,
            "layout": "IPY_MODEL_e9758ec1c8ca43f296ed84b650fd625f",
            "placeholder": "​",
            "style": "IPY_MODEL_2b48f817156d4189bf8322a7adb1cd23",
            "value": "100%"
          }
        },
        "7056cb922e394665b11d25851db1a374": {
          "model_module": "@jupyter-widgets/controls",
          "model_name": "FloatProgressModel",
          "model_module_version": "1.5.0",
          "state": {
            "_dom_classes": [],
            "_model_module": "@jupyter-widgets/controls",
            "_model_module_version": "1.5.0",
            "_model_name": "FloatProgressModel",
            "_view_count": null,
            "_view_module": "@jupyter-widgets/controls",
            "_view_module_version": "1.5.0",
            "_view_name": "ProgressView",
            "bar_style": "success",
            "description": "",
            "description_tooltip": null,
            "layout": "IPY_MODEL_31384ebec0774406a822700ab09fb695",
            "max": 100,
            "min": 0,
            "orientation": "horizontal",
            "style": "IPY_MODEL_e50a68b17e524a0599772e05dc0c4f8e",
            "value": 100
          }
        },
        "e21db5a4e08d44cea89dc0fb20e06ca8": {
          "model_module": "@jupyter-widgets/controls",
          "model_name": "HTMLModel",
          "model_module_version": "1.5.0",
          "state": {
            "_dom_classes": [],
            "_model_module": "@jupyter-widgets/controls",
            "_model_module_version": "1.5.0",
            "_model_name": "HTMLModel",
            "_view_count": null,
            "_view_module": "@jupyter-widgets/controls",
            "_view_module_version": "1.5.0",
            "_view_name": "HTMLView",
            "description": "",
            "description_tooltip": null,
            "layout": "IPY_MODEL_efd9a4b61b4340ee8bd47f4e8149c0ca",
            "placeholder": "​",
            "style": "IPY_MODEL_26a094ec8e6149658f83bdcb8d4ba180",
            "value": " 100/100 [02:16&lt;00:00,  1.25s/it]"
          }
        },
        "1e845e83c9f04729a664a828c77cd224": {
          "model_module": "@jupyter-widgets/base",
          "model_name": "LayoutModel",
          "model_module_version": "1.2.0",
          "state": {
            "_model_module": "@jupyter-widgets/base",
            "_model_module_version": "1.2.0",
            "_model_name": "LayoutModel",
            "_view_count": null,
            "_view_module": "@jupyter-widgets/base",
            "_view_module_version": "1.2.0",
            "_view_name": "LayoutView",
            "align_content": null,
            "align_items": null,
            "align_self": null,
            "border": null,
            "bottom": null,
            "display": null,
            "flex": null,
            "flex_flow": null,
            "grid_area": null,
            "grid_auto_columns": null,
            "grid_auto_flow": null,
            "grid_auto_rows": null,
            "grid_column": null,
            "grid_gap": null,
            "grid_row": null,
            "grid_template_areas": null,
            "grid_template_columns": null,
            "grid_template_rows": null,
            "height": null,
            "justify_content": null,
            "justify_items": null,
            "left": null,
            "margin": null,
            "max_height": null,
            "max_width": null,
            "min_height": null,
            "min_width": null,
            "object_fit": null,
            "object_position": null,
            "order": null,
            "overflow": null,
            "overflow_x": null,
            "overflow_y": null,
            "padding": null,
            "right": null,
            "top": null,
            "visibility": null,
            "width": null
          }
        },
        "e9758ec1c8ca43f296ed84b650fd625f": {
          "model_module": "@jupyter-widgets/base",
          "model_name": "LayoutModel",
          "model_module_version": "1.2.0",
          "state": {
            "_model_module": "@jupyter-widgets/base",
            "_model_module_version": "1.2.0",
            "_model_name": "LayoutModel",
            "_view_count": null,
            "_view_module": "@jupyter-widgets/base",
            "_view_module_version": "1.2.0",
            "_view_name": "LayoutView",
            "align_content": null,
            "align_items": null,
            "align_self": null,
            "border": null,
            "bottom": null,
            "display": null,
            "flex": null,
            "flex_flow": null,
            "grid_area": null,
            "grid_auto_columns": null,
            "grid_auto_flow": null,
            "grid_auto_rows": null,
            "grid_column": null,
            "grid_gap": null,
            "grid_row": null,
            "grid_template_areas": null,
            "grid_template_columns": null,
            "grid_template_rows": null,
            "height": null,
            "justify_content": null,
            "justify_items": null,
            "left": null,
            "margin": null,
            "max_height": null,
            "max_width": null,
            "min_height": null,
            "min_width": null,
            "object_fit": null,
            "object_position": null,
            "order": null,
            "overflow": null,
            "overflow_x": null,
            "overflow_y": null,
            "padding": null,
            "right": null,
            "top": null,
            "visibility": null,
            "width": null
          }
        },
        "2b48f817156d4189bf8322a7adb1cd23": {
          "model_module": "@jupyter-widgets/controls",
          "model_name": "DescriptionStyleModel",
          "model_module_version": "1.5.0",
          "state": {
            "_model_module": "@jupyter-widgets/controls",
            "_model_module_version": "1.5.0",
            "_model_name": "DescriptionStyleModel",
            "_view_count": null,
            "_view_module": "@jupyter-widgets/base",
            "_view_module_version": "1.2.0",
            "_view_name": "StyleView",
            "description_width": ""
          }
        },
        "31384ebec0774406a822700ab09fb695": {
          "model_module": "@jupyter-widgets/base",
          "model_name": "LayoutModel",
          "model_module_version": "1.2.0",
          "state": {
            "_model_module": "@jupyter-widgets/base",
            "_model_module_version": "1.2.0",
            "_model_name": "LayoutModel",
            "_view_count": null,
            "_view_module": "@jupyter-widgets/base",
            "_view_module_version": "1.2.0",
            "_view_name": "LayoutView",
            "align_content": null,
            "align_items": null,
            "align_self": null,
            "border": null,
            "bottom": null,
            "display": null,
            "flex": null,
            "flex_flow": null,
            "grid_area": null,
            "grid_auto_columns": null,
            "grid_auto_flow": null,
            "grid_auto_rows": null,
            "grid_column": null,
            "grid_gap": null,
            "grid_row": null,
            "grid_template_areas": null,
            "grid_template_columns": null,
            "grid_template_rows": null,
            "height": null,
            "justify_content": null,
            "justify_items": null,
            "left": null,
            "margin": null,
            "max_height": null,
            "max_width": null,
            "min_height": null,
            "min_width": null,
            "object_fit": null,
            "object_position": null,
            "order": null,
            "overflow": null,
            "overflow_x": null,
            "overflow_y": null,
            "padding": null,
            "right": null,
            "top": null,
            "visibility": null,
            "width": null
          }
        },
        "e50a68b17e524a0599772e05dc0c4f8e": {
          "model_module": "@jupyter-widgets/controls",
          "model_name": "ProgressStyleModel",
          "model_module_version": "1.5.0",
          "state": {
            "_model_module": "@jupyter-widgets/controls",
            "_model_module_version": "1.5.0",
            "_model_name": "ProgressStyleModel",
            "_view_count": null,
            "_view_module": "@jupyter-widgets/base",
            "_view_module_version": "1.2.0",
            "_view_name": "StyleView",
            "bar_color": null,
            "description_width": ""
          }
        },
        "efd9a4b61b4340ee8bd47f4e8149c0ca": {
          "model_module": "@jupyter-widgets/base",
          "model_name": "LayoutModel",
          "model_module_version": "1.2.0",
          "state": {
            "_model_module": "@jupyter-widgets/base",
            "_model_module_version": "1.2.0",
            "_model_name": "LayoutModel",
            "_view_count": null,
            "_view_module": "@jupyter-widgets/base",
            "_view_module_version": "1.2.0",
            "_view_name": "LayoutView",
            "align_content": null,
            "align_items": null,
            "align_self": null,
            "border": null,
            "bottom": null,
            "display": null,
            "flex": null,
            "flex_flow": null,
            "grid_area": null,
            "grid_auto_columns": null,
            "grid_auto_flow": null,
            "grid_auto_rows": null,
            "grid_column": null,
            "grid_gap": null,
            "grid_row": null,
            "grid_template_areas": null,
            "grid_template_columns": null,
            "grid_template_rows": null,
            "height": null,
            "justify_content": null,
            "justify_items": null,
            "left": null,
            "margin": null,
            "max_height": null,
            "max_width": null,
            "min_height": null,
            "min_width": null,
            "object_fit": null,
            "object_position": null,
            "order": null,
            "overflow": null,
            "overflow_x": null,
            "overflow_y": null,
            "padding": null,
            "right": null,
            "top": null,
            "visibility": null,
            "width": null
          }
        },
        "26a094ec8e6149658f83bdcb8d4ba180": {
          "model_module": "@jupyter-widgets/controls",
          "model_name": "DescriptionStyleModel",
          "model_module_version": "1.5.0",
          "state": {
            "_model_module": "@jupyter-widgets/controls",
            "_model_module_version": "1.5.0",
            "_model_name": "DescriptionStyleModel",
            "_view_count": null,
            "_view_module": "@jupyter-widgets/base",
            "_view_module_version": "1.2.0",
            "_view_name": "StyleView",
            "description_width": ""
          }
        },
        "c0a8ec524fb64eb193fb28b878e82538": {
          "model_module": "@jupyter-widgets/controls",
          "model_name": "HBoxModel",
          "model_module_version": "1.5.0",
          "state": {
            "_dom_classes": [],
            "_model_module": "@jupyter-widgets/controls",
            "_model_module_version": "1.5.0",
            "_model_name": "HBoxModel",
            "_view_count": null,
            "_view_module": "@jupyter-widgets/controls",
            "_view_module_version": "1.5.0",
            "_view_name": "HBoxView",
            "box_style": "",
            "children": [
              "IPY_MODEL_888a07e154cb43258e500638635d49ba",
              "IPY_MODEL_922571d0a5a343e4b501c414680f4940",
              "IPY_MODEL_689e54acc58f47a7acd40173517cb0b6"
            ],
            "layout": "IPY_MODEL_7f892777824d407c87f9339c8b7f0096"
          }
        },
        "888a07e154cb43258e500638635d49ba": {
          "model_module": "@jupyter-widgets/controls",
          "model_name": "HTMLModel",
          "model_module_version": "1.5.0",
          "state": {
            "_dom_classes": [],
            "_model_module": "@jupyter-widgets/controls",
            "_model_module_version": "1.5.0",
            "_model_name": "HTMLModel",
            "_view_count": null,
            "_view_module": "@jupyter-widgets/controls",
            "_view_module_version": "1.5.0",
            "_view_name": "HTMLView",
            "description": "",
            "description_tooltip": null,
            "layout": "IPY_MODEL_433c2b23c0184d5fa67ead9783ee2744",
            "placeholder": "​",
            "style": "IPY_MODEL_0d845367c7f940d38699780f738977dd",
            "value": "100%"
          }
        },
        "922571d0a5a343e4b501c414680f4940": {
          "model_module": "@jupyter-widgets/controls",
          "model_name": "FloatProgressModel",
          "model_module_version": "1.5.0",
          "state": {
            "_dom_classes": [],
            "_model_module": "@jupyter-widgets/controls",
            "_model_module_version": "1.5.0",
            "_model_name": "FloatProgressModel",
            "_view_count": null,
            "_view_module": "@jupyter-widgets/controls",
            "_view_module_version": "1.5.0",
            "_view_name": "ProgressView",
            "bar_style": "success",
            "description": "",
            "description_tooltip": null,
            "layout": "IPY_MODEL_23e09429c0df4ede8ca9aefd5941ed69",
            "max": 100,
            "min": 0,
            "orientation": "horizontal",
            "style": "IPY_MODEL_d62cb6df83f644e8938ca99ef5b28ac9",
            "value": 100
          }
        },
        "689e54acc58f47a7acd40173517cb0b6": {
          "model_module": "@jupyter-widgets/controls",
          "model_name": "HTMLModel",
          "model_module_version": "1.5.0",
          "state": {
            "_dom_classes": [],
            "_model_module": "@jupyter-widgets/controls",
            "_model_module_version": "1.5.0",
            "_model_name": "HTMLModel",
            "_view_count": null,
            "_view_module": "@jupyter-widgets/controls",
            "_view_module_version": "1.5.0",
            "_view_name": "HTMLView",
            "description": "",
            "description_tooltip": null,
            "layout": "IPY_MODEL_8be0655bb9a948c5a00e9bc3089ad76f",
            "placeholder": "​",
            "style": "IPY_MODEL_c253dc9a6ba542e38ac996b589bb12bd",
            "value": " 100/100 [02:24&lt;00:00,  1.42s/it]"
          }
        },
        "7f892777824d407c87f9339c8b7f0096": {
          "model_module": "@jupyter-widgets/base",
          "model_name": "LayoutModel",
          "model_module_version": "1.2.0",
          "state": {
            "_model_module": "@jupyter-widgets/base",
            "_model_module_version": "1.2.0",
            "_model_name": "LayoutModel",
            "_view_count": null,
            "_view_module": "@jupyter-widgets/base",
            "_view_module_version": "1.2.0",
            "_view_name": "LayoutView",
            "align_content": null,
            "align_items": null,
            "align_self": null,
            "border": null,
            "bottom": null,
            "display": null,
            "flex": null,
            "flex_flow": null,
            "grid_area": null,
            "grid_auto_columns": null,
            "grid_auto_flow": null,
            "grid_auto_rows": null,
            "grid_column": null,
            "grid_gap": null,
            "grid_row": null,
            "grid_template_areas": null,
            "grid_template_columns": null,
            "grid_template_rows": null,
            "height": null,
            "justify_content": null,
            "justify_items": null,
            "left": null,
            "margin": null,
            "max_height": null,
            "max_width": null,
            "min_height": null,
            "min_width": null,
            "object_fit": null,
            "object_position": null,
            "order": null,
            "overflow": null,
            "overflow_x": null,
            "overflow_y": null,
            "padding": null,
            "right": null,
            "top": null,
            "visibility": null,
            "width": null
          }
        },
        "433c2b23c0184d5fa67ead9783ee2744": {
          "model_module": "@jupyter-widgets/base",
          "model_name": "LayoutModel",
          "model_module_version": "1.2.0",
          "state": {
            "_model_module": "@jupyter-widgets/base",
            "_model_module_version": "1.2.0",
            "_model_name": "LayoutModel",
            "_view_count": null,
            "_view_module": "@jupyter-widgets/base",
            "_view_module_version": "1.2.0",
            "_view_name": "LayoutView",
            "align_content": null,
            "align_items": null,
            "align_self": null,
            "border": null,
            "bottom": null,
            "display": null,
            "flex": null,
            "flex_flow": null,
            "grid_area": null,
            "grid_auto_columns": null,
            "grid_auto_flow": null,
            "grid_auto_rows": null,
            "grid_column": null,
            "grid_gap": null,
            "grid_row": null,
            "grid_template_areas": null,
            "grid_template_columns": null,
            "grid_template_rows": null,
            "height": null,
            "justify_content": null,
            "justify_items": null,
            "left": null,
            "margin": null,
            "max_height": null,
            "max_width": null,
            "min_height": null,
            "min_width": null,
            "object_fit": null,
            "object_position": null,
            "order": null,
            "overflow": null,
            "overflow_x": null,
            "overflow_y": null,
            "padding": null,
            "right": null,
            "top": null,
            "visibility": null,
            "width": null
          }
        },
        "0d845367c7f940d38699780f738977dd": {
          "model_module": "@jupyter-widgets/controls",
          "model_name": "DescriptionStyleModel",
          "model_module_version": "1.5.0",
          "state": {
            "_model_module": "@jupyter-widgets/controls",
            "_model_module_version": "1.5.0",
            "_model_name": "DescriptionStyleModel",
            "_view_count": null,
            "_view_module": "@jupyter-widgets/base",
            "_view_module_version": "1.2.0",
            "_view_name": "StyleView",
            "description_width": ""
          }
        },
        "23e09429c0df4ede8ca9aefd5941ed69": {
          "model_module": "@jupyter-widgets/base",
          "model_name": "LayoutModel",
          "model_module_version": "1.2.0",
          "state": {
            "_model_module": "@jupyter-widgets/base",
            "_model_module_version": "1.2.0",
            "_model_name": "LayoutModel",
            "_view_count": null,
            "_view_module": "@jupyter-widgets/base",
            "_view_module_version": "1.2.0",
            "_view_name": "LayoutView",
            "align_content": null,
            "align_items": null,
            "align_self": null,
            "border": null,
            "bottom": null,
            "display": null,
            "flex": null,
            "flex_flow": null,
            "grid_area": null,
            "grid_auto_columns": null,
            "grid_auto_flow": null,
            "grid_auto_rows": null,
            "grid_column": null,
            "grid_gap": null,
            "grid_row": null,
            "grid_template_areas": null,
            "grid_template_columns": null,
            "grid_template_rows": null,
            "height": null,
            "justify_content": null,
            "justify_items": null,
            "left": null,
            "margin": null,
            "max_height": null,
            "max_width": null,
            "min_height": null,
            "min_width": null,
            "object_fit": null,
            "object_position": null,
            "order": null,
            "overflow": null,
            "overflow_x": null,
            "overflow_y": null,
            "padding": null,
            "right": null,
            "top": null,
            "visibility": null,
            "width": null
          }
        },
        "d62cb6df83f644e8938ca99ef5b28ac9": {
          "model_module": "@jupyter-widgets/controls",
          "model_name": "ProgressStyleModel",
          "model_module_version": "1.5.0",
          "state": {
            "_model_module": "@jupyter-widgets/controls",
            "_model_module_version": "1.5.0",
            "_model_name": "ProgressStyleModel",
            "_view_count": null,
            "_view_module": "@jupyter-widgets/base",
            "_view_module_version": "1.2.0",
            "_view_name": "StyleView",
            "bar_color": null,
            "description_width": ""
          }
        },
        "8be0655bb9a948c5a00e9bc3089ad76f": {
          "model_module": "@jupyter-widgets/base",
          "model_name": "LayoutModel",
          "model_module_version": "1.2.0",
          "state": {
            "_model_module": "@jupyter-widgets/base",
            "_model_module_version": "1.2.0",
            "_model_name": "LayoutModel",
            "_view_count": null,
            "_view_module": "@jupyter-widgets/base",
            "_view_module_version": "1.2.0",
            "_view_name": "LayoutView",
            "align_content": null,
            "align_items": null,
            "align_self": null,
            "border": null,
            "bottom": null,
            "display": null,
            "flex": null,
            "flex_flow": null,
            "grid_area": null,
            "grid_auto_columns": null,
            "grid_auto_flow": null,
            "grid_auto_rows": null,
            "grid_column": null,
            "grid_gap": null,
            "grid_row": null,
            "grid_template_areas": null,
            "grid_template_columns": null,
            "grid_template_rows": null,
            "height": null,
            "justify_content": null,
            "justify_items": null,
            "left": null,
            "margin": null,
            "max_height": null,
            "max_width": null,
            "min_height": null,
            "min_width": null,
            "object_fit": null,
            "object_position": null,
            "order": null,
            "overflow": null,
            "overflow_x": null,
            "overflow_y": null,
            "padding": null,
            "right": null,
            "top": null,
            "visibility": null,
            "width": null
          }
        },
        "c253dc9a6ba542e38ac996b589bb12bd": {
          "model_module": "@jupyter-widgets/controls",
          "model_name": "DescriptionStyleModel",
          "model_module_version": "1.5.0",
          "state": {
            "_model_module": "@jupyter-widgets/controls",
            "_model_module_version": "1.5.0",
            "_model_name": "DescriptionStyleModel",
            "_view_count": null,
            "_view_module": "@jupyter-widgets/base",
            "_view_module_version": "1.2.0",
            "_view_name": "StyleView",
            "description_width": ""
          }
        },
        "40a5aacc3e794bb98b7a5e62b8ac6397": {
          "model_module": "@jupyter-widgets/controls",
          "model_name": "HBoxModel",
          "model_module_version": "1.5.0",
          "state": {
            "_dom_classes": [],
            "_model_module": "@jupyter-widgets/controls",
            "_model_module_version": "1.5.0",
            "_model_name": "HBoxModel",
            "_view_count": null,
            "_view_module": "@jupyter-widgets/controls",
            "_view_module_version": "1.5.0",
            "_view_name": "HBoxView",
            "box_style": "",
            "children": [
              "IPY_MODEL_02bf5e858a164dd7bc5aeea3cc8e4167",
              "IPY_MODEL_da4ae28550174e40b384c5e9e85744dd",
              "IPY_MODEL_ceae9d6437bc4492a49bd330dd1190eb"
            ],
            "layout": "IPY_MODEL_c659f9af97ad445bada8c0faa9ae6f8d"
          }
        },
        "02bf5e858a164dd7bc5aeea3cc8e4167": {
          "model_module": "@jupyter-widgets/controls",
          "model_name": "HTMLModel",
          "model_module_version": "1.5.0",
          "state": {
            "_dom_classes": [],
            "_model_module": "@jupyter-widgets/controls",
            "_model_module_version": "1.5.0",
            "_model_name": "HTMLModel",
            "_view_count": null,
            "_view_module": "@jupyter-widgets/controls",
            "_view_module_version": "1.5.0",
            "_view_name": "HTMLView",
            "description": "",
            "description_tooltip": null,
            "layout": "IPY_MODEL_9f8f771bdebd49d8bae1acbf671619b6",
            "placeholder": "​",
            "style": "IPY_MODEL_635de9f3804e4201af53ecbe3c1dbba6",
            "value": "100%"
          }
        },
        "da4ae28550174e40b384c5e9e85744dd": {
          "model_module": "@jupyter-widgets/controls",
          "model_name": "FloatProgressModel",
          "model_module_version": "1.5.0",
          "state": {
            "_dom_classes": [],
            "_model_module": "@jupyter-widgets/controls",
            "_model_module_version": "1.5.0",
            "_model_name": "FloatProgressModel",
            "_view_count": null,
            "_view_module": "@jupyter-widgets/controls",
            "_view_module_version": "1.5.0",
            "_view_name": "ProgressView",
            "bar_style": "success",
            "description": "",
            "description_tooltip": null,
            "layout": "IPY_MODEL_2cf67889b2384a34b07ec5370df4338b",
            "max": 100,
            "min": 0,
            "orientation": "horizontal",
            "style": "IPY_MODEL_3924478cdf454f3b9f10f1d3f1b0c9c2",
            "value": 100
          }
        },
        "ceae9d6437bc4492a49bd330dd1190eb": {
          "model_module": "@jupyter-widgets/controls",
          "model_name": "HTMLModel",
          "model_module_version": "1.5.0",
          "state": {
            "_dom_classes": [],
            "_model_module": "@jupyter-widgets/controls",
            "_model_module_version": "1.5.0",
            "_model_name": "HTMLModel",
            "_view_count": null,
            "_view_module": "@jupyter-widgets/controls",
            "_view_module_version": "1.5.0",
            "_view_name": "HTMLView",
            "description": "",
            "description_tooltip": null,
            "layout": "IPY_MODEL_5c6c86e326c4480996907f1ac106eab4",
            "placeholder": "​",
            "style": "IPY_MODEL_5e43b639b3c84334bb468042f4902ea3",
            "value": " 100/100 [02:29&lt;00:00,  1.45s/it]"
          }
        },
        "c659f9af97ad445bada8c0faa9ae6f8d": {
          "model_module": "@jupyter-widgets/base",
          "model_name": "LayoutModel",
          "model_module_version": "1.2.0",
          "state": {
            "_model_module": "@jupyter-widgets/base",
            "_model_module_version": "1.2.0",
            "_model_name": "LayoutModel",
            "_view_count": null,
            "_view_module": "@jupyter-widgets/base",
            "_view_module_version": "1.2.0",
            "_view_name": "LayoutView",
            "align_content": null,
            "align_items": null,
            "align_self": null,
            "border": null,
            "bottom": null,
            "display": null,
            "flex": null,
            "flex_flow": null,
            "grid_area": null,
            "grid_auto_columns": null,
            "grid_auto_flow": null,
            "grid_auto_rows": null,
            "grid_column": null,
            "grid_gap": null,
            "grid_row": null,
            "grid_template_areas": null,
            "grid_template_columns": null,
            "grid_template_rows": null,
            "height": null,
            "justify_content": null,
            "justify_items": null,
            "left": null,
            "margin": null,
            "max_height": null,
            "max_width": null,
            "min_height": null,
            "min_width": null,
            "object_fit": null,
            "object_position": null,
            "order": null,
            "overflow": null,
            "overflow_x": null,
            "overflow_y": null,
            "padding": null,
            "right": null,
            "top": null,
            "visibility": null,
            "width": null
          }
        },
        "9f8f771bdebd49d8bae1acbf671619b6": {
          "model_module": "@jupyter-widgets/base",
          "model_name": "LayoutModel",
          "model_module_version": "1.2.0",
          "state": {
            "_model_module": "@jupyter-widgets/base",
            "_model_module_version": "1.2.0",
            "_model_name": "LayoutModel",
            "_view_count": null,
            "_view_module": "@jupyter-widgets/base",
            "_view_module_version": "1.2.0",
            "_view_name": "LayoutView",
            "align_content": null,
            "align_items": null,
            "align_self": null,
            "border": null,
            "bottom": null,
            "display": null,
            "flex": null,
            "flex_flow": null,
            "grid_area": null,
            "grid_auto_columns": null,
            "grid_auto_flow": null,
            "grid_auto_rows": null,
            "grid_column": null,
            "grid_gap": null,
            "grid_row": null,
            "grid_template_areas": null,
            "grid_template_columns": null,
            "grid_template_rows": null,
            "height": null,
            "justify_content": null,
            "justify_items": null,
            "left": null,
            "margin": null,
            "max_height": null,
            "max_width": null,
            "min_height": null,
            "min_width": null,
            "object_fit": null,
            "object_position": null,
            "order": null,
            "overflow": null,
            "overflow_x": null,
            "overflow_y": null,
            "padding": null,
            "right": null,
            "top": null,
            "visibility": null,
            "width": null
          }
        },
        "635de9f3804e4201af53ecbe3c1dbba6": {
          "model_module": "@jupyter-widgets/controls",
          "model_name": "DescriptionStyleModel",
          "model_module_version": "1.5.0",
          "state": {
            "_model_module": "@jupyter-widgets/controls",
            "_model_module_version": "1.5.0",
            "_model_name": "DescriptionStyleModel",
            "_view_count": null,
            "_view_module": "@jupyter-widgets/base",
            "_view_module_version": "1.2.0",
            "_view_name": "StyleView",
            "description_width": ""
          }
        },
        "2cf67889b2384a34b07ec5370df4338b": {
          "model_module": "@jupyter-widgets/base",
          "model_name": "LayoutModel",
          "model_module_version": "1.2.0",
          "state": {
            "_model_module": "@jupyter-widgets/base",
            "_model_module_version": "1.2.0",
            "_model_name": "LayoutModel",
            "_view_count": null,
            "_view_module": "@jupyter-widgets/base",
            "_view_module_version": "1.2.0",
            "_view_name": "LayoutView",
            "align_content": null,
            "align_items": null,
            "align_self": null,
            "border": null,
            "bottom": null,
            "display": null,
            "flex": null,
            "flex_flow": null,
            "grid_area": null,
            "grid_auto_columns": null,
            "grid_auto_flow": null,
            "grid_auto_rows": null,
            "grid_column": null,
            "grid_gap": null,
            "grid_row": null,
            "grid_template_areas": null,
            "grid_template_columns": null,
            "grid_template_rows": null,
            "height": null,
            "justify_content": null,
            "justify_items": null,
            "left": null,
            "margin": null,
            "max_height": null,
            "max_width": null,
            "min_height": null,
            "min_width": null,
            "object_fit": null,
            "object_position": null,
            "order": null,
            "overflow": null,
            "overflow_x": null,
            "overflow_y": null,
            "padding": null,
            "right": null,
            "top": null,
            "visibility": null,
            "width": null
          }
        },
        "3924478cdf454f3b9f10f1d3f1b0c9c2": {
          "model_module": "@jupyter-widgets/controls",
          "model_name": "ProgressStyleModel",
          "model_module_version": "1.5.0",
          "state": {
            "_model_module": "@jupyter-widgets/controls",
            "_model_module_version": "1.5.0",
            "_model_name": "ProgressStyleModel",
            "_view_count": null,
            "_view_module": "@jupyter-widgets/base",
            "_view_module_version": "1.2.0",
            "_view_name": "StyleView",
            "bar_color": null,
            "description_width": ""
          }
        },
        "5c6c86e326c4480996907f1ac106eab4": {
          "model_module": "@jupyter-widgets/base",
          "model_name": "LayoutModel",
          "model_module_version": "1.2.0",
          "state": {
            "_model_module": "@jupyter-widgets/base",
            "_model_module_version": "1.2.0",
            "_model_name": "LayoutModel",
            "_view_count": null,
            "_view_module": "@jupyter-widgets/base",
            "_view_module_version": "1.2.0",
            "_view_name": "LayoutView",
            "align_content": null,
            "align_items": null,
            "align_self": null,
            "border": null,
            "bottom": null,
            "display": null,
            "flex": null,
            "flex_flow": null,
            "grid_area": null,
            "grid_auto_columns": null,
            "grid_auto_flow": null,
            "grid_auto_rows": null,
            "grid_column": null,
            "grid_gap": null,
            "grid_row": null,
            "grid_template_areas": null,
            "grid_template_columns": null,
            "grid_template_rows": null,
            "height": null,
            "justify_content": null,
            "justify_items": null,
            "left": null,
            "margin": null,
            "max_height": null,
            "max_width": null,
            "min_height": null,
            "min_width": null,
            "object_fit": null,
            "object_position": null,
            "order": null,
            "overflow": null,
            "overflow_x": null,
            "overflow_y": null,
            "padding": null,
            "right": null,
            "top": null,
            "visibility": null,
            "width": null
          }
        },
        "5e43b639b3c84334bb468042f4902ea3": {
          "model_module": "@jupyter-widgets/controls",
          "model_name": "DescriptionStyleModel",
          "model_module_version": "1.5.0",
          "state": {
            "_model_module": "@jupyter-widgets/controls",
            "_model_module_version": "1.5.0",
            "_model_name": "DescriptionStyleModel",
            "_view_count": null,
            "_view_module": "@jupyter-widgets/base",
            "_view_module_version": "1.2.0",
            "_view_name": "StyleView",
            "description_width": ""
          }
        },
        "a20601d61c6444d990010938583ed391": {
          "model_module": "@jupyter-widgets/controls",
          "model_name": "HBoxModel",
          "model_module_version": "1.5.0",
          "state": {
            "_dom_classes": [],
            "_model_module": "@jupyter-widgets/controls",
            "_model_module_version": "1.5.0",
            "_model_name": "HBoxModel",
            "_view_count": null,
            "_view_module": "@jupyter-widgets/controls",
            "_view_module_version": "1.5.0",
            "_view_name": "HBoxView",
            "box_style": "",
            "children": [
              "IPY_MODEL_17ec6ee1d9574c5c9fc9feb56e571ef6",
              "IPY_MODEL_e93de5c864014be080c4d8a9a4a924a7",
              "IPY_MODEL_20b5fb61a7fd400287ddee176ce1f684"
            ],
            "layout": "IPY_MODEL_530b72f5c9d44ea7ae1c35dd4a57956b"
          }
        },
        "17ec6ee1d9574c5c9fc9feb56e571ef6": {
          "model_module": "@jupyter-widgets/controls",
          "model_name": "HTMLModel",
          "model_module_version": "1.5.0",
          "state": {
            "_dom_classes": [],
            "_model_module": "@jupyter-widgets/controls",
            "_model_module_version": "1.5.0",
            "_model_name": "HTMLModel",
            "_view_count": null,
            "_view_module": "@jupyter-widgets/controls",
            "_view_module_version": "1.5.0",
            "_view_name": "HTMLView",
            "description": "",
            "description_tooltip": null,
            "layout": "IPY_MODEL_46526b70c3f64636acecceb41d74ca31",
            "placeholder": "​",
            "style": "IPY_MODEL_86491a2afe0a4c4d9be83b90bed29c05",
            "value": "100%"
          }
        },
        "e93de5c864014be080c4d8a9a4a924a7": {
          "model_module": "@jupyter-widgets/controls",
          "model_name": "FloatProgressModel",
          "model_module_version": "1.5.0",
          "state": {
            "_dom_classes": [],
            "_model_module": "@jupyter-widgets/controls",
            "_model_module_version": "1.5.0",
            "_model_name": "FloatProgressModel",
            "_view_count": null,
            "_view_module": "@jupyter-widgets/controls",
            "_view_module_version": "1.5.0",
            "_view_name": "ProgressView",
            "bar_style": "success",
            "description": "",
            "description_tooltip": null,
            "layout": "IPY_MODEL_475def97aa244d66b86dbd81fc21df22",
            "max": 100,
            "min": 0,
            "orientation": "horizontal",
            "style": "IPY_MODEL_20bf52902cb04c59947091260fe04ce7",
            "value": 100
          }
        },
        "20b5fb61a7fd400287ddee176ce1f684": {
          "model_module": "@jupyter-widgets/controls",
          "model_name": "HTMLModel",
          "model_module_version": "1.5.0",
          "state": {
            "_dom_classes": [],
            "_model_module": "@jupyter-widgets/controls",
            "_model_module_version": "1.5.0",
            "_model_name": "HTMLModel",
            "_view_count": null,
            "_view_module": "@jupyter-widgets/controls",
            "_view_module_version": "1.5.0",
            "_view_name": "HTMLView",
            "description": "",
            "description_tooltip": null,
            "layout": "IPY_MODEL_0c647f24a0214f558621c18ab1aad16c",
            "placeholder": "​",
            "style": "IPY_MODEL_a41dcd16f376402dac5b9beb8d51c6a6",
            "value": " 100/100 [02:50&lt;00:00,  1.54s/it]"
          }
        },
        "530b72f5c9d44ea7ae1c35dd4a57956b": {
          "model_module": "@jupyter-widgets/base",
          "model_name": "LayoutModel",
          "model_module_version": "1.2.0",
          "state": {
            "_model_module": "@jupyter-widgets/base",
            "_model_module_version": "1.2.0",
            "_model_name": "LayoutModel",
            "_view_count": null,
            "_view_module": "@jupyter-widgets/base",
            "_view_module_version": "1.2.0",
            "_view_name": "LayoutView",
            "align_content": null,
            "align_items": null,
            "align_self": null,
            "border": null,
            "bottom": null,
            "display": null,
            "flex": null,
            "flex_flow": null,
            "grid_area": null,
            "grid_auto_columns": null,
            "grid_auto_flow": null,
            "grid_auto_rows": null,
            "grid_column": null,
            "grid_gap": null,
            "grid_row": null,
            "grid_template_areas": null,
            "grid_template_columns": null,
            "grid_template_rows": null,
            "height": null,
            "justify_content": null,
            "justify_items": null,
            "left": null,
            "margin": null,
            "max_height": null,
            "max_width": null,
            "min_height": null,
            "min_width": null,
            "object_fit": null,
            "object_position": null,
            "order": null,
            "overflow": null,
            "overflow_x": null,
            "overflow_y": null,
            "padding": null,
            "right": null,
            "top": null,
            "visibility": null,
            "width": null
          }
        },
        "46526b70c3f64636acecceb41d74ca31": {
          "model_module": "@jupyter-widgets/base",
          "model_name": "LayoutModel",
          "model_module_version": "1.2.0",
          "state": {
            "_model_module": "@jupyter-widgets/base",
            "_model_module_version": "1.2.0",
            "_model_name": "LayoutModel",
            "_view_count": null,
            "_view_module": "@jupyter-widgets/base",
            "_view_module_version": "1.2.0",
            "_view_name": "LayoutView",
            "align_content": null,
            "align_items": null,
            "align_self": null,
            "border": null,
            "bottom": null,
            "display": null,
            "flex": null,
            "flex_flow": null,
            "grid_area": null,
            "grid_auto_columns": null,
            "grid_auto_flow": null,
            "grid_auto_rows": null,
            "grid_column": null,
            "grid_gap": null,
            "grid_row": null,
            "grid_template_areas": null,
            "grid_template_columns": null,
            "grid_template_rows": null,
            "height": null,
            "justify_content": null,
            "justify_items": null,
            "left": null,
            "margin": null,
            "max_height": null,
            "max_width": null,
            "min_height": null,
            "min_width": null,
            "object_fit": null,
            "object_position": null,
            "order": null,
            "overflow": null,
            "overflow_x": null,
            "overflow_y": null,
            "padding": null,
            "right": null,
            "top": null,
            "visibility": null,
            "width": null
          }
        },
        "86491a2afe0a4c4d9be83b90bed29c05": {
          "model_module": "@jupyter-widgets/controls",
          "model_name": "DescriptionStyleModel",
          "model_module_version": "1.5.0",
          "state": {
            "_model_module": "@jupyter-widgets/controls",
            "_model_module_version": "1.5.0",
            "_model_name": "DescriptionStyleModel",
            "_view_count": null,
            "_view_module": "@jupyter-widgets/base",
            "_view_module_version": "1.2.0",
            "_view_name": "StyleView",
            "description_width": ""
          }
        },
        "475def97aa244d66b86dbd81fc21df22": {
          "model_module": "@jupyter-widgets/base",
          "model_name": "LayoutModel",
          "model_module_version": "1.2.0",
          "state": {
            "_model_module": "@jupyter-widgets/base",
            "_model_module_version": "1.2.0",
            "_model_name": "LayoutModel",
            "_view_count": null,
            "_view_module": "@jupyter-widgets/base",
            "_view_module_version": "1.2.0",
            "_view_name": "LayoutView",
            "align_content": null,
            "align_items": null,
            "align_self": null,
            "border": null,
            "bottom": null,
            "display": null,
            "flex": null,
            "flex_flow": null,
            "grid_area": null,
            "grid_auto_columns": null,
            "grid_auto_flow": null,
            "grid_auto_rows": null,
            "grid_column": null,
            "grid_gap": null,
            "grid_row": null,
            "grid_template_areas": null,
            "grid_template_columns": null,
            "grid_template_rows": null,
            "height": null,
            "justify_content": null,
            "justify_items": null,
            "left": null,
            "margin": null,
            "max_height": null,
            "max_width": null,
            "min_height": null,
            "min_width": null,
            "object_fit": null,
            "object_position": null,
            "order": null,
            "overflow": null,
            "overflow_x": null,
            "overflow_y": null,
            "padding": null,
            "right": null,
            "top": null,
            "visibility": null,
            "width": null
          }
        },
        "20bf52902cb04c59947091260fe04ce7": {
          "model_module": "@jupyter-widgets/controls",
          "model_name": "ProgressStyleModel",
          "model_module_version": "1.5.0",
          "state": {
            "_model_module": "@jupyter-widgets/controls",
            "_model_module_version": "1.5.0",
            "_model_name": "ProgressStyleModel",
            "_view_count": null,
            "_view_module": "@jupyter-widgets/base",
            "_view_module_version": "1.2.0",
            "_view_name": "StyleView",
            "bar_color": null,
            "description_width": ""
          }
        },
        "0c647f24a0214f558621c18ab1aad16c": {
          "model_module": "@jupyter-widgets/base",
          "model_name": "LayoutModel",
          "model_module_version": "1.2.0",
          "state": {
            "_model_module": "@jupyter-widgets/base",
            "_model_module_version": "1.2.0",
            "_model_name": "LayoutModel",
            "_view_count": null,
            "_view_module": "@jupyter-widgets/base",
            "_view_module_version": "1.2.0",
            "_view_name": "LayoutView",
            "align_content": null,
            "align_items": null,
            "align_self": null,
            "border": null,
            "bottom": null,
            "display": null,
            "flex": null,
            "flex_flow": null,
            "grid_area": null,
            "grid_auto_columns": null,
            "grid_auto_flow": null,
            "grid_auto_rows": null,
            "grid_column": null,
            "grid_gap": null,
            "grid_row": null,
            "grid_template_areas": null,
            "grid_template_columns": null,
            "grid_template_rows": null,
            "height": null,
            "justify_content": null,
            "justify_items": null,
            "left": null,
            "margin": null,
            "max_height": null,
            "max_width": null,
            "min_height": null,
            "min_width": null,
            "object_fit": null,
            "object_position": null,
            "order": null,
            "overflow": null,
            "overflow_x": null,
            "overflow_y": null,
            "padding": null,
            "right": null,
            "top": null,
            "visibility": null,
            "width": null
          }
        },
        "a41dcd16f376402dac5b9beb8d51c6a6": {
          "model_module": "@jupyter-widgets/controls",
          "model_name": "DescriptionStyleModel",
          "model_module_version": "1.5.0",
          "state": {
            "_model_module": "@jupyter-widgets/controls",
            "_model_module_version": "1.5.0",
            "_model_name": "DescriptionStyleModel",
            "_view_count": null,
            "_view_module": "@jupyter-widgets/base",
            "_view_module_version": "1.2.0",
            "_view_name": "StyleView",
            "description_width": ""
          }
        }
      }
    }
  },
  "cells": [
    {
      "cell_type": "markdown",
      "source": [
        "# Install required packages"
      ],
      "metadata": {
        "id": "03TaUFyGrlS7"
      }
    },
    {
      "cell_type": "code",
      "source": [
        "! pip install timm"
      ],
      "metadata": {
        "id": "b3Gq5WtkMvT-",
        "colab": {
          "base_uri": "https://localhost:8080/"
        },
        "outputId": "0be23af4-f0ab-4791-8131-092446941768"
      },
      "execution_count": null,
      "outputs": [
        {
          "output_type": "stream",
          "name": "stdout",
          "text": [
            "Looking in indexes: https://pypi.org/simple, https://us-python.pkg.dev/colab-wheels/public/simple/\n",
            "Collecting timm\n",
            "  Downloading timm-0.6.12-py3-none-any.whl (549 kB)\n",
            "\u001b[2K     \u001b[90m━━━━━━━━━━━━━━━━━━━━━━━━━━━━━━━━━━━━━━\u001b[0m \u001b[32m549.1/549.1 KB\u001b[0m \u001b[31m33.8 MB/s\u001b[0m eta \u001b[36m0:00:00\u001b[0m\n",
            "\u001b[?25hRequirement already satisfied: torch>=1.7 in /usr/local/lib/python3.9/dist-packages (from timm) (1.13.1+cu116)\n",
            "Requirement already satisfied: torchvision in /usr/local/lib/python3.9/dist-packages (from timm) (0.14.1+cu116)\n",
            "Collecting huggingface-hub\n",
            "  Downloading huggingface_hub-0.13.2-py3-none-any.whl (199 kB)\n",
            "\u001b[2K     \u001b[90m━━━━━━━━━━━━━━━━━━━━━━━━━━━━━━━━━━━━━━\u001b[0m \u001b[32m199.2/199.2 KB\u001b[0m \u001b[31m24.5 MB/s\u001b[0m eta \u001b[36m0:00:00\u001b[0m\n",
            "\u001b[?25hRequirement already satisfied: pyyaml in /usr/local/lib/python3.9/dist-packages (from timm) (6.0)\n",
            "Requirement already satisfied: typing-extensions in /usr/local/lib/python3.9/dist-packages (from torch>=1.7->timm) (4.5.0)\n",
            "Requirement already satisfied: filelock in /usr/local/lib/python3.9/dist-packages (from huggingface-hub->timm) (3.10.0)\n",
            "Requirement already satisfied: requests in /usr/local/lib/python3.9/dist-packages (from huggingface-hub->timm) (2.27.1)\n",
            "Requirement already satisfied: tqdm>=4.42.1 in /usr/local/lib/python3.9/dist-packages (from huggingface-hub->timm) (4.65.0)\n",
            "Requirement already satisfied: packaging>=20.9 in /usr/local/lib/python3.9/dist-packages (from huggingface-hub->timm) (23.0)\n",
            "Requirement already satisfied: pillow!=8.3.*,>=5.3.0 in /usr/local/lib/python3.9/dist-packages (from torchvision->timm) (8.4.0)\n",
            "Requirement already satisfied: numpy in /usr/local/lib/python3.9/dist-packages (from torchvision->timm) (1.22.4)\n",
            "Requirement already satisfied: charset-normalizer~=2.0.0 in /usr/local/lib/python3.9/dist-packages (from requests->huggingface-hub->timm) (2.0.12)\n",
            "Requirement already satisfied: idna<4,>=2.5 in /usr/local/lib/python3.9/dist-packages (from requests->huggingface-hub->timm) (3.4)\n",
            "Requirement already satisfied: urllib3<1.27,>=1.21.1 in /usr/local/lib/python3.9/dist-packages (from requests->huggingface-hub->timm) (1.26.15)\n",
            "Requirement already satisfied: certifi>=2017.4.17 in /usr/local/lib/python3.9/dist-packages (from requests->huggingface-hub->timm) (2022.12.7)\n",
            "Installing collected packages: huggingface-hub, timm\n",
            "Successfully installed huggingface-hub-0.13.2 timm-0.6.12\n"
          ]
        }
      ]
    },
    {
      "cell_type": "markdown",
      "source": [
        "# Check GPU status"
      ],
      "metadata": {
        "id": "qETdGgm4rnX6"
      }
    },
    {
      "cell_type": "code",
      "source": [
        "! nvidia-smi"
      ],
      "metadata": {
        "id": "SQvtjTu_M42s",
        "colab": {
          "base_uri": "https://localhost:8080/"
        },
        "outputId": "fcf84ac8-1907-4a91-fe5c-34d1e5531b6d"
      },
      "execution_count": null,
      "outputs": [
        {
          "output_type": "stream",
          "name": "stdout",
          "text": [
            "Sun Mar 19 11:28:19 2023       \n",
            "+-----------------------------------------------------------------------------+\n",
            "| NVIDIA-SMI 525.85.12    Driver Version: 525.85.12    CUDA Version: 12.0     |\n",
            "|-------------------------------+----------------------+----------------------+\n",
            "| GPU  Name        Persistence-M| Bus-Id        Disp.A | Volatile Uncorr. ECC |\n",
            "| Fan  Temp  Perf  Pwr:Usage/Cap|         Memory-Usage | GPU-Util  Compute M. |\n",
            "|                               |                      |               MIG M. |\n",
            "|===============================+======================+======================|\n",
            "|   0  Tesla T4            Off  | 00000000:00:04.0 Off |                    0 |\n",
            "| N/A   49C    P0    26W /  70W |      0MiB / 15360MiB |      0%      Default |\n",
            "|                               |                      |                  N/A |\n",
            "+-------------------------------+----------------------+----------------------+\n",
            "                                                                               \n",
            "+-----------------------------------------------------------------------------+\n",
            "| Processes:                                                                  |\n",
            "|  GPU   GI   CI        PID   Type   Process name                  GPU Memory |\n",
            "|        ID   ID                                                   Usage      |\n",
            "|=============================================================================|\n",
            "|  No running processes found                                                 |\n",
            "+-----------------------------------------------------------------------------+\n"
          ]
        }
      ]
    },
    {
      "cell_type": "markdown",
      "source": [
        "# Import"
      ],
      "metadata": {
        "id": "VeHNI4WwrpLr"
      }
    },
    {
      "cell_type": "code",
      "source": [
        "import os\n",
        "import sys\n",
        "import time\n",
        "import numpy as np\n",
        "import pandas as pd\n",
        "import cv2\n",
        "import PIL.Image\n",
        "import matplotlib.pyplot as plt\n",
        "%matplotlib inline\n",
        "import seaborn as sns\n",
        "from tqdm.notebook import tqdm\n",
        "from sklearn.metrics import roc_auc_score\n",
        "import torch\n",
        "from torch.utils.data import TensorDataset, DataLoader,Dataset\n",
        "import torch.nn as nn\n",
        "import torch.nn.functional as F\n",
        "import torchvision\n",
        "import torchvision.transforms as transforms\n",
        "import torch.optim as optim\n",
        "from torch.optim import lr_scheduler\n",
        "from torch.utils.data.sampler import SubsetRandomSampler, RandomSampler, SequentialSampler\n",
        "from torch.optim.lr_scheduler import CosineAnnealingLR\n",
        "import albumentations as A\n",
        "import timm\n",
        "import matplotlib.pyplot as plt\n",
        "\n",
        "device = torch.device('cuda')"
      ],
      "metadata": {
        "id": "C7yem24vMqw5"
      },
      "execution_count": null,
      "outputs": []
    },
    {
      "cell_type": "markdown",
      "source": [
        "# Read Data"
      ],
      "metadata": {
        "id": "2HqMSLBerq4u"
      }
    },
    {
      "cell_type": "code",
      "source": [
        "! ls /content/drive/MyDrive/247_proj_cnn"
      ],
      "metadata": {
        "id": "SGYDc8vjMyqo",
        "colab": {
          "base_uri": "https://localhost:8080/"
        },
        "outputId": "126cbce2-c802-4701-9a8b-a4c2c20fee45"
      },
      "execution_count": null,
      "outputs": [
        {
          "output_type": "stream",
          "name": "stdout",
          "text": [
            "'CNN-LSTM Hybrid with data preprocessing.ipynb'   fold_4_best_acc.ckpt\n",
            "'CNN with data preprocessing.ipynb'\t\t  person_test.npy\n",
            " EEG_loading.ipynb\t\t\t\t  person_train_valid.npy\n",
            " fold_0_best_acc.ckpt\t\t\t\t  X_test.npy\n",
            " fold_1_best_acc.ckpt\t\t\t\t  X_train_valid.npy\n",
            " fold_2_best_acc.ckpt\t\t\t\t  y_test.npy\n",
            " fold_3_best_acc.ckpt\t\t\t\t  y_train_valid.npy\n"
          ]
        }
      ]
    },
    {
      "cell_type": "code",
      "source": [
        "os.chdir('/content/drive/MyDrive/247_proj_cnn')"
      ],
      "metadata": {
        "id": "F9DcuRkYN7bd"
      },
      "execution_count": null,
      "outputs": []
    },
    {
      "cell_type": "code",
      "source": [
        "X_train_valid = np.load('X_train_valid.npy')\n",
        "y_train_valid = np.load('y_train_valid.npy')"
      ],
      "metadata": {
        "id": "ARbCBpxBOFfI"
      },
      "execution_count": null,
      "outputs": []
    },
    {
      "cell_type": "code",
      "source": [
        "X_train_valid.shape"
      ],
      "metadata": {
        "colab": {
          "base_uri": "https://localhost:8080/"
        },
        "id": "qeC3Hmd0jUX_",
        "outputId": "a2b1b04b-eec1-427f-d37e-500fe5dff07c"
      },
      "execution_count": null,
      "outputs": [
        {
          "output_type": "execute_result",
          "data": {
            "text/plain": [
              "(2115, 22, 1000)"
            ]
          },
          "metadata": {},
          "execution_count": 25
        }
      ]
    },
    {
      "cell_type": "code",
      "source": [
        "X_test = np.load('X_test.npy')\n",
        "y_test = np.load('y_test.npy')"
      ],
      "metadata": {
        "id": "AC__tJa3XUeV"
      },
      "execution_count": null,
      "outputs": []
    },
    {
      "cell_type": "code",
      "source": [
        "person_train_valid = np.load('person_train_valid.npy')\n",
        "person_test = np.load('person_test.npy')"
      ],
      "metadata": {
        "id": "OhR_zwsvofg5"
      },
      "execution_count": null,
      "outputs": []
    },
    {
      "cell_type": "code",
      "source": [],
      "metadata": {
        "id": "rlu-Jqggoxgv"
      },
      "execution_count": null,
      "outputs": []
    },
    {
      "cell_type": "code",
      "source": [
        "# select only subject 1\n",
        "X_train_valid = X_train_valid[np.where(person_train_valid==0)[0], :, :]\n",
        "y_train_valid = y_train_valid[np.where(person_train_valid==0)[0]]\n",
        "X_test = X_test[np.where(person_test==0)[0], :, :]\n",
        "y_test = y_test[np.where(person_test==0)[0]]"
      ],
      "metadata": {
        "id": "WtM8Ib5NouPk"
      },
      "execution_count": null,
      "outputs": []
    },
    {
      "cell_type": "markdown",
      "source": [
        "# Define dataset"
      ],
      "metadata": {
        "id": "ObweIGWkp7Ki"
      }
    },
    {
      "cell_type": "code",
      "source": [
        "class BCIDataset(Dataset):\n",
        "    def __init__(self, X, y):\n",
        "        self.X = X\n",
        "        self.y = y\n",
        "        self.encode_class = {769:0, 770:1, 771:2, 772:3}\n",
        "\n",
        "    def __len__(self):\n",
        "        return self.X.shape[0]\n",
        "\n",
        "    def __getitem__(self, index):\n",
        "        x = torch.tensor(self.X[index,:,:]).float()\n",
        "        y = self.y[index]\n",
        "        y = self.encode_class[y]\n",
        "        y = torch.tensor(y).long()\n",
        "        # return x, y\n",
        "        return x.unsqueeze(2), y\n",
        "        # return torch.stack([x,x,x]), y\n"
      ],
      "metadata": {
        "id": "HAz0VsYUkg0o"
      },
      "execution_count": null,
      "outputs": []
    },
    {
      "cell_type": "code",
      "source": [
        "plt.figure(figsize=(12,8))\n",
        "plt.imshow(next(iter(BCIDataset(X_test, y_test)))[0], cmap='gray')"
      ],
      "metadata": {
        "colab": {
          "base_uri": "https://localhost:8080/",
          "height": 84
        },
        "id": "sw9svrNDX-Rn",
        "outputId": "baec94bd-5b9e-4a8c-cb46-2dddb546e8d0"
      },
      "execution_count": null,
      "outputs": [
        {
          "output_type": "execute_result",
          "data": {
            "text/plain": [
              "<matplotlib.image.AxesImage at 0x7ff9835b7ee0>"
            ]
          },
          "metadata": {},
          "execution_count": 30
        },
        {
          "output_type": "display_data",
          "data": {
            "text/plain": [
              "<Figure size 864x576 with 1 Axes>"
            ],
            "image/png": "[encoded data removed]"
          },
          "metadata": {
            "needs_background": "light"
          }
        }
      ]
    },
    {
      "cell_type": "markdown",
      "source": [
        "# Define model"
      ],
      "metadata": {
        "id": "DXxzlcX5p8Y_"
      }
    },
    {
      "cell_type": "code",
      "source": [
        "import torch.nn as nn\n",
        "\n",
        "class ResidualBlock(nn.Module):\n",
        "    def __init__(self, in_channels, out_channels, stride=1):\n",
        "        super(ResidualBlock, self).__init__()\n",
        "        self.conv1 = nn.Conv2d(in_channels, out_channels, kernel_size=3, stride=stride, padding=1, bias=False)\n",
        "        self.bn1 = nn.BatchNorm2d(out_channels)\n",
        "        self.relu = nn.ELU(inplace=True)\n",
        "        self.conv2 = nn.Conv2d(out_channels, out_channels, kernel_size=3, stride=1, padding=1, bias=False)\n",
        "        self.bn2 = nn.BatchNorm2d(out_channels)\n",
        "        self.stride = stride\n",
        "\n",
        "        if stride != 1 or in_channels != out_channels:\n",
        "            self.shortcut = nn.Sequential(\n",
        "                nn.Conv2d(in_channels, out_channels, kernel_size=1, stride=stride, bias=False),\n",
        "                nn.BatchNorm2d(out_channels)\n",
        "            )\n",
        "        else:\n",
        "            self.shortcut = nn.Identity()\n",
        "\n",
        "    def forward(self, x):\n",
        "        residual = x\n",
        "\n",
        "        out = self.conv1(x)\n",
        "        out = self.bn1(out)\n",
        "        out = self.relu(out)\n",
        "\n",
        "        out = self.conv2(out)\n",
        "        out = self.bn2(out)\n",
        "\n",
        "        out += self.shortcut(residual)\n",
        "        out = self.relu(out)\n",
        "\n",
        "        return out\n",
        "\n",
        "class ERUConv(nn.Module):\n",
        "    def __init__(self, in_channel, out_channel, kernel_size, mp_kernal_size, padding, dropout):\n",
        "        super().__init__()\n",
        "        self.conv = nn.Conv2d(in_channel, out_channel, \n",
        "                              kernel_size = kernel_size, padding=padding)\n",
        "        nn.init.xavier_uniform_(self.conv.weight)\n",
        "        self.elu = nn.ELU()\n",
        "        self.maxpool = nn.MaxPool2d(kernel_size = mp_kernal_size)\n",
        "        self.BN = nn.BatchNorm2d(out_channel)\n",
        "        self.dropout = nn.Dropout(p=dropout)\n",
        "    \n",
        "    def forward(self, x):\n",
        "        x = self.elu(self.conv(x))\n",
        "        x = self.maxpool(x)\n",
        "        x = self.BN(x)\n",
        "        x = self.dropout(x)\n",
        "        return x\n",
        "\n",
        "class ResTemporalCNN(nn.Module):\n",
        "    def __init__(self, drop_out):\n",
        "        super().__init__()\n",
        "\n",
        "        self.conv_temp = nn.Conv2d(1, 1, (1, 5), stride = (1, 3)) # 3\n",
        "        self.elu = nn.ELU()\n",
        "        nn.init.xavier_uniform_(self.conv_temp.weight)\n",
        "\n",
        "        self.res1 = ResidualBlock(22, 44)\n",
        "        self.conv1 = ERUConv(44, 88, (10, 1), (2, 1), 'same', drop_out)\n",
        "        self.conv2 = ERUConv(88, 168, (10, 1), (2, 1), 'same', drop_out)\n",
        "        self.conv3 = ERUConv(168, 384, (10, 1), (2, 1), 'same', drop_out)\n",
        "        \n",
        "        self.fc = nn.Sequential(\n",
        "            nn.Linear(384*41, 64), \n",
        "            nn.BatchNorm1d(64),\n",
        "            nn.ELU(),\n",
        "            nn.Dropout(drop_out),\n",
        "            nn.Linear(64,32),\n",
        "            nn.BatchNorm1d(32),\n",
        "            nn.ELU(),\n",
        "            nn.Dropout(0.2),\n",
        "            nn.Linear(32,4)\n",
        "        )\n",
        "    \n",
        "    def forward(self, x):\n",
        "        x = self.conv_temp(x.permute(0,3,1,2))\n",
        "        # print(x.shape)\n",
        "        # x = self.elu(x)\n",
        "        x = x.permute(0,2,3,1)\n",
        "\n",
        "        x = self.res1(x)\n",
        "        # print(x.shape)\n",
        "        x = self.conv1(x)\n",
        "        # print(x.shape)\n",
        "        x = self.conv2(x)\n",
        "        # print(x.shape)\n",
        "        x = self.conv3(x)\n",
        "        # print(x.shape)\n",
        "        # print(x.shape)\n",
        "        bs = x.size(0)\n",
        "        x = x.view(bs, -1)\n",
        "        x = self.fc(x)\n",
        "\n",
        "        return x\n",
        "\n",
        "model = ResTemporalCNN(0.5)\n",
        "model(torch.randn(2,22,1000,1))"
      ],
      "metadata": {
        "colab": {
          "base_uri": "https://localhost:8080/"
        },
        "id": "i0NXXQjdkt_S",
        "outputId": "e6a00040-8af0-492f-d950-41d9b98a4fe6"
      },
      "execution_count": null,
      "outputs": [
        {
          "output_type": "execute_result",
          "data": {
            "text/plain": [
              "tensor([[-0.1965, -1.1152,  0.1217,  0.2278],\n",
              "        [-0.0294, -0.0697, -0.5202, -0.1509]], grad_fn=<AddmmBackward0>)"
            ]
          },
          "metadata": {},
          "execution_count": 35
        }
      ]
    },
    {
      "cell_type": "markdown",
      "source": [
        "# Training and validation"
      ],
      "metadata": {
        "id": "X79MQadLp3KH"
      }
    },
    {
      "cell_type": "markdown",
      "source": [
        "## training configurations"
      ],
      "metadata": {
        "id": "H36St9mpuYFw"
      }
    },
    {
      "cell_type": "code",
      "source": [
        "num_epochs = 100\n",
        "lr=0.005\n",
        "drop_out = 0.5\n",
        "k = 5 # number of folds\n",
        "batch_size = 64\n",
        "num_worker = 8"
      ],
      "metadata": {
        "id": "dj7yBLfemCja"
      },
      "execution_count": null,
      "outputs": []
    },
    {
      "cell_type": "code",
      "source": [
        "def train_valid_fold(X_train, y_train, X_valid, y_valid, fold_id):\n",
        "    print('Building dataset...')\n",
        "    bcidataset_train = BCIDataset(X_train, y_train)\n",
        "    bcidataset_train_dl = torch.utils.data.DataLoader(bcidataset_train, batch_size=batch_size, num_workers=num_worker, shuffle=True)\n",
        "    bcidataset_test = BCIDataset(X_valid, y_valid)\n",
        "    bcidataset_test_dl = torch.utils.data.DataLoader(bcidataset_test, batch_size=batch_size, num_workers=num_worker, shuffle=False)\n",
        "\n",
        "    print('Create new model...')\n",
        "    model = ResTemporalCNN(drop_out)\n",
        "    model = model.cuda()\n",
        "\n",
        "    print('Setting up loss function, optimizer and scheduler...')\n",
        "    criterion = nn.CrossEntropyLoss()\n",
        "    optimizer = optim.Adam(model.parameters(), lr=lr)\n",
        "    scheduler = optim.lr_scheduler.CosineAnnealingLR(optimizer, T_max=num_epochs,)\n",
        "\n",
        "    # Training loop\n",
        "    accuracy_list = []\n",
        "    loss_by_epoch = []\n",
        "    val_loss_by_epoch = []\n",
        "    max_accuracy = 0\n",
        "    best_model = model\n",
        "    for epoch in tqdm(range(num_epochs)):\n",
        "        losses = []\n",
        "        model.train()\n",
        "        for i, (inputs, labels) in enumerate(bcidataset_train_dl):\n",
        "            inputs = inputs.cuda()\n",
        "            labels = labels.cuda()\n",
        "            optimizer.zero_grad()\n",
        "            outputs = model(inputs)\n",
        "            loss = criterion(outputs, labels)\n",
        "            loss.backward()\n",
        "            optimizer.step()\n",
        "            losses.append(loss.item())\n",
        "        loss = np.mean(losses)\n",
        "        loss_by_epoch.append(loss)\n",
        "        \n",
        "        # validate with the testing dataset\n",
        "        predicted_label = []\n",
        "        actual_label = []\n",
        "        model.eval()\n",
        "        val_losses = []\n",
        "        for i, (inputs, labels) in enumerate(bcidataset_test_dl):\n",
        "            inputs = inputs.cuda()\n",
        "            actual_label += labels.tolist()\n",
        "            labels = labels.cuda()\n",
        "            outputs = model(inputs)\n",
        "            loss = criterion(outputs, labels)\n",
        "            val_losses.append(loss.item())\n",
        "            predicted = outputs.argmax(1)\n",
        "            predicted_label += predicted.cpu().numpy().tolist()\n",
        "        val_loss_by_epoch.append(np.mean(losses))\n",
        "        predicted_label = torch.tensor(predicted_label)\n",
        "        actual_label = torch.tensor(actual_label)\n",
        "        accuracy = (np.array(actual_label) == np.array(predicted_label)).sum() / len(predicted_label)\n",
        "        if accuracy > max_accuracy:\n",
        "            print(f'Better accuracy found ({max_accuracy} -> {accuracy}), best model saved.')\n",
        "            max_accuracy = accuracy\n",
        "            torch.save(model.state_dict(), f'fold_{fold_id}_best_acc.ckpt')\n",
        "        accuracy_list.append(accuracy)\n",
        "        scheduler.step()\n",
        "\n",
        "    axes[0].plot(accuracy_list)\n",
        "    axes[0].set_xlabel('Epoch')\n",
        "    axes[0].set_ylabel('Validation Accuracy')\n",
        "    \n",
        "    axes[1].plot(np.arange(10, num_epochs), loss_by_epoch[10:])\n",
        "    axes[1].set_xlabel('Epoch')\n",
        "    axes[1].set_ylabel('Training Loss')\n",
        "\n",
        "    axes[2].plot(np.arange(10, num_epochs), val_loss_by_epoch[10:])\n",
        "    axes[2].set_xlabel('Epoch')\n",
        "    axes[2].set_ylabel('Validation Loss')\n",
        "\n"
      ],
      "metadata": {
        "id": "m_2qHFw9lk1o"
      },
      "execution_count": null,
      "outputs": []
    },
    {
      "cell_type": "code",
      "source": [
        "from sklearn.model_selection import KFold\n",
        "\n",
        "# Split the data into k folds\n",
        "kf = KFold(n_splits=k, shuffle=True, random_state=42)\n",
        "\n",
        "fig, axes = plt.subplots(1, 3, figsize=(20, 5))\n",
        "axes = axes.flatten()\n",
        "\n",
        "# Loop over each fold\n",
        "for fold, (train_index, test_index) in enumerate(kf.split(X_train_valid)):\n",
        "\n",
        "    # Get the training and test sets for this fold\n",
        "    X_train, X_valid = X_train_valid[train_index], X_train_valid[test_index]\n",
        "    y_train, y_valid = y_train_valid[train_index], y_train_valid[test_index]\n",
        "    train_valid_fold(X_train, y_train, X_valid, y_valid, fold)"
      ],
      "metadata": {
        "colab": {
          "base_uri": "https://localhost:8080/",
          "height": 1000,
          "referenced_widgets": [
            "a4fff0089f804475870bb549c93eee2f",
            "8566f8afa3e44475a9d01bcf3d3844f5",
            "086b2f92a39040eba7cb0a4049b2ee89",
            "cbbd75c3dd144f13bcc01c5597887814",
            "1854b64294764c398c3c114f4026cbb6",
            "52cfb6d8c29f4481a78767010986df9e",
            "9218d80d78504b53bca327b6d6f11633",
            "5627fd2dafdc4bc98694a42d7e968dbf",
            "230d9ba9227d42ec9acd3be9f82ae9cf",
            "0a974f15356a48f3aafb5d17230de7ba",
            "bb8b27cf80134ae0a293647b4d072916",
            "d6fca79118ba44749570a02e8ef8a7ed",
            "f45da89fab7f4e6ca422ca4fae06dc66",
            "7056cb922e394665b11d25851db1a374",
            "e21db5a4e08d44cea89dc0fb20e06ca8",
            "1e845e83c9f04729a664a828c77cd224",
            "e9758ec1c8ca43f296ed84b650fd625f",
            "2b48f817156d4189bf8322a7adb1cd23",
            "31384ebec0774406a822700ab09fb695",
            "e50a68b17e524a0599772e05dc0c4f8e",
            "efd9a4b61b4340ee8bd47f4e8149c0ca",
            "26a094ec8e6149658f83bdcb8d4ba180",
            "c0a8ec524fb64eb193fb28b878e82538",
            "888a07e154cb43258e500638635d49ba",
            "922571d0a5a343e4b501c414680f4940",
            "689e54acc58f47a7acd40173517cb0b6",
            "7f892777824d407c87f9339c8b7f0096",
            "433c2b23c0184d5fa67ead9783ee2744",
            "0d845367c7f940d38699780f738977dd",
            "23e09429c0df4ede8ca9aefd5941ed69",
            "d62cb6df83f644e8938ca99ef5b28ac9",
            "8be0655bb9a948c5a00e9bc3089ad76f",
            "c253dc9a6ba542e38ac996b589bb12bd",
            "40a5aacc3e794bb98b7a5e62b8ac6397",
            "02bf5e858a164dd7bc5aeea3cc8e4167",
            "da4ae28550174e40b384c5e9e85744dd",
            "ceae9d6437bc4492a49bd330dd1190eb",
            "c659f9af97ad445bada8c0faa9ae6f8d",
            "9f8f771bdebd49d8bae1acbf671619b6",
            "635de9f3804e4201af53ecbe3c1dbba6",
            "2cf67889b2384a34b07ec5370df4338b",
            "3924478cdf454f3b9f10f1d3f1b0c9c2",
            "5c6c86e326c4480996907f1ac106eab4",
            "5e43b639b3c84334bb468042f4902ea3",
            "a20601d61c6444d990010938583ed391",
            "17ec6ee1d9574c5c9fc9feb56e571ef6",
            "e93de5c864014be080c4d8a9a4a924a7",
            "20b5fb61a7fd400287ddee176ce1f684",
            "530b72f5c9d44ea7ae1c35dd4a57956b",
            "46526b70c3f64636acecceb41d74ca31",
            "86491a2afe0a4c4d9be83b90bed29c05",
            "475def97aa244d66b86dbd81fc21df22",
            "20bf52902cb04c59947091260fe04ce7",
            "0c647f24a0214f558621c18ab1aad16c",
            "a41dcd16f376402dac5b9beb8d51c6a6"
          ]
        },
        "id": "fPmLYFNVo5Vz",
        "outputId": "adcdadb1-202e-45af-c128-6c8ee67ce99b"
      },
      "execution_count": null,
      "outputs": [
        {
          "output_type": "stream",
          "name": "stdout",
          "text": [
            "Building dataset...\n",
            "Create new model...\n",
            "Setting up loss function, optimizer and scheduler...\n"
          ]
        },
        {
          "output_type": "display_data",
          "data": {
            "text/plain": [
              "  0%|          | 0/100 [00:00<?, ?it/s]"
            ],
            "application/vnd.jupyter.widget-view+json": {
              "version_major": 2,
              "version_minor": 0,
              "model_id": "a4fff0089f804475870bb549c93eee2f"
            }
          },
          "metadata": {}
        },
        {
          "output_type": "stream",
          "name": "stdout",
          "text": [
            "Better accuracy found (0 -> 0.25), best model saved.\n",
            "Better accuracy found (0.25 -> 0.3541666666666667), best model saved.\n",
            "Better accuracy found (0.3541666666666667 -> 0.375), best model saved.\n",
            "Better accuracy found (0.375 -> 0.3958333333333333), best model saved.\n",
            "Better accuracy found (0.3958333333333333 -> 0.4583333333333333), best model saved.\n",
            "Better accuracy found (0.4583333333333333 -> 0.4791666666666667), best model saved.\n",
            "Building dataset...\n",
            "Create new model...\n",
            "Setting up loss function, optimizer and scheduler...\n"
          ]
        },
        {
          "output_type": "display_data",
          "data": {
            "text/plain": [
              "  0%|          | 0/100 [00:00<?, ?it/s]"
            ],
            "application/vnd.jupyter.widget-view+json": {
              "version_major": 2,
              "version_minor": 0,
              "model_id": "d6fca79118ba44749570a02e8ef8a7ed"
            }
          },
          "metadata": {}
        },
        {
          "output_type": "stream",
          "name": "stdout",
          "text": [
            "Better accuracy found (0 -> 0.25), best model saved.\n",
            "Better accuracy found (0.25 -> 0.4166666666666667), best model saved.\n",
            "Better accuracy found (0.4166666666666667 -> 0.4791666666666667), best model saved.\n",
            "Better accuracy found (0.4791666666666667 -> 0.6458333333333334), best model saved.\n",
            "Building dataset...\n",
            "Create new model...\n",
            "Setting up loss function, optimizer and scheduler...\n"
          ]
        },
        {
          "output_type": "display_data",
          "data": {
            "text/plain": [
              "  0%|          | 0/100 [00:00<?, ?it/s]"
            ],
            "application/vnd.jupyter.widget-view+json": {
              "version_major": 2,
              "version_minor": 0,
              "model_id": "c0a8ec524fb64eb193fb28b878e82538"
            }
          },
          "metadata": {}
        },
        {
          "output_type": "stream",
          "name": "stdout",
          "text": [
            "Better accuracy found (0 -> 0.14893617021276595), best model saved.\n",
            "Better accuracy found (0.14893617021276595 -> 0.1702127659574468), best model saved.\n",
            "Better accuracy found (0.1702127659574468 -> 0.2127659574468085), best model saved.\n",
            "Better accuracy found (0.2127659574468085 -> 0.2553191489361702), best model saved.\n",
            "Better accuracy found (0.2553191489361702 -> 0.3191489361702128), best model saved.\n",
            "Better accuracy found (0.3191489361702128 -> 0.3617021276595745), best model saved.\n",
            "Better accuracy found (0.3617021276595745 -> 0.44680851063829785), best model saved.\n",
            "Better accuracy found (0.44680851063829785 -> 0.46808510638297873), best model saved.\n",
            "Better accuracy found (0.46808510638297873 -> 0.48936170212765956), best model saved.\n",
            "Better accuracy found (0.48936170212765956 -> 0.5319148936170213), best model saved.\n",
            "Better accuracy found (0.5319148936170213 -> 0.5531914893617021), best model saved.\n",
            "Better accuracy found (0.5531914893617021 -> 0.574468085106383), best model saved.\n",
            "Better accuracy found (0.574468085106383 -> 0.6170212765957447), best model saved.\n",
            "Building dataset...\n",
            "Create new model...\n",
            "Setting up loss function, optimizer and scheduler...\n"
          ]
        },
        {
          "output_type": "display_data",
          "data": {
            "text/plain": [
              "  0%|          | 0/100 [00:00<?, ?it/s]"
            ],
            "application/vnd.jupyter.widget-view+json": {
              "version_major": 2,
              "version_minor": 0,
              "model_id": "40a5aacc3e794bb98b7a5e62b8ac6397"
            }
          },
          "metadata": {}
        },
        {
          "output_type": "stream",
          "name": "stdout",
          "text": [
            "Better accuracy found (0 -> 0.19148936170212766), best model saved.\n",
            "Better accuracy found (0.19148936170212766 -> 0.2127659574468085), best model saved.\n",
            "Better accuracy found (0.2127659574468085 -> 0.2765957446808511), best model saved.\n",
            "Better accuracy found (0.2765957446808511 -> 0.40425531914893614), best model saved.\n",
            "Better accuracy found (0.40425531914893614 -> 0.425531914893617), best model saved.\n",
            "Better accuracy found (0.425531914893617 -> 0.46808510638297873), best model saved.\n",
            "Better accuracy found (0.46808510638297873 -> 0.5106382978723404), best model saved.\n",
            "Better accuracy found (0.5106382978723404 -> 0.5531914893617021), best model saved.\n",
            "Better accuracy found (0.5531914893617021 -> 0.574468085106383), best model saved.\n",
            "Better accuracy found (0.574468085106383 -> 0.6170212765957447), best model saved.\n",
            "Building dataset...\n",
            "Create new model...\n",
            "Setting up loss function, optimizer and scheduler...\n"
          ]
        },
        {
          "output_type": "display_data",
          "data": {
            "text/plain": [
              "  0%|          | 0/100 [00:00<?, ?it/s]"
            ],
            "application/vnd.jupyter.widget-view+json": {
              "version_major": 2,
              "version_minor": 0,
              "model_id": "a20601d61c6444d990010938583ed391"
            }
          },
          "metadata": {}
        },
        {
          "output_type": "stream",
          "name": "stdout",
          "text": [
            "Better accuracy found (0 -> 0.3191489361702128), best model saved.\n",
            "Better accuracy found (0.3191489361702128 -> 0.3617021276595745), best model saved.\n",
            "Better accuracy found (0.3617021276595745 -> 0.44680851063829785), best model saved.\n",
            "Better accuracy found (0.44680851063829785 -> 0.46808510638297873), best model saved.\n",
            "Better accuracy found (0.46808510638297873 -> 0.5319148936170213), best model saved.\n",
            "Better accuracy found (0.5319148936170213 -> 0.6595744680851063), best model saved.\n",
            "Better accuracy found (0.6595744680851063 -> 0.6808510638297872), best model saved.\n"
          ]
        },
        {
          "output_type": "display_data",
          "data": {
            "text/plain": [
              "<Figure size 1440x360 with 3 Axes>"
            ],
            "image/png": "[encoded data removed]"
          },
          "metadata": {
            "needs_background": "light"
          }
        }
      ]
    },
    {
      "cell_type": "markdown",
      "source": [
        "# Predict the test dataset"
      ],
      "metadata": {
        "id": "Xd2TaycZpzUU"
      }
    },
    {
      "cell_type": "code",
      "source": [
        "bcidataset_test = BCIDataset(X_test, y_test)\n",
        "bcidataset_test_dl = torch.utils.data.DataLoader(bcidataset_test, batch_size=64, num_workers=8, shuffle=False)"
      ],
      "metadata": {
        "id": "8y4AJkRoqS3U"
      },
      "execution_count": null,
      "outputs": []
    },
    {
      "cell_type": "code",
      "source": [
        "pred_proba_list = []\n",
        "for fold_id in range(k):\n",
        "    model = ResTemporalCNN(drop_out)\n",
        "    model.load_state_dict(torch.load(f'fold_{fold_id}_best_acc.ckpt'))\n",
        "    model = model.cuda()\n",
        "    # validate with the testing dataset\n",
        "    predicted_label = []\n",
        "    predicted_proba = []\n",
        "    actual_label = []\n",
        "    model.eval()\n",
        "    for i, (inputs, labels) in enumerate(bcidataset_test_dl):\n",
        "        inputs = inputs.cuda()\n",
        "        actual_label += labels.tolist()\n",
        "        outputs = model(inputs)\n",
        "        predicted_label += outputs.argmax(1).cpu().numpy().tolist()\n",
        "        predicted_proba += outputs.softmax(1).cpu().tolist()\n",
        "    pred_proba_list.append(predicted_proba)"
      ],
      "metadata": {
        "id": "UyYYXHJSK2d9"
      },
      "execution_count": null,
      "outputs": []
    },
    {
      "cell_type": "code",
      "source": [
        "test_accuracy = (np.array(pred_proba_list).mean(0).argmax(1) == np.array(actual_label)).sum() / len(np.array(actual_label))"
      ],
      "metadata": {
        "id": "wVFdJp6rs6j3"
      },
      "execution_count": null,
      "outputs": []
    },
    {
      "cell_type": "code",
      "source": [
        "print(f'Final test accuracy is {test_accuracy: .5f}')"
      ],
      "metadata": {
        "colab": {
          "base_uri": "https://localhost:8080/"
        },
        "id": "LLhDhdRItVFm",
        "outputId": "3d82612b-9abf-46bf-cde2-f17d335dbb36"
      },
      "execution_count": null,
      "outputs": [
        {
          "output_type": "stream",
          "name": "stdout",
          "text": [
            "Final test accuracy is  0.54000\n"
          ]
        }
      ]
    },
    {
      "cell_type": "code",
      "source": [
        "from sklearn.metrics import confusion_matrix\n",
        "cf_matrix = confusion_matrix(np.array(actual_label), np.array(pred_proba_list).mean(0).argmax(1))\n",
        "\n",
        "sns.heatmap(cf_matrix/np.sum(cf_matrix), annot=True, \n",
        "            fmt='.2%', cmap='Blues')"
      ],
      "metadata": {
        "colab": {
          "base_uri": "https://localhost:8080/",
          "height": 283
        },
        "id": "7A5fQjWrt4eQ",
        "outputId": "fe0d9b16-fd76-4f85-8336-511c1614b862"
      },
      "execution_count": null,
      "outputs": [
        {
          "output_type": "execute_result",
          "data": {
            "text/plain": [
              "<Axes: >"
            ]
          },
          "metadata": {},
          "execution_count": 43
        },
        {
          "output_type": "display_data",
          "data": {
            "text/plain": [
              "<Figure size 432x288 with 2 Axes>"
            ],
            "image/png": "[encoded data removed]"
          },
          "metadata": {
            "needs_background": "light"
          }
        }
      ]
    },
    {
      "cell_type": "code",
      "source": [],
      "metadata": {
        "id": "LniUSgonzj8g"
      },
      "execution_count": null,
      "outputs": []
    }
  ]
}
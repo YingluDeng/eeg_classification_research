{
  "nbformat": 4,
  "nbformat_minor": 0,
  "metadata": {
    "colab": {
      "provenance": []
    },
    "kernelspec": {
      "name": "python3",
      "display_name": "Python 3"
    },
    "language_info": {
      "name": "python"
    },
    "accelerator": "GPU",
    "gpuClass": "premium",
    "widgets": {
      "application/vnd.jupyter.widget-state+json": {
        "d98c87228a86404d8f086a8cf7d3b053": {
          "model_module": "@jupyter-widgets/controls",
          "model_name": "HBoxModel",
          "model_module_version": "1.5.0",
          "state": {
            "_dom_classes": [],
            "_model_module": "@jupyter-widgets/controls",
            "_model_module_version": "1.5.0",
            "_model_name": "HBoxModel",
            "_view_count": null,
            "_view_module": "@jupyter-widgets/controls",
            "_view_module_version": "1.5.0",
            "_view_name": "HBoxView",
            "box_style": "",
            "children": [
              "IPY_MODEL_9b1edafecc8944ec9ecf5806d6d2b7a4",
              "IPY_MODEL_d51d6471f30a4a2aaa741e26b19e9814",
              "IPY_MODEL_facd8d3442ad43afac0a66eb8383162c"
            ],
            "layout": "IPY_MODEL_2bd966c3156a4e76a296c1d020245cc6"
          }
        },
        "9b1edafecc8944ec9ecf5806d6d2b7a4": {
          "model_module": "@jupyter-widgets/controls",
          "model_name": "HTMLModel",
          "model_module_version": "1.5.0",
          "state": {
            "_dom_classes": [],
            "_model_module": "@jupyter-widgets/controls",
            "_model_module_version": "1.5.0",
            "_model_name": "HTMLModel",
            "_view_count": null,
            "_view_module": "@jupyter-widgets/controls",
            "_view_module_version": "1.5.0",
            "_view_name": "HTMLView",
            "description": "",
            "description_tooltip": null,
            "layout": "IPY_MODEL_5470102964f4472c9d3678a78d5aa9c3",
            "placeholder": "​",
            "style": "IPY_MODEL_c3ab492c8cd24223b2b4274cece9fcff",
            "value": "100%"
          }
        },
        "d51d6471f30a4a2aaa741e26b19e9814": {
          "model_module": "@jupyter-widgets/controls",
          "model_name": "FloatProgressModel",
          "model_module_version": "1.5.0",
          "state": {
            "_dom_classes": [],
            "_model_module": "@jupyter-widgets/controls",
            "_model_module_version": "1.5.0",
            "_model_name": "FloatProgressModel",
            "_view_count": null,
            "_view_module": "@jupyter-widgets/controls",
            "_view_module_version": "1.5.0",
            "_view_name": "ProgressView",
            "bar_style": "success",
            "description": "",
            "description_tooltip": null,
            "layout": "IPY_MODEL_1eec41bdbf744c9fbbc842048d859f71",
            "max": 100,
            "min": 0,
            "orientation": "horizontal",
            "style": "IPY_MODEL_4bfaf87d7c30420abb6842a9c05d90cd",
            "value": 100
          }
        },
        "facd8d3442ad43afac0a66eb8383162c": {
          "model_module": "@jupyter-widgets/controls",
          "model_name": "HTMLModel",
          "model_module_version": "1.5.0",
          "state": {
            "_dom_classes": [],
            "_model_module": "@jupyter-widgets/controls",
            "_model_module_version": "1.5.0",
            "_model_name": "HTMLModel",
            "_view_count": null,
            "_view_module": "@jupyter-widgets/controls",
            "_view_module_version": "1.5.0",
            "_view_name": "HTMLView",
            "description": "",
            "description_tooltip": null,
            "layout": "IPY_MODEL_c0df3b8ebd754893bdd92fb85449baab",
            "placeholder": "​",
            "style": "IPY_MODEL_e87069d49e444d639214dbedea48fec0",
            "value": " 100/100 [02:57&lt;00:00,  2.05s/it]"
          }
        },
        "2bd966c3156a4e76a296c1d020245cc6": {
          "model_module": "@jupyter-widgets/base",
          "model_name": "LayoutModel",
          "model_module_version": "1.2.0",
          "state": {
            "_model_module": "@jupyter-widgets/base",
            "_model_module_version": "1.2.0",
            "_model_name": "LayoutModel",
            "_view_count": null,
            "_view_module": "@jupyter-widgets/base",
            "_view_module_version": "1.2.0",
            "_view_name": "LayoutView",
            "align_content": null,
            "align_items": null,
            "align_self": null,
            "border": null,
            "bottom": null,
            "display": null,
            "flex": null,
            "flex_flow": null,
            "grid_area": null,
            "grid_auto_columns": null,
            "grid_auto_flow": null,
            "grid_auto_rows": null,
            "grid_column": null,
            "grid_gap": null,
            "grid_row": null,
            "grid_template_areas": null,
            "grid_template_columns": null,
            "grid_template_rows": null,
            "height": null,
            "justify_content": null,
            "justify_items": null,
            "left": null,
            "margin": null,
            "max_height": null,
            "max_width": null,
            "min_height": null,
            "min_width": null,
            "object_fit": null,
            "object_position": null,
            "order": null,
            "overflow": null,
            "overflow_x": null,
            "overflow_y": null,
            "padding": null,
            "right": null,
            "top": null,
            "visibility": null,
            "width": null
          }
        },
        "5470102964f4472c9d3678a78d5aa9c3": {
          "model_module": "@jupyter-widgets/base",
          "model_name": "LayoutModel",
          "model_module_version": "1.2.0",
          "state": {
            "_model_module": "@jupyter-widgets/base",
            "_model_module_version": "1.2.0",
            "_model_name": "LayoutModel",
            "_view_count": null,
            "_view_module": "@jupyter-widgets/base",
            "_view_module_version": "1.2.0",
            "_view_name": "LayoutView",
            "align_content": null,
            "align_items": null,
            "align_self": null,
            "border": null,
            "bottom": null,
            "display": null,
            "flex": null,
            "flex_flow": null,
            "grid_area": null,
            "grid_auto_columns": null,
            "grid_auto_flow": null,
            "grid_auto_rows": null,
            "grid_column": null,
            "grid_gap": null,
            "grid_row": null,
            "grid_template_areas": null,
            "grid_template_columns": null,
            "grid_template_rows": null,
            "height": null,
            "justify_content": null,
            "justify_items": null,
            "left": null,
            "margin": null,
            "max_height": null,
            "max_width": null,
            "min_height": null,
            "min_width": null,
            "object_fit": null,
            "object_position": null,
            "order": null,
            "overflow": null,
            "overflow_x": null,
            "overflow_y": null,
            "padding": null,
            "right": null,
            "top": null,
            "visibility": null,
            "width": null
          }
        },
        "c3ab492c8cd24223b2b4274cece9fcff": {
          "model_module": "@jupyter-widgets/controls",
          "model_name": "DescriptionStyleModel",
          "model_module_version": "1.5.0",
          "state": {
            "_model_module": "@jupyter-widgets/controls",
            "_model_module_version": "1.5.0",
            "_model_name": "DescriptionStyleModel",
            "_view_count": null,
            "_view_module": "@jupyter-widgets/base",
            "_view_module_version": "1.2.0",
            "_view_name": "StyleView",
            "description_width": ""
          }
        },
        "1eec41bdbf744c9fbbc842048d859f71": {
          "model_module": "@jupyter-widgets/base",
          "model_name": "LayoutModel",
          "model_module_version": "1.2.0",
          "state": {
            "_model_module": "@jupyter-widgets/base",
            "_model_module_version": "1.2.0",
            "_model_name": "LayoutModel",
            "_view_count": null,
            "_view_module": "@jupyter-widgets/base",
            "_view_module_version": "1.2.0",
            "_view_name": "LayoutView",
            "align_content": null,
            "align_items": null,
            "align_self": null,
            "border": null,
            "bottom": null,
            "display": null,
            "flex": null,
            "flex_flow": null,
            "grid_area": null,
            "grid_auto_columns": null,
            "grid_auto_flow": null,
            "grid_auto_rows": null,
            "grid_column": null,
            "grid_gap": null,
            "grid_row": null,
            "grid_template_areas": null,
            "grid_template_columns": null,
            "grid_template_rows": null,
            "height": null,
            "justify_content": null,
            "justify_items": null,
            "left": null,
            "margin": null,
            "max_height": null,
            "max_width": null,
            "min_height": null,
            "min_width": null,
            "object_fit": null,
            "object_position": null,
            "order": null,
            "overflow": null,
            "overflow_x": null,
            "overflow_y": null,
            "padding": null,
            "right": null,
            "top": null,
            "visibility": null,
            "width": null
          }
        },
        "4bfaf87d7c30420abb6842a9c05d90cd": {
          "model_module": "@jupyter-widgets/controls",
          "model_name": "ProgressStyleModel",
          "model_module_version": "1.5.0",
          "state": {
            "_model_module": "@jupyter-widgets/controls",
            "_model_module_version": "1.5.0",
            "_model_name": "ProgressStyleModel",
            "_view_count": null,
            "_view_module": "@jupyter-widgets/base",
            "_view_module_version": "1.2.0",
            "_view_name": "StyleView",
            "bar_color": null,
            "description_width": ""
          }
        },
        "c0df3b8ebd754893bdd92fb85449baab": {
          "model_module": "@jupyter-widgets/base",
          "model_name": "LayoutModel",
          "model_module_version": "1.2.0",
          "state": {
            "_model_module": "@jupyter-widgets/base",
            "_model_module_version": "1.2.0",
            "_model_name": "LayoutModel",
            "_view_count": null,
            "_view_module": "@jupyter-widgets/base",
            "_view_module_version": "1.2.0",
            "_view_name": "LayoutView",
            "align_content": null,
            "align_items": null,
            "align_self": null,
            "border": null,
            "bottom": null,
            "display": null,
            "flex": null,
            "flex_flow": null,
            "grid_area": null,
            "grid_auto_columns": null,
            "grid_auto_flow": null,
            "grid_auto_rows": null,
            "grid_column": null,
            "grid_gap": null,
            "grid_row": null,
            "grid_template_areas": null,
            "grid_template_columns": null,
            "grid_template_rows": null,
            "height": null,
            "justify_content": null,
            "justify_items": null,
            "left": null,
            "margin": null,
            "max_height": null,
            "max_width": null,
            "min_height": null,
            "min_width": null,
            "object_fit": null,
            "object_position": null,
            "order": null,
            "overflow": null,
            "overflow_x": null,
            "overflow_y": null,
            "padding": null,
            "right": null,
            "top": null,
            "visibility": null,
            "width": null
          }
        },
        "e87069d49e444d639214dbedea48fec0": {
          "model_module": "@jupyter-widgets/controls",
          "model_name": "DescriptionStyleModel",
          "model_module_version": "1.5.0",
          "state": {
            "_model_module": "@jupyter-widgets/controls",
            "_model_module_version": "1.5.0",
            "_model_name": "DescriptionStyleModel",
            "_view_count": null,
            "_view_module": "@jupyter-widgets/base",
            "_view_module_version": "1.2.0",
            "_view_name": "StyleView",
            "description_width": ""
          }
        },
        "934c0bc12a4d405db1a0786a68e90f78": {
          "model_module": "@jupyter-widgets/controls",
          "model_name": "HBoxModel",
          "model_module_version": "1.5.0",
          "state": {
            "_dom_classes": [],
            "_model_module": "@jupyter-widgets/controls",
            "_model_module_version": "1.5.0",
            "_model_name": "HBoxModel",
            "_view_count": null,
            "_view_module": "@jupyter-widgets/controls",
            "_view_module_version": "1.5.0",
            "_view_name": "HBoxView",
            "box_style": "",
            "children": [
              "IPY_MODEL_778e15ffc7a949f2a73d73f56560fe99",
              "IPY_MODEL_5ec8d1fe98da42859e282f22008556f1",
              "IPY_MODEL_27eca62dc8814ddda3643f48107ae1ca"
            ],
            "layout": "IPY_MODEL_4dfce6d42d544b0f8ce36a70e71d4e0e"
          }
        },
        "778e15ffc7a949f2a73d73f56560fe99": {
          "model_module": "@jupyter-widgets/controls",
          "model_name": "HTMLModel",
          "model_module_version": "1.5.0",
          "state": {
            "_dom_classes": [],
            "_model_module": "@jupyter-widgets/controls",
            "_model_module_version": "1.5.0",
            "_model_name": "HTMLModel",
            "_view_count": null,
            "_view_module": "@jupyter-widgets/controls",
            "_view_module_version": "1.5.0",
            "_view_name": "HTMLView",
            "description": "",
            "description_tooltip": null,
            "layout": "IPY_MODEL_7c1117b428cb40a9b9b56508cec1c260",
            "placeholder": "​",
            "style": "IPY_MODEL_6fdd1e60e936422db354a9e5281a8782",
            "value": "100%"
          }
        },
        "5ec8d1fe98da42859e282f22008556f1": {
          "model_module": "@jupyter-widgets/controls",
          "model_name": "FloatProgressModel",
          "model_module_version": "1.5.0",
          "state": {
            "_dom_classes": [],
            "_model_module": "@jupyter-widgets/controls",
            "_model_module_version": "1.5.0",
            "_model_name": "FloatProgressModel",
            "_view_count": null,
            "_view_module": "@jupyter-widgets/controls",
            "_view_module_version": "1.5.0",
            "_view_name": "ProgressView",
            "bar_style": "success",
            "description": "",
            "description_tooltip": null,
            "layout": "IPY_MODEL_372fa7dddd714bd9808aa553f72b7a43",
            "max": 100,
            "min": 0,
            "orientation": "horizontal",
            "style": "IPY_MODEL_e4e384df6b9847b98cc655389440be1c",
            "value": 100
          }
        },
        "27eca62dc8814ddda3643f48107ae1ca": {
          "model_module": "@jupyter-widgets/controls",
          "model_name": "HTMLModel",
          "model_module_version": "1.5.0",
          "state": {
            "_dom_classes": [],
            "_model_module": "@jupyter-widgets/controls",
            "_model_module_version": "1.5.0",
            "_model_name": "HTMLModel",
            "_view_count": null,
            "_view_module": "@jupyter-widgets/controls",
            "_view_module_version": "1.5.0",
            "_view_name": "HTMLView",
            "description": "",
            "description_tooltip": null,
            "layout": "IPY_MODEL_ec417e19ce094711a8dcaee8dc06aef9",
            "placeholder": "​",
            "style": "IPY_MODEL_4beeb5a2629c4c339dfa976366cbdaa4",
            "value": " 100/100 [03:04&lt;00:00,  1.82s/it]"
          }
        },
        "4dfce6d42d544b0f8ce36a70e71d4e0e": {
          "model_module": "@jupyter-widgets/base",
          "model_name": "LayoutModel",
          "model_module_version": "1.2.0",
          "state": {
            "_model_module": "@jupyter-widgets/base",
            "_model_module_version": "1.2.0",
            "_model_name": "LayoutModel",
            "_view_count": null,
            "_view_module": "@jupyter-widgets/base",
            "_view_module_version": "1.2.0",
            "_view_name": "LayoutView",
            "align_content": null,
            "align_items": null,
            "align_self": null,
            "border": null,
            "bottom": null,
            "display": null,
            "flex": null,
            "flex_flow": null,
            "grid_area": null,
            "grid_auto_columns": null,
            "grid_auto_flow": null,
            "grid_auto_rows": null,
            "grid_column": null,
            "grid_gap": null,
            "grid_row": null,
            "grid_template_areas": null,
            "grid_template_columns": null,
            "grid_template_rows": null,
            "height": null,
            "justify_content": null,
            "justify_items": null,
            "left": null,
            "margin": null,
            "max_height": null,
            "max_width": null,
            "min_height": null,
            "min_width": null,
            "object_fit": null,
            "object_position": null,
            "order": null,
            "overflow": null,
            "overflow_x": null,
            "overflow_y": null,
            "padding": null,
            "right": null,
            "top": null,
            "visibility": null,
            "width": null
          }
        },
        "7c1117b428cb40a9b9b56508cec1c260": {
          "model_module": "@jupyter-widgets/base",
          "model_name": "LayoutModel",
          "model_module_version": "1.2.0",
          "state": {
            "_model_module": "@jupyter-widgets/base",
            "_model_module_version": "1.2.0",
            "_model_name": "LayoutModel",
            "_view_count": null,
            "_view_module": "@jupyter-widgets/base",
            "_view_module_version": "1.2.0",
            "_view_name": "LayoutView",
            "align_content": null,
            "align_items": null,
            "align_self": null,
            "border": null,
            "bottom": null,
            "display": null,
            "flex": null,
            "flex_flow": null,
            "grid_area": null,
            "grid_auto_columns": null,
            "grid_auto_flow": null,
            "grid_auto_rows": null,
            "grid_column": null,
            "grid_gap": null,
            "grid_row": null,
            "grid_template_areas": null,
            "grid_template_columns": null,
            "grid_template_rows": null,
            "height": null,
            "justify_content": null,
            "justify_items": null,
            "left": null,
            "margin": null,
            "max_height": null,
            "max_width": null,
            "min_height": null,
            "min_width": null,
            "object_fit": null,
            "object_position": null,
            "order": null,
            "overflow": null,
            "overflow_x": null,
            "overflow_y": null,
            "padding": null,
            "right": null,
            "top": null,
            "visibility": null,
            "width": null
          }
        },
        "6fdd1e60e936422db354a9e5281a8782": {
          "model_module": "@jupyter-widgets/controls",
          "model_name": "DescriptionStyleModel",
          "model_module_version": "1.5.0",
          "state": {
            "_model_module": "@jupyter-widgets/controls",
            "_model_module_version": "1.5.0",
            "_model_name": "DescriptionStyleModel",
            "_view_count": null,
            "_view_module": "@jupyter-widgets/base",
            "_view_module_version": "1.2.0",
            "_view_name": "StyleView",
            "description_width": ""
          }
        },
        "372fa7dddd714bd9808aa553f72b7a43": {
          "model_module": "@jupyter-widgets/base",
          "model_name": "LayoutModel",
          "model_module_version": "1.2.0",
          "state": {
            "_model_module": "@jupyter-widgets/base",
            "_model_module_version": "1.2.0",
            "_model_name": "LayoutModel",
            "_view_count": null,
            "_view_module": "@jupyter-widgets/base",
            "_view_module_version": "1.2.0",
            "_view_name": "LayoutView",
            "align_content": null,
            "align_items": null,
            "align_self": null,
            "border": null,
            "bottom": null,
            "display": null,
            "flex": null,
            "flex_flow": null,
            "grid_area": null,
            "grid_auto_columns": null,
            "grid_auto_flow": null,
            "grid_auto_rows": null,
            "grid_column": null,
            "grid_gap": null,
            "grid_row": null,
            "grid_template_areas": null,
            "grid_template_columns": null,
            "grid_template_rows": null,
            "height": null,
            "justify_content": null,
            "justify_items": null,
            "left": null,
            "margin": null,
            "max_height": null,
            "max_width": null,
            "min_height": null,
            "min_width": null,
            "object_fit": null,
            "object_position": null,
            "order": null,
            "overflow": null,
            "overflow_x": null,
            "overflow_y": null,
            "padding": null,
            "right": null,
            "top": null,
            "visibility": null,
            "width": null
          }
        },
        "e4e384df6b9847b98cc655389440be1c": {
          "model_module": "@jupyter-widgets/controls",
          "model_name": "ProgressStyleModel",
          "model_module_version": "1.5.0",
          "state": {
            "_model_module": "@jupyter-widgets/controls",
            "_model_module_version": "1.5.0",
            "_model_name": "ProgressStyleModel",
            "_view_count": null,
            "_view_module": "@jupyter-widgets/base",
            "_view_module_version": "1.2.0",
            "_view_name": "StyleView",
            "bar_color": null,
            "description_width": ""
          }
        },
        "ec417e19ce094711a8dcaee8dc06aef9": {
          "model_module": "@jupyter-widgets/base",
          "model_name": "LayoutModel",
          "model_module_version": "1.2.0",
          "state": {
            "_model_module": "@jupyter-widgets/base",
            "_model_module_version": "1.2.0",
            "_model_name": "LayoutModel",
            "_view_count": null,
            "_view_module": "@jupyter-widgets/base",
            "_view_module_version": "1.2.0",
            "_view_name": "LayoutView",
            "align_content": null,
            "align_items": null,
            "align_self": null,
            "border": null,
            "bottom": null,
            "display": null,
            "flex": null,
            "flex_flow": null,
            "grid_area": null,
            "grid_auto_columns": null,
            "grid_auto_flow": null,
            "grid_auto_rows": null,
            "grid_column": null,
            "grid_gap": null,
            "grid_row": null,
            "grid_template_areas": null,
            "grid_template_columns": null,
            "grid_template_rows": null,
            "height": null,
            "justify_content": null,
            "justify_items": null,
            "left": null,
            "margin": null,
            "max_height": null,
            "max_width": null,
            "min_height": null,
            "min_width": null,
            "object_fit": null,
            "object_position": null,
            "order": null,
            "overflow": null,
            "overflow_x": null,
            "overflow_y": null,
            "padding": null,
            "right": null,
            "top": null,
            "visibility": null,
            "width": null
          }
        },
        "4beeb5a2629c4c339dfa976366cbdaa4": {
          "model_module": "@jupyter-widgets/controls",
          "model_name": "DescriptionStyleModel",
          "model_module_version": "1.5.0",
          "state": {
            "_model_module": "@jupyter-widgets/controls",
            "_model_module_version": "1.5.0",
            "_model_name": "DescriptionStyleModel",
            "_view_count": null,
            "_view_module": "@jupyter-widgets/base",
            "_view_module_version": "1.2.0",
            "_view_name": "StyleView",
            "description_width": ""
          }
        },
        "c78663c83cc9493fa3842fdff764b513": {
          "model_module": "@jupyter-widgets/controls",
          "model_name": "HBoxModel",
          "model_module_version": "1.5.0",
          "state": {
            "_dom_classes": [],
            "_model_module": "@jupyter-widgets/controls",
            "_model_module_version": "1.5.0",
            "_model_name": "HBoxModel",
            "_view_count": null,
            "_view_module": "@jupyter-widgets/controls",
            "_view_module_version": "1.5.0",
            "_view_name": "HBoxView",
            "box_style": "",
            "children": [
              "IPY_MODEL_b41cf67aceda4bf6852cefc989ef9093",
              "IPY_MODEL_f60474cff1a94d54b4c245c305728075",
              "IPY_MODEL_e6036d3a436e46ecba087c42fb6ca33a"
            ],
            "layout": "IPY_MODEL_194add448a7b4c968fd9bd2ab20e6d95"
          }
        },
        "b41cf67aceda4bf6852cefc989ef9093": {
          "model_module": "@jupyter-widgets/controls",
          "model_name": "HTMLModel",
          "model_module_version": "1.5.0",
          "state": {
            "_dom_classes": [],
            "_model_module": "@jupyter-widgets/controls",
            "_model_module_version": "1.5.0",
            "_model_name": "HTMLModel",
            "_view_count": null,
            "_view_module": "@jupyter-widgets/controls",
            "_view_module_version": "1.5.0",
            "_view_name": "HTMLView",
            "description": "",
            "description_tooltip": null,
            "layout": "IPY_MODEL_b0ce52ae676c456d940f42bb76868bef",
            "placeholder": "​",
            "style": "IPY_MODEL_89304e4f1d7742099d14bb05937a3d55",
            "value": "100%"
          }
        },
        "f60474cff1a94d54b4c245c305728075": {
          "model_module": "@jupyter-widgets/controls",
          "model_name": "FloatProgressModel",
          "model_module_version": "1.5.0",
          "state": {
            "_dom_classes": [],
            "_model_module": "@jupyter-widgets/controls",
            "_model_module_version": "1.5.0",
            "_model_name": "FloatProgressModel",
            "_view_count": null,
            "_view_module": "@jupyter-widgets/controls",
            "_view_module_version": "1.5.0",
            "_view_name": "ProgressView",
            "bar_style": "success",
            "description": "",
            "description_tooltip": null,
            "layout": "IPY_MODEL_cc1f0d32daf34f9d965af9e76177e59c",
            "max": 100,
            "min": 0,
            "orientation": "horizontal",
            "style": "IPY_MODEL_353657dbe63f474d8db5a4b2770b75d5",
            "value": 100
          }
        },
        "e6036d3a436e46ecba087c42fb6ca33a": {
          "model_module": "@jupyter-widgets/controls",
          "model_name": "HTMLModel",
          "model_module_version": "1.5.0",
          "state": {
            "_dom_classes": [],
            "_model_module": "@jupyter-widgets/controls",
            "_model_module_version": "1.5.0",
            "_model_name": "HTMLModel",
            "_view_count": null,
            "_view_module": "@jupyter-widgets/controls",
            "_view_module_version": "1.5.0",
            "_view_name": "HTMLView",
            "description": "",
            "description_tooltip": null,
            "layout": "IPY_MODEL_02a935e995854be38a2333c7f618dbdb",
            "placeholder": "​",
            "style": "IPY_MODEL_ffab6b9a732a4a04aaf547623eb5e146",
            "value": " 100/100 [03:15&lt;00:00,  1.91s/it]"
          }
        },
        "194add448a7b4c968fd9bd2ab20e6d95": {
          "model_module": "@jupyter-widgets/base",
          "model_name": "LayoutModel",
          "model_module_version": "1.2.0",
          "state": {
            "_model_module": "@jupyter-widgets/base",
            "_model_module_version": "1.2.0",
            "_model_name": "LayoutModel",
            "_view_count": null,
            "_view_module": "@jupyter-widgets/base",
            "_view_module_version": "1.2.0",
            "_view_name": "LayoutView",
            "align_content": null,
            "align_items": null,
            "align_self": null,
            "border": null,
            "bottom": null,
            "display": null,
            "flex": null,
            "flex_flow": null,
            "grid_area": null,
            "grid_auto_columns": null,
            "grid_auto_flow": null,
            "grid_auto_rows": null,
            "grid_column": null,
            "grid_gap": null,
            "grid_row": null,
            "grid_template_areas": null,
            "grid_template_columns": null,
            "grid_template_rows": null,
            "height": null,
            "justify_content": null,
            "justify_items": null,
            "left": null,
            "margin": null,
            "max_height": null,
            "max_width": null,
            "min_height": null,
            "min_width": null,
            "object_fit": null,
            "object_position": null,
            "order": null,
            "overflow": null,
            "overflow_x": null,
            "overflow_y": null,
            "padding": null,
            "right": null,
            "top": null,
            "visibility": null,
            "width": null
          }
        },
        "b0ce52ae676c456d940f42bb76868bef": {
          "model_module": "@jupyter-widgets/base",
          "model_name": "LayoutModel",
          "model_module_version": "1.2.0",
          "state": {
            "_model_module": "@jupyter-widgets/base",
            "_model_module_version": "1.2.0",
            "_model_name": "LayoutModel",
            "_view_count": null,
            "_view_module": "@jupyter-widgets/base",
            "_view_module_version": "1.2.0",
            "_view_name": "LayoutView",
            "align_content": null,
            "align_items": null,
            "align_self": null,
            "border": null,
            "bottom": null,
            "display": null,
            "flex": null,
            "flex_flow": null,
            "grid_area": null,
            "grid_auto_columns": null,
            "grid_auto_flow": null,
            "grid_auto_rows": null,
            "grid_column": null,
            "grid_gap": null,
            "grid_row": null,
            "grid_template_areas": null,
            "grid_template_columns": null,
            "grid_template_rows": null,
            "height": null,
            "justify_content": null,
            "justify_items": null,
            "left": null,
            "margin": null,
            "max_height": null,
            "max_width": null,
            "min_height": null,
            "min_width": null,
            "object_fit": null,
            "object_position": null,
            "order": null,
            "overflow": null,
            "overflow_x": null,
            "overflow_y": null,
            "padding": null,
            "right": null,
            "top": null,
            "visibility": null,
            "width": null
          }
        },
        "89304e4f1d7742099d14bb05937a3d55": {
          "model_module": "@jupyter-widgets/controls",
          "model_name": "DescriptionStyleModel",
          "model_module_version": "1.5.0",
          "state": {
            "_model_module": "@jupyter-widgets/controls",
            "_model_module_version": "1.5.0",
            "_model_name": "DescriptionStyleModel",
            "_view_count": null,
            "_view_module": "@jupyter-widgets/base",
            "_view_module_version": "1.2.0",
            "_view_name": "StyleView",
            "description_width": ""
          }
        },
        "cc1f0d32daf34f9d965af9e76177e59c": {
          "model_module": "@jupyter-widgets/base",
          "model_name": "LayoutModel",
          "model_module_version": "1.2.0",
          "state": {
            "_model_module": "@jupyter-widgets/base",
            "_model_module_version": "1.2.0",
            "_model_name": "LayoutModel",
            "_view_count": null,
            "_view_module": "@jupyter-widgets/base",
            "_view_module_version": "1.2.0",
            "_view_name": "LayoutView",
            "align_content": null,
            "align_items": null,
            "align_self": null,
            "border": null,
            "bottom": null,
            "display": null,
            "flex": null,
            "flex_flow": null,
            "grid_area": null,
            "grid_auto_columns": null,
            "grid_auto_flow": null,
            "grid_auto_rows": null,
            "grid_column": null,
            "grid_gap": null,
            "grid_row": null,
            "grid_template_areas": null,
            "grid_template_columns": null,
            "grid_template_rows": null,
            "height": null,
            "justify_content": null,
            "justify_items": null,
            "left": null,
            "margin": null,
            "max_height": null,
            "max_width": null,
            "min_height": null,
            "min_width": null,
            "object_fit": null,
            "object_position": null,
            "order": null,
            "overflow": null,
            "overflow_x": null,
            "overflow_y": null,
            "padding": null,
            "right": null,
            "top": null,
            "visibility": null,
            "width": null
          }
        },
        "353657dbe63f474d8db5a4b2770b75d5": {
          "model_module": "@jupyter-widgets/controls",
          "model_name": "ProgressStyleModel",
          "model_module_version": "1.5.0",
          "state": {
            "_model_module": "@jupyter-widgets/controls",
            "_model_module_version": "1.5.0",
            "_model_name": "ProgressStyleModel",
            "_view_count": null,
            "_view_module": "@jupyter-widgets/base",
            "_view_module_version": "1.2.0",
            "_view_name": "StyleView",
            "bar_color": null,
            "description_width": ""
          }
        },
        "02a935e995854be38a2333c7f618dbdb": {
          "model_module": "@jupyter-widgets/base",
          "model_name": "LayoutModel",
          "model_module_version": "1.2.0",
          "state": {
            "_model_module": "@jupyter-widgets/base",
            "_model_module_version": "1.2.0",
            "_model_name": "LayoutModel",
            "_view_count": null,
            "_view_module": "@jupyter-widgets/base",
            "_view_module_version": "1.2.0",
            "_view_name": "LayoutView",
            "align_content": null,
            "align_items": null,
            "align_self": null,
            "border": null,
            "bottom": null,
            "display": null,
            "flex": null,
            "flex_flow": null,
            "grid_area": null,
            "grid_auto_columns": null,
            "grid_auto_flow": null,
            "grid_auto_rows": null,
            "grid_column": null,
            "grid_gap": null,
            "grid_row": null,
            "grid_template_areas": null,
            "grid_template_columns": null,
            "grid_template_rows": null,
            "height": null,
            "justify_content": null,
            "justify_items": null,
            "left": null,
            "margin": null,
            "max_height": null,
            "max_width": null,
            "min_height": null,
            "min_width": null,
            "object_fit": null,
            "object_position": null,
            "order": null,
            "overflow": null,
            "overflow_x": null,
            "overflow_y": null,
            "padding": null,
            "right": null,
            "top": null,
            "visibility": null,
            "width": null
          }
        },
        "ffab6b9a732a4a04aaf547623eb5e146": {
          "model_module": "@jupyter-widgets/controls",
          "model_name": "DescriptionStyleModel",
          "model_module_version": "1.5.0",
          "state": {
            "_model_module": "@jupyter-widgets/controls",
            "_model_module_version": "1.5.0",
            "_model_name": "DescriptionStyleModel",
            "_view_count": null,
            "_view_module": "@jupyter-widgets/base",
            "_view_module_version": "1.2.0",
            "_view_name": "StyleView",
            "description_width": ""
          }
        },
        "772845cdd1ab495eb919fc2c64384817": {
          "model_module": "@jupyter-widgets/controls",
          "model_name": "HBoxModel",
          "model_module_version": "1.5.0",
          "state": {
            "_dom_classes": [],
            "_model_module": "@jupyter-widgets/controls",
            "_model_module_version": "1.5.0",
            "_model_name": "HBoxModel",
            "_view_count": null,
            "_view_module": "@jupyter-widgets/controls",
            "_view_module_version": "1.5.0",
            "_view_name": "HBoxView",
            "box_style": "",
            "children": [
              "IPY_MODEL_6b73171853b64b88bd920eec0dc675f7",
              "IPY_MODEL_53db3fd25c784cbcb3e23a10c7ea0197",
              "IPY_MODEL_f49d0e8309104ad2bd42b5a39561c721"
            ],
            "layout": "IPY_MODEL_468121eeb8c343e0b67068e94f4624eb"
          }
        },
        "6b73171853b64b88bd920eec0dc675f7": {
          "model_module": "@jupyter-widgets/controls",
          "model_name": "HTMLModel",
          "model_module_version": "1.5.0",
          "state": {
            "_dom_classes": [],
            "_model_module": "@jupyter-widgets/controls",
            "_model_module_version": "1.5.0",
            "_model_name": "HTMLModel",
            "_view_count": null,
            "_view_module": "@jupyter-widgets/controls",
            "_view_module_version": "1.5.0",
            "_view_name": "HTMLView",
            "description": "",
            "description_tooltip": null,
            "layout": "IPY_MODEL_36a0616fa8be4dc792a721334e3af976",
            "placeholder": "​",
            "style": "IPY_MODEL_95aaaf2846684394bfc9bb1994217f12",
            "value": "100%"
          }
        },
        "53db3fd25c784cbcb3e23a10c7ea0197": {
          "model_module": "@jupyter-widgets/controls",
          "model_name": "FloatProgressModel",
          "model_module_version": "1.5.0",
          "state": {
            "_dom_classes": [],
            "_model_module": "@jupyter-widgets/controls",
            "_model_module_version": "1.5.0",
            "_model_name": "FloatProgressModel",
            "_view_count": null,
            "_view_module": "@jupyter-widgets/controls",
            "_view_module_version": "1.5.0",
            "_view_name": "ProgressView",
            "bar_style": "success",
            "description": "",
            "description_tooltip": null,
            "layout": "IPY_MODEL_8ae1ff9ddd3c4ceaa99558d3b0d997aa",
            "max": 100,
            "min": 0,
            "orientation": "horizontal",
            "style": "IPY_MODEL_274e13bdce0640ac8ce58da2a68ac6ef",
            "value": 100
          }
        },
        "f49d0e8309104ad2bd42b5a39561c721": {
          "model_module": "@jupyter-widgets/controls",
          "model_name": "HTMLModel",
          "model_module_version": "1.5.0",
          "state": {
            "_dom_classes": [],
            "_model_module": "@jupyter-widgets/controls",
            "_model_module_version": "1.5.0",
            "_model_name": "HTMLModel",
            "_view_count": null,
            "_view_module": "@jupyter-widgets/controls",
            "_view_module_version": "1.5.0",
            "_view_name": "HTMLView",
            "description": "",
            "description_tooltip": null,
            "layout": "IPY_MODEL_3f1cdb333a824a4f9d3a8dee7ddc29bb",
            "placeholder": "​",
            "style": "IPY_MODEL_6b88af1693854c3fb029f57c2d1cefa2",
            "value": " 100/100 [03:29&lt;00:00,  2.13s/it]"
          }
        },
        "468121eeb8c343e0b67068e94f4624eb": {
          "model_module": "@jupyter-widgets/base",
          "model_name": "LayoutModel",
          "model_module_version": "1.2.0",
          "state": {
            "_model_module": "@jupyter-widgets/base",
            "_model_module_version": "1.2.0",
            "_model_name": "LayoutModel",
            "_view_count": null,
            "_view_module": "@jupyter-widgets/base",
            "_view_module_version": "1.2.0",
            "_view_name": "LayoutView",
            "align_content": null,
            "align_items": null,
            "align_self": null,
            "border": null,
            "bottom": null,
            "display": null,
            "flex": null,
            "flex_flow": null,
            "grid_area": null,
            "grid_auto_columns": null,
            "grid_auto_flow": null,
            "grid_auto_rows": null,
            "grid_column": null,
            "grid_gap": null,
            "grid_row": null,
            "grid_template_areas": null,
            "grid_template_columns": null,
            "grid_template_rows": null,
            "height": null,
            "justify_content": null,
            "justify_items": null,
            "left": null,
            "margin": null,
            "max_height": null,
            "max_width": null,
            "min_height": null,
            "min_width": null,
            "object_fit": null,
            "object_position": null,
            "order": null,
            "overflow": null,
            "overflow_x": null,
            "overflow_y": null,
            "padding": null,
            "right": null,
            "top": null,
            "visibility": null,
            "width": null
          }
        },
        "36a0616fa8be4dc792a721334e3af976": {
          "model_module": "@jupyter-widgets/base",
          "model_name": "LayoutModel",
          "model_module_version": "1.2.0",
          "state": {
            "_model_module": "@jupyter-widgets/base",
            "_model_module_version": "1.2.0",
            "_model_name": "LayoutModel",
            "_view_count": null,
            "_view_module": "@jupyter-widgets/base",
            "_view_module_version": "1.2.0",
            "_view_name": "LayoutView",
            "align_content": null,
            "align_items": null,
            "align_self": null,
            "border": null,
            "bottom": null,
            "display": null,
            "flex": null,
            "flex_flow": null,
            "grid_area": null,
            "grid_auto_columns": null,
            "grid_auto_flow": null,
            "grid_auto_rows": null,
            "grid_column": null,
            "grid_gap": null,
            "grid_row": null,
            "grid_template_areas": null,
            "grid_template_columns": null,
            "grid_template_rows": null,
            "height": null,
            "justify_content": null,
            "justify_items": null,
            "left": null,
            "margin": null,
            "max_height": null,
            "max_width": null,
            "min_height": null,
            "min_width": null,
            "object_fit": null,
            "object_position": null,
            "order": null,
            "overflow": null,
            "overflow_x": null,
            "overflow_y": null,
            "padding": null,
            "right": null,
            "top": null,
            "visibility": null,
            "width": null
          }
        },
        "95aaaf2846684394bfc9bb1994217f12": {
          "model_module": "@jupyter-widgets/controls",
          "model_name": "DescriptionStyleModel",
          "model_module_version": "1.5.0",
          "state": {
            "_model_module": "@jupyter-widgets/controls",
            "_model_module_version": "1.5.0",
            "_model_name": "DescriptionStyleModel",
            "_view_count": null,
            "_view_module": "@jupyter-widgets/base",
            "_view_module_version": "1.2.0",
            "_view_name": "StyleView",
            "description_width": ""
          }
        },
        "8ae1ff9ddd3c4ceaa99558d3b0d997aa": {
          "model_module": "@jupyter-widgets/base",
          "model_name": "LayoutModel",
          "model_module_version": "1.2.0",
          "state": {
            "_model_module": "@jupyter-widgets/base",
            "_model_module_version": "1.2.0",
            "_model_name": "LayoutModel",
            "_view_count": null,
            "_view_module": "@jupyter-widgets/base",
            "_view_module_version": "1.2.0",
            "_view_name": "LayoutView",
            "align_content": null,
            "align_items": null,
            "align_self": null,
            "border": null,
            "bottom": null,
            "display": null,
            "flex": null,
            "flex_flow": null,
            "grid_area": null,
            "grid_auto_columns": null,
            "grid_auto_flow": null,
            "grid_auto_rows": null,
            "grid_column": null,
            "grid_gap": null,
            "grid_row": null,
            "grid_template_areas": null,
            "grid_template_columns": null,
            "grid_template_rows": null,
            "height": null,
            "justify_content": null,
            "justify_items": null,
            "left": null,
            "margin": null,
            "max_height": null,
            "max_width": null,
            "min_height": null,
            "min_width": null,
            "object_fit": null,
            "object_position": null,
            "order": null,
            "overflow": null,
            "overflow_x": null,
            "overflow_y": null,
            "padding": null,
            "right": null,
            "top": null,
            "visibility": null,
            "width": null
          }
        },
        "274e13bdce0640ac8ce58da2a68ac6ef": {
          "model_module": "@jupyter-widgets/controls",
          "model_name": "ProgressStyleModel",
          "model_module_version": "1.5.0",
          "state": {
            "_model_module": "@jupyter-widgets/controls",
            "_model_module_version": "1.5.0",
            "_model_name": "ProgressStyleModel",
            "_view_count": null,
            "_view_module": "@jupyter-widgets/base",
            "_view_module_version": "1.2.0",
            "_view_name": "StyleView",
            "bar_color": null,
            "description_width": ""
          }
        },
        "3f1cdb333a824a4f9d3a8dee7ddc29bb": {
          "model_module": "@jupyter-widgets/base",
          "model_name": "LayoutModel",
          "model_module_version": "1.2.0",
          "state": {
            "_model_module": "@jupyter-widgets/base",
            "_model_module_version": "1.2.0",
            "_model_name": "LayoutModel",
            "_view_count": null,
            "_view_module": "@jupyter-widgets/base",
            "_view_module_version": "1.2.0",
            "_view_name": "LayoutView",
            "align_content": null,
            "align_items": null,
            "align_self": null,
            "border": null,
            "bottom": null,
            "display": null,
            "flex": null,
            "flex_flow": null,
            "grid_area": null,
            "grid_auto_columns": null,
            "grid_auto_flow": null,
            "grid_auto_rows": null,
            "grid_column": null,
            "grid_gap": null,
            "grid_row": null,
            "grid_template_areas": null,
            "grid_template_columns": null,
            "grid_template_rows": null,
            "height": null,
            "justify_content": null,
            "justify_items": null,
            "left": null,
            "margin": null,
            "max_height": null,
            "max_width": null,
            "min_height": null,
            "min_width": null,
            "object_fit": null,
            "object_position": null,
            "order": null,
            "overflow": null,
            "overflow_x": null,
            "overflow_y": null,
            "padding": null,
            "right": null,
            "top": null,
            "visibility": null,
            "width": null
          }
        },
        "6b88af1693854c3fb029f57c2d1cefa2": {
          "model_module": "@jupyter-widgets/controls",
          "model_name": "DescriptionStyleModel",
          "model_module_version": "1.5.0",
          "state": {
            "_model_module": "@jupyter-widgets/controls",
            "_model_module_version": "1.5.0",
            "_model_name": "DescriptionStyleModel",
            "_view_count": null,
            "_view_module": "@jupyter-widgets/base",
            "_view_module_version": "1.2.0",
            "_view_name": "StyleView",
            "description_width": ""
          }
        },
        "eeeeddc6984843aebb9621ab578417b7": {
          "model_module": "@jupyter-widgets/controls",
          "model_name": "HBoxModel",
          "model_module_version": "1.5.0",
          "state": {
            "_dom_classes": [],
            "_model_module": "@jupyter-widgets/controls",
            "_model_module_version": "1.5.0",
            "_model_name": "HBoxModel",
            "_view_count": null,
            "_view_module": "@jupyter-widgets/controls",
            "_view_module_version": "1.5.0",
            "_view_name": "HBoxView",
            "box_style": "",
            "children": [
              "IPY_MODEL_f0df75a2ef764af4bb7f934141fb717b",
              "IPY_MODEL_dc7f04f9461945139864b6b9d86e5fd9",
              "IPY_MODEL_1054ff404f56496286953a64850a6c8b"
            ],
            "layout": "IPY_MODEL_5fd8496b9d9341be940a406fa3f4f0ce"
          }
        },
        "f0df75a2ef764af4bb7f934141fb717b": {
          "model_module": "@jupyter-widgets/controls",
          "model_name": "HTMLModel",
          "model_module_version": "1.5.0",
          "state": {
            "_dom_classes": [],
            "_model_module": "@jupyter-widgets/controls",
            "_model_module_version": "1.5.0",
            "_model_name": "HTMLModel",
            "_view_count": null,
            "_view_module": "@jupyter-widgets/controls",
            "_view_module_version": "1.5.0",
            "_view_name": "HTMLView",
            "description": "",
            "description_tooltip": null,
            "layout": "IPY_MODEL_eaefd742d5af45ab899cd33f72fa0e43",
            "placeholder": "​",
            "style": "IPY_MODEL_93516c6afcb34f49ae5777a1d1d464aa",
            "value": "100%"
          }
        },
        "dc7f04f9461945139864b6b9d86e5fd9": {
          "model_module": "@jupyter-widgets/controls",
          "model_name": "FloatProgressModel",
          "model_module_version": "1.5.0",
          "state": {
            "_dom_classes": [],
            "_model_module": "@jupyter-widgets/controls",
            "_model_module_version": "1.5.0",
            "_model_name": "FloatProgressModel",
            "_view_count": null,
            "_view_module": "@jupyter-widgets/controls",
            "_view_module_version": "1.5.0",
            "_view_name": "ProgressView",
            "bar_style": "success",
            "description": "",
            "description_tooltip": null,
            "layout": "IPY_MODEL_1cbb2b4406594dc292e21c993fadf475",
            "max": 100,
            "min": 0,
            "orientation": "horizontal",
            "style": "IPY_MODEL_ab0bf745ee7d4f4fa4eea61df4d8840d",
            "value": 100
          }
        },
        "1054ff404f56496286953a64850a6c8b": {
          "model_module": "@jupyter-widgets/controls",
          "model_name": "HTMLModel",
          "model_module_version": "1.5.0",
          "state": {
            "_dom_classes": [],
            "_model_module": "@jupyter-widgets/controls",
            "_model_module_version": "1.5.0",
            "_model_name": "HTMLModel",
            "_view_count": null,
            "_view_module": "@jupyter-widgets/controls",
            "_view_module_version": "1.5.0",
            "_view_name": "HTMLView",
            "description": "",
            "description_tooltip": null,
            "layout": "IPY_MODEL_21000ecef4ab4d9f9ab9f5c123614a9f",
            "placeholder": "​",
            "style": "IPY_MODEL_b889580f30fd42009fdcc449ded1d9b2",
            "value": " 100/100 [03:43&lt;00:00,  2.65s/it]"
          }
        },
        "5fd8496b9d9341be940a406fa3f4f0ce": {
          "model_module": "@jupyter-widgets/base",
          "model_name": "LayoutModel",
          "model_module_version": "1.2.0",
          "state": {
            "_model_module": "@jupyter-widgets/base",
            "_model_module_version": "1.2.0",
            "_model_name": "LayoutModel",
            "_view_count": null,
            "_view_module": "@jupyter-widgets/base",
            "_view_module_version": "1.2.0",
            "_view_name": "LayoutView",
            "align_content": null,
            "align_items": null,
            "align_self": null,
            "border": null,
            "bottom": null,
            "display": null,
            "flex": null,
            "flex_flow": null,
            "grid_area": null,
            "grid_auto_columns": null,
            "grid_auto_flow": null,
            "grid_auto_rows": null,
            "grid_column": null,
            "grid_gap": null,
            "grid_row": null,
            "grid_template_areas": null,
            "grid_template_columns": null,
            "grid_template_rows": null,
            "height": null,
            "justify_content": null,
            "justify_items": null,
            "left": null,
            "margin": null,
            "max_height": null,
            "max_width": null,
            "min_height": null,
            "min_width": null,
            "object_fit": null,
            "object_position": null,
            "order": null,
            "overflow": null,
            "overflow_x": null,
            "overflow_y": null,
            "padding": null,
            "right": null,
            "top": null,
            "visibility": null,
            "width": null
          }
        },
        "eaefd742d5af45ab899cd33f72fa0e43": {
          "model_module": "@jupyter-widgets/base",
          "model_name": "LayoutModel",
          "model_module_version": "1.2.0",
          "state": {
            "_model_module": "@jupyter-widgets/base",
            "_model_module_version": "1.2.0",
            "_model_name": "LayoutModel",
            "_view_count": null,
            "_view_module": "@jupyter-widgets/base",
            "_view_module_version": "1.2.0",
            "_view_name": "LayoutView",
            "align_content": null,
            "align_items": null,
            "align_self": null,
            "border": null,
            "bottom": null,
            "display": null,
            "flex": null,
            "flex_flow": null,
            "grid_area": null,
            "grid_auto_columns": null,
            "grid_auto_flow": null,
            "grid_auto_rows": null,
            "grid_column": null,
            "grid_gap": null,
            "grid_row": null,
            "grid_template_areas": null,
            "grid_template_columns": null,
            "grid_template_rows": null,
            "height": null,
            "justify_content": null,
            "justify_items": null,
            "left": null,
            "margin": null,
            "max_height": null,
            "max_width": null,
            "min_height": null,
            "min_width": null,
            "object_fit": null,
            "object_position": null,
            "order": null,
            "overflow": null,
            "overflow_x": null,
            "overflow_y": null,
            "padding": null,
            "right": null,
            "top": null,
            "visibility": null,
            "width": null
          }
        },
        "93516c6afcb34f49ae5777a1d1d464aa": {
          "model_module": "@jupyter-widgets/controls",
          "model_name": "DescriptionStyleModel",
          "model_module_version": "1.5.0",
          "state": {
            "_model_module": "@jupyter-widgets/controls",
            "_model_module_version": "1.5.0",
            "_model_name": "DescriptionStyleModel",
            "_view_count": null,
            "_view_module": "@jupyter-widgets/base",
            "_view_module_version": "1.2.0",
            "_view_name": "StyleView",
            "description_width": ""
          }
        },
        "1cbb2b4406594dc292e21c993fadf475": {
          "model_module": "@jupyter-widgets/base",
          "model_name": "LayoutModel",
          "model_module_version": "1.2.0",
          "state": {
            "_model_module": "@jupyter-widgets/base",
            "_model_module_version": "1.2.0",
            "_model_name": "LayoutModel",
            "_view_count": null,
            "_view_module": "@jupyter-widgets/base",
            "_view_module_version": "1.2.0",
            "_view_name": "LayoutView",
            "align_content": null,
            "align_items": null,
            "align_self": null,
            "border": null,
            "bottom": null,
            "display": null,
            "flex": null,
            "flex_flow": null,
            "grid_area": null,
            "grid_auto_columns": null,
            "grid_auto_flow": null,
            "grid_auto_rows": null,
            "grid_column": null,
            "grid_gap": null,
            "grid_row": null,
            "grid_template_areas": null,
            "grid_template_columns": null,
            "grid_template_rows": null,
            "height": null,
            "justify_content": null,
            "justify_items": null,
            "left": null,
            "margin": null,
            "max_height": null,
            "max_width": null,
            "min_height": null,
            "min_width": null,
            "object_fit": null,
            "object_position": null,
            "order": null,
            "overflow": null,
            "overflow_x": null,
            "overflow_y": null,
            "padding": null,
            "right": null,
            "top": null,
            "visibility": null,
            "width": null
          }
        },
        "ab0bf745ee7d4f4fa4eea61df4d8840d": {
          "model_module": "@jupyter-widgets/controls",
          "model_name": "ProgressStyleModel",
          "model_module_version": "1.5.0",
          "state": {
            "_model_module": "@jupyter-widgets/controls",
            "_model_module_version": "1.5.0",
            "_model_name": "ProgressStyleModel",
            "_view_count": null,
            "_view_module": "@jupyter-widgets/base",
            "_view_module_version": "1.2.0",
            "_view_name": "StyleView",
            "bar_color": null,
            "description_width": ""
          }
        },
        "21000ecef4ab4d9f9ab9f5c123614a9f": {
          "model_module": "@jupyter-widgets/base",
          "model_name": "LayoutModel",
          "model_module_version": "1.2.0",
          "state": {
            "_model_module": "@jupyter-widgets/base",
            "_model_module_version": "1.2.0",
            "_model_name": "LayoutModel",
            "_view_count": null,
            "_view_module": "@jupyter-widgets/base",
            "_view_module_version": "1.2.0",
            "_view_name": "LayoutView",
            "align_content": null,
            "align_items": null,
            "align_self": null,
            "border": null,
            "bottom": null,
            "display": null,
            "flex": null,
            "flex_flow": null,
            "grid_area": null,
            "grid_auto_columns": null,
            "grid_auto_flow": null,
            "grid_auto_rows": null,
            "grid_column": null,
            "grid_gap": null,
            "grid_row": null,
            "grid_template_areas": null,
            "grid_template_columns": null,
            "grid_template_rows": null,
            "height": null,
            "justify_content": null,
            "justify_items": null,
            "left": null,
            "margin": null,
            "max_height": null,
            "max_width": null,
            "min_height": null,
            "min_width": null,
            "object_fit": null,
            "object_position": null,
            "order": null,
            "overflow": null,
            "overflow_x": null,
            "overflow_y": null,
            "padding": null,
            "right": null,
            "top": null,
            "visibility": null,
            "width": null
          }
        },
        "b889580f30fd42009fdcc449ded1d9b2": {
          "model_module": "@jupyter-widgets/controls",
          "model_name": "DescriptionStyleModel",
          "model_module_version": "1.5.0",
          "state": {
            "_model_module": "@jupyter-widgets/controls",
            "_model_module_version": "1.5.0",
            "_model_name": "DescriptionStyleModel",
            "_view_count": null,
            "_view_module": "@jupyter-widgets/base",
            "_view_module_version": "1.2.0",
            "_view_name": "StyleView",
            "description_width": ""
          }
        }
      }
    }
  },
  "cells": [
    {
      "cell_type": "markdown",
      "source": [
        "# Install required packages"
      ],
      "metadata": {
        "id": "03TaUFyGrlS7"
      }
    },
    {
      "cell_type": "code",
      "source": [
        "! pip install timm"
      ],
      "metadata": {
        "colab": {
          "base_uri": "https://localhost:8080/"
        },
        "id": "hFyEr5eiAKJx",
        "outputId": "09470a77-b782-4177-f525-e21f22dcb6ec"
      },
      "execution_count": null,
      "outputs": [
        {
          "output_type": "stream",
          "name": "stdout",
          "text": [
            "Looking in indexes: https://pypi.org/simple, https://us-python.pkg.dev/colab-wheels/public/simple/\n",
            "Collecting timm\n",
            "  Downloading timm-0.6.12-py3-none-any.whl (549 kB)\n",
            "\u001b[2K     \u001b[90m━━━━━━━━━━━━━━━━━━━━━━━━━━━━━━━━━━━━━━\u001b[0m \u001b[32m549.1/549.1 KB\u001b[0m \u001b[31m11.3 MB/s\u001b[0m eta \u001b[36m0:00:00\u001b[0m\n",
            "\u001b[?25hCollecting huggingface-hub\n",
            "  Downloading huggingface_hub-0.13.2-py3-none-any.whl (199 kB)\n",
            "\u001b[2K     \u001b[90m━━━━━━━━━━━━━━━━━━━━━━━━━━━━━━━━━━━━━━\u001b[0m \u001b[32m199.2/199.2 KB\u001b[0m \u001b[31m22.1 MB/s\u001b[0m eta \u001b[36m0:00:00\u001b[0m\n",
            "\u001b[?25hRequirement already satisfied: torch>=1.7 in /usr/local/lib/python3.9/dist-packages (from timm) (1.13.1+cu116)\n",
            "Requirement already satisfied: pyyaml in /usr/local/lib/python3.9/dist-packages (from timm) (6.0)\n",
            "Requirement already satisfied: torchvision in /usr/local/lib/python3.9/dist-packages (from timm) (0.14.1+cu116)\n",
            "Requirement already satisfied: typing-extensions in /usr/local/lib/python3.9/dist-packages (from torch>=1.7->timm) (4.5.0)\n",
            "Requirement already satisfied: tqdm>=4.42.1 in /usr/local/lib/python3.9/dist-packages (from huggingface-hub->timm) (4.65.0)\n",
            "Requirement already satisfied: packaging>=20.9 in /usr/local/lib/python3.9/dist-packages (from huggingface-hub->timm) (23.0)\n",
            "Requirement already satisfied: filelock in /usr/local/lib/python3.9/dist-packages (from huggingface-hub->timm) (3.9.0)\n",
            "Requirement already satisfied: requests in /usr/local/lib/python3.9/dist-packages (from huggingface-hub->timm) (2.25.1)\n",
            "Requirement already satisfied: pillow!=8.3.*,>=5.3.0 in /usr/local/lib/python3.9/dist-packages (from torchvision->timm) (8.4.0)\n",
            "Requirement already satisfied: numpy in /usr/local/lib/python3.9/dist-packages (from torchvision->timm) (1.22.4)\n",
            "Requirement already satisfied: certifi>=2017.4.17 in /usr/local/lib/python3.9/dist-packages (from requests->huggingface-hub->timm) (2022.12.7)\n",
            "Requirement already satisfied: chardet<5,>=3.0.2 in /usr/local/lib/python3.9/dist-packages (from requests->huggingface-hub->timm) (4.0.0)\n",
            "Requirement already satisfied: urllib3<1.27,>=1.21.1 in /usr/local/lib/python3.9/dist-packages (from requests->huggingface-hub->timm) (1.26.14)\n",
            "Requirement already satisfied: idna<3,>=2.5 in /usr/local/lib/python3.9/dist-packages (from requests->huggingface-hub->timm) (2.10)\n",
            "Installing collected packages: huggingface-hub, timm\n",
            "Successfully installed huggingface-hub-0.13.2 timm-0.6.12\n"
          ]
        }
      ]
    },
    {
      "cell_type": "markdown",
      "source": [
        "# Check GPU status"
      ],
      "metadata": {
        "id": "qETdGgm4rnX6"
      }
    },
    {
      "cell_type": "code",
      "source": [
        "! nvidia-smi"
      ],
      "metadata": {
        "id": "SQvtjTu_M42s",
        "colab": {
          "base_uri": "https://localhost:8080/"
        },
        "outputId": "57e5682c-bff5-4b27-cb69-8288be52fc2a"
      },
      "execution_count": null,
      "outputs": [
        {
          "output_type": "stream",
          "name": "stdout",
          "text": [
            "Tue Mar 14 09:23:50 2023       \n",
            "+-----------------------------------------------------------------------------+\n",
            "| NVIDIA-SMI 525.85.12    Driver Version: 525.85.12    CUDA Version: 12.0     |\n",
            "|-------------------------------+----------------------+----------------------+\n",
            "| GPU  Name        Persistence-M| Bus-Id        Disp.A | Volatile Uncorr. ECC |\n",
            "| Fan  Temp  Perf  Pwr:Usage/Cap|         Memory-Usage | GPU-Util  Compute M. |\n",
            "|                               |                      |               MIG M. |\n",
            "|===============================+======================+======================|\n",
            "|   0  Tesla T4            Off  | 00000000:00:04.0 Off |                    0 |\n",
            "| N/A   63C    P0    27W /  70W |      0MiB / 15360MiB |      0%      Default |\n",
            "|                               |                      |                  N/A |\n",
            "+-------------------------------+----------------------+----------------------+\n",
            "                                                                               \n",
            "+-----------------------------------------------------------------------------+\n",
            "| Processes:                                                                  |\n",
            "|  GPU   GI   CI        PID   Type   Process name                  GPU Memory |\n",
            "|        ID   ID                                                   Usage      |\n",
            "|=============================================================================|\n",
            "|  No running processes found                                                 |\n",
            "+-----------------------------------------------------------------------------+\n"
          ]
        }
      ]
    },
    {
      "cell_type": "markdown",
      "source": [
        "# Import"
      ],
      "metadata": {
        "id": "VeHNI4WwrpLr"
      }
    },
    {
      "cell_type": "code",
      "source": [
        "import os\n",
        "import sys\n",
        "import time\n",
        "import numpy as np\n",
        "import pandas as pd\n",
        "import cv2\n",
        "import PIL.Image\n",
        "import matplotlib.pyplot as plt\n",
        "%matplotlib inline\n",
        "import seaborn as sns\n",
        "from tqdm.notebook import tqdm\n",
        "from sklearn.metrics import roc_auc_score\n",
        "import torch\n",
        "from torch.utils.data import TensorDataset, DataLoader,Dataset\n",
        "import torch.nn as nn\n",
        "import torch.nn.functional as F\n",
        "import torchvision\n",
        "import torchvision.transforms as transforms\n",
        "import torch.optim as optim\n",
        "from torch.optim import lr_scheduler\n",
        "from torch.utils.data.sampler import SubsetRandomSampler, RandomSampler, SequentialSampler\n",
        "from torch.optim.lr_scheduler import CosineAnnealingLR\n",
        "import albumentations as A\n",
        "import timm\n",
        "import matplotlib.pyplot as plt\n",
        "\n",
        "device = torch.device('cuda')"
      ],
      "metadata": {
        "id": "C7yem24vMqw5"
      },
      "execution_count": null,
      "outputs": []
    },
    {
      "cell_type": "markdown",
      "source": [
        "# Read Data"
      ],
      "metadata": {
        "id": "2HqMSLBerq4u"
      }
    },
    {
      "cell_type": "code",
      "source": [
        "! ls /content/drive/MyDrive/247_proj_cnn"
      ],
      "metadata": {
        "id": "SGYDc8vjMyqo",
        "colab": {
          "base_uri": "https://localhost:8080/"
        },
        "outputId": "ec6e4153-b674-4530-df9c-b910b8eada68"
      },
      "execution_count": null,
      "outputs": [
        {
          "output_type": "stream",
          "name": "stdout",
          "text": [
            "'CNN-LSTM Hybrid with data preprocessing.ipynb'   fold_4_best_acc.ckpt\n",
            "'CNN with data preprocessing.ipynb'\t\t  person_test.npy\n",
            " EEG_loading.ipynb\t\t\t\t  person_train_valid.npy\n",
            " fold_0_best_acc.ckpt\t\t\t\t  X_test.npy\n",
            " fold_1_best_acc.ckpt\t\t\t\t  X_train_valid.npy\n",
            " fold_2_best_acc.ckpt\t\t\t\t  y_test.npy\n",
            " fold_3_best_acc.ckpt\t\t\t\t  y_train_valid.npy\n"
          ]
        }
      ]
    },
    {
      "cell_type": "code",
      "source": [
        "os.chdir('/content/drive/MyDrive/247_proj_cnn')"
      ],
      "metadata": {
        "id": "F9DcuRkYN7bd"
      },
      "execution_count": null,
      "outputs": []
    },
    {
      "cell_type": "code",
      "source": [
        "X_train_valid = np.load('X_train_valid.npy')\n",
        "y_train_valid = np.load('y_train_valid.npy')"
      ],
      "metadata": {
        "id": "ARbCBpxBOFfI"
      },
      "execution_count": null,
      "outputs": []
    },
    {
      "cell_type": "code",
      "source": [
        "X_train_valid.shape"
      ],
      "metadata": {
        "colab": {
          "base_uri": "https://localhost:8080/"
        },
        "id": "qeC3Hmd0jUX_",
        "outputId": "9e6de116-5280-4287-f299-d484d6fd76e8"
      },
      "execution_count": null,
      "outputs": [
        {
          "output_type": "execute_result",
          "data": {
            "text/plain": [
              "(2115, 22, 1000)"
            ]
          },
          "metadata": {},
          "execution_count": 7
        }
      ]
    },
    {
      "cell_type": "code",
      "source": [
        "X_test = np.load('X_test.npy')\n",
        "y_test = np.load('y_test.npy')"
      ],
      "metadata": {
        "id": "AC__tJa3XUeV"
      },
      "execution_count": null,
      "outputs": []
    },
    {
      "cell_type": "markdown",
      "source": [
        "# Define dataset"
      ],
      "metadata": {
        "id": "ObweIGWkp7Ki"
      }
    },
    {
      "cell_type": "code",
      "source": [
        "class BCIDataset(Dataset):\n",
        "    def __init__(self, X, y):\n",
        "        self.X = X\n",
        "        self.y = y\n",
        "        self.encode_class = {769:0, 770:1, 771:2, 772:3}\n",
        "\n",
        "    def __len__(self):\n",
        "        return self.X.shape[0]\n",
        "\n",
        "    def __getitem__(self, index):\n",
        "        x = torch.tensor(self.X[index,:,:500]).float()\n",
        "        y = self.y[index]\n",
        "        y = self.encode_class[y]\n",
        "        y = torch.tensor(y).long()\n",
        "        # return x, y\n",
        "        return x.unsqueeze(2).permute(2,0,1), y\n",
        "        # 1000, 22, 1\n",
        "        # return torch.stack([x,x,x]), y\n"
      ],
      "metadata": {
        "id": "HAz0VsYUkg0o"
      },
      "execution_count": null,
      "outputs": []
    },
    {
      "cell_type": "code",
      "source": [
        "next(iter(BCIDataset(X_test, y_test)))[0].shape"
      ],
      "metadata": {
        "colab": {
          "base_uri": "https://localhost:8080/"
        },
        "id": "HNWyMEFGFipD",
        "outputId": "23f72648-075f-4532-b11c-b731ff2af3dc"
      },
      "execution_count": null,
      "outputs": [
        {
          "output_type": "execute_result",
          "data": {
            "text/plain": [
              "torch.Size([1, 22, 500])"
            ]
          },
          "metadata": {},
          "execution_count": 10
        }
      ]
    },
    {
      "cell_type": "markdown",
      "source": [
        "# Define model"
      ],
      "metadata": {
        "id": "DXxzlcX5p8Y_"
      }
    },
    {
      "cell_type": "code",
      "source": [
        "class PatchEmbed(nn.Module):\n",
        "    \"\"\" \n",
        "    Split image to patches\n",
        "    \"\"\"\n",
        "    def __init__(\n",
        "            self,\n",
        "            in_chans=1,\n",
        "            embed_dim=768,\n",
        "            norm_layer=None,\n",
        "            flatten=True,\n",
        "            bias=True,\n",
        "    ):\n",
        "        super().__init__()\n",
        "        img_size = (22, 500)\n",
        "        patch_size = (22, 5)\n",
        "        self.img_size = img_size\n",
        "        self.patch_size = patch_size\n",
        "        self.grid_size = (img_size[0] // patch_size[0], img_size[1] // patch_size[1])\n",
        "        self.num_patches = self.grid_size[0] * self.grid_size[1]\n",
        "        self.flatten = flatten\n",
        "\n",
        "        self.proj = nn.Conv2d(in_chans, embed_dim, kernel_size=patch_size, stride=patch_size, bias=bias)\n",
        "        self.norm = norm_layer(embed_dim) if norm_layer else nn.Identity()\n",
        "\n",
        "    def forward(self, x):\n",
        "        B, C, H, W = x.shape\n",
        "        x = self.proj(x)\n",
        "        if self.flatten:\n",
        "            x = x.flatten(2).transpose(1, 2)  # BCHW -> BNC\n",
        "        x = self.norm(x)\n",
        "        return x\n",
        "\n",
        "class Attention(nn.Module):\n",
        "    def __init__(self, dim, num_heads=4, qkv_bias=False, attn_drop=0., proj_drop=0.):\n",
        "        super().__init__()\n",
        "        assert dim % num_heads == 0, 'dim should be divisible by num_heads'\n",
        "        self.num_heads = num_heads\n",
        "        head_dim = dim // num_heads\n",
        "        self.scale = head_dim ** -0.5\n",
        "\n",
        "        self.qkv = nn.Linear(dim, dim * 3, bias=qkv_bias)\n",
        "        self.attn_drop = nn.Dropout(attn_drop)\n",
        "        self.proj = nn.Linear(dim, dim)\n",
        "        self.proj_drop = nn.Dropout(proj_drop)\n",
        "\n",
        "    def forward(self, x):\n",
        "        B, N, C = x.shape\n",
        "        qkv = self.qkv(x).reshape(B, N, 3, self.num_heads, C // self.num_heads).permute(2, 0, 3, 1, 4)\n",
        "        q, k, v = qkv.unbind(0)   # make torchscript happy (cannot use tensor as tuple)\n",
        "\n",
        "        attn = (q @ k.transpose(-2, -1)) * self.scale\n",
        "        attn = attn.softmax(dim=-1)\n",
        "        attn = self.attn_drop(attn)\n",
        "\n",
        "        x = (attn @ v).transpose(1, 2).reshape(B, N, C)\n",
        "        x = self.proj(x)\n",
        "        x = self.proj_drop(x)\n",
        "        return x\n",
        "\n",
        "class ERUConv(nn.Module):\n",
        "    def __init__(self, in_channel, out_channel, kernel_size, mp_kernal_size, padding, dropout):\n",
        "        super().__init__()\n",
        "        self.conv = nn.Conv2d(in_channel, out_channel, \n",
        "                              kernel_size = kernel_size, padding=padding)\n",
        "        nn.init.xavier_uniform_(self.conv.weight)\n",
        "        self.elu = nn.ELU()\n",
        "        self.maxpool = nn.MaxPool2d(kernel_size = mp_kernal_size)\n",
        "        self.BN = nn.BatchNorm2d(out_channel)\n",
        "        self.dropout = nn.Dropout(p=dropout)\n",
        "    \n",
        "    def forward(self, x):\n",
        "        x = self.elu(self.conv(x))\n",
        "        x = self.maxpool(x)\n",
        "        x = self.BN(x)\n",
        "        x = self.dropout(x)\n",
        "        return x\n",
        "\n",
        "class EEGTransformer(nn.Module):\n",
        "    def __init__(self, embed_dim, att_dim, drop_out=0.5):\n",
        "        super().__init__()\n",
        "        self.conv_temp = nn.Conv2d(1, 1, (1, 5), stride = (1, 5)) \n",
        "        self.patch_embed = PatchEmbed(embed_dim=embed_dim)\n",
        "        self.attention = Attention(dim=att_dim)\n",
        "        self.conv1 = ERUConv(44, 88, (10, 1), (2, 1), 'same', drop_out)\n",
        "        self.conv2 = ERUConv(88, 168, (10, 1), (2, 1), 'same', drop_out)\n",
        "        self.conv3 = ERUConv(168, 384, (10, 1), (2, 1), 'same', drop_out)\n",
        "        self.fc = nn.Sequential(\n",
        "            nn.Linear(4608, 128), \n",
        "            nn.BatchNorm1d(128),\n",
        "            nn.ELU(),\n",
        "            nn.Dropout(drop_out),\n",
        "            nn.Linear(128,32),\n",
        "            nn.BatchNorm1d(32),\n",
        "            nn.ELU(),\n",
        "            nn.Dropout(0.2),\n",
        "            nn.Linear(32,4)\n",
        "            # nn.BatchNorm1d(128),\n",
        "            # nn.ELU(),\n",
        "            # nn.Linear(128,4),\n",
        "        )\n",
        "        \n",
        "    def forward(self, x):\n",
        "        # split image into patches of size (22, 5)\n",
        "        x_patch_embed= self.patch_embed(x).permute(0,2,1).unsqueeze(1) \n",
        "        print(x_patch_embed.shape)\n",
        "        x = self.conv_temp(x)\n",
        "        print(x.shape)\n",
        "        x = torch.concat([x_patch_embed, x], dim=2).squeeze(1)\n",
        "        print(x.shape)\n",
        "        # print(x.shape)\n",
        "        # uses attention\n",
        "        x_attn = self.attention(x)\n",
        "        print(x_attn.shape)\n",
        "        # x = torch.concat([x_attn, x], dim=2).squeeze(1)\n",
        "        # print(x.shape)\n",
        "        x = x.unsqueeze(1).permute(0,2,3,1)\n",
        "        x = self.conv1(x)\n",
        "        print(x.shape)\n",
        "        x = self.conv2(x)\n",
        "        print(x.shape)\n",
        "        x = self.conv3(x)\n",
        "        print(x.shape)\n",
        "        bs = x.shape[0]\n",
        "        x = x.view(bs, -1)\n",
        "        x = self.fc(x)\n",
        "        return x"
      ],
      "metadata": {
        "id": "i0NXXQjdkt_S"
      },
      "execution_count": null,
      "outputs": []
    },
    {
      "cell_type": "code",
      "source": [
        "model = EEGTransformer(22, 100)\n",
        "model(torch.randn(2,1,22,500))"
      ],
      "metadata": {
        "colab": {
          "base_uri": "https://localhost:8080/"
        },
        "id": "DUN9oRzT8Y_L",
        "outputId": "2c7ee00d-5f89-49b9-87ce-b03d2de5194d"
      },
      "execution_count": null,
      "outputs": [
        {
          "output_type": "stream",
          "name": "stdout",
          "text": [
            "torch.Size([2, 1, 22, 100])\n",
            "torch.Size([2, 1, 22, 100])\n",
            "torch.Size([2, 44, 100])\n",
            "torch.Size([2, 44, 100])\n",
            "torch.Size([2, 88, 50, 1])\n",
            "torch.Size([2, 168, 25, 1])\n",
            "torch.Size([2, 384, 12, 1])\n"
          ]
        },
        {
          "output_type": "execute_result",
          "data": {
            "text/plain": [
              "tensor([[-0.3297, -0.2359,  0.6083,  0.1915],\n",
              "        [ 0.1088, -0.5070, -0.5654, -1.1770]], grad_fn=<AddmmBackward0>)"
            ]
          },
          "metadata": {},
          "execution_count": 36
        }
      ]
    },
    {
      "cell_type": "markdown",
      "source": [
        "# Training and validation"
      ],
      "metadata": {
        "id": "X79MQadLp3KH"
      }
    },
    {
      "cell_type": "markdown",
      "source": [
        "## training configurations"
      ],
      "metadata": {
        "id": "H36St9mpuYFw"
      }
    },
    {
      "cell_type": "code",
      "source": [
        "num_epochs = 100\n",
        "lr=0.003\n",
        "k = 5 # number of folds\n",
        "batch_size = 64\n",
        "num_worker = 8\n",
        "mbed_dim, att_dim = 22, 100"
      ],
      "metadata": {
        "id": "dj7yBLfemCja"
      },
      "execution_count": null,
      "outputs": []
    },
    {
      "cell_type": "code",
      "source": [
        "def train_valid_fold(X_train, y_train, X_valid, y_valid, fold_id):\n",
        "    print('Building dataset...')\n",
        "    bcidataset_train = BCIDataset(X_train, y_train)\n",
        "    bcidataset_train_dl = torch.utils.data.DataLoader(bcidataset_train, batch_size=batch_size, num_workers=num_worker, shuffle=True)\n",
        "    bcidataset_test = BCIDataset(X_valid, y_valid)\n",
        "    bcidataset_test_dl = torch.utils.data.DataLoader(bcidataset_test, batch_size=batch_size, num_workers=num_worker, shuffle=False)\n",
        "\n",
        "    print('Create new model...')\n",
        "    model = EEGTransformer(mbed_dim, att_dim)\n",
        "    model = model.cuda()\n",
        "\n",
        "    print('Setting up loss function, optimizer and scheduler...')\n",
        "    criterion = nn.CrossEntropyLoss()\n",
        "    optimizer = optim.Adam(model.parameters(), lr=lr)\n",
        "    scheduler = optim.lr_scheduler.CosineAnnealingLR(optimizer, T_max=num_epochs,)\n",
        "\n",
        "    # Training loop\n",
        "    accuracy_list = []\n",
        "    loss_by_epoch = []\n",
        "    val_loss_by_epoch = []\n",
        "    max_accuracy = 0\n",
        "    best_model = model\n",
        "    for epoch in tqdm(range(num_epochs)):\n",
        "        losses = []\n",
        "        model.train()\n",
        "        for i, (inputs, labels) in enumerate(bcidataset_train_dl):\n",
        "            inputs = inputs.cuda()\n",
        "            labels = labels.cuda()\n",
        "            optimizer.zero_grad()\n",
        "            outputs = model(inputs)\n",
        "            loss = criterion(outputs, labels)\n",
        "            loss.backward()\n",
        "            optimizer.step()\n",
        "            losses.append(loss.item())\n",
        "        loss = np.mean(losses)\n",
        "        loss_by_epoch.append(loss)\n",
        "        \n",
        "        # validate with the testing dataset\n",
        "        predicted_label = []\n",
        "        actual_label = []\n",
        "        model.eval()\n",
        "        val_losses = []\n",
        "        for i, (inputs, labels) in enumerate(bcidataset_test_dl):\n",
        "            inputs = inputs.cuda()\n",
        "            actual_label += labels.tolist()\n",
        "            labels = labels.cuda()\n",
        "            outputs = model(inputs)\n",
        "            loss = criterion(outputs, labels)\n",
        "            val_losses.append(loss.item())\n",
        "            predicted = outputs.argmax(1)\n",
        "            predicted_label += predicted.cpu().numpy().tolist()\n",
        "        val_loss_by_epoch.append(np.mean(losses))\n",
        "        predicted_label = torch.tensor(predicted_label)\n",
        "        actual_label = torch.tensor(actual_label)\n",
        "        accuracy = (np.array(actual_label) == np.array(predicted_label)).sum() / len(predicted_label)\n",
        "        if accuracy > max_accuracy:\n",
        "            print(f'Better accuracy found ({max_accuracy} -> {accuracy}), best model saved.')\n",
        "            max_accuracy = accuracy\n",
        "            torch.save(model.state_dict(), f'fold_{fold_id}_best_acc.ckpt')\n",
        "        accuracy_list.append(accuracy)\n",
        "        scheduler.step()\n",
        "\n",
        "    axes[0].plot(accuracy_list)\n",
        "    axes[0].set_xlabel('Epoch')\n",
        "    axes[0].set_ylabel('Validation Accuracy')\n",
        "    \n",
        "    axes[1].plot(np.arange(10, num_epochs), loss_by_epoch[10:])\n",
        "    axes[1].set_xlabel('Epoch')\n",
        "    axes[1].set_ylabel('Training Loss')\n",
        "\n",
        "    axes[2].plot(np.arange(10, num_epochs), val_loss_by_epoch[10:])\n",
        "    axes[2].set_xlabel('Epoch')\n",
        "    axes[2].set_ylabel('Validation Loss')\n",
        "    \n",
        "# def train_valid_fold(X_train, y_train, X_valid, y_valid, fold_id):\n",
        "#     print('Building dataset...')\n",
        "#     bcidataset_train = BCIDataset(X_train, y_train)\n",
        "#     bcidataset_train_dl = torch.utils.data.DataLoader(bcidataset_train, batch_size=batch_size, num_workers=num_worker, shuffle=True)\n",
        "#     bcidataset_test = BCIDataset(X_valid, y_valid)\n",
        "#     bcidataset_test_dl = torch.utils.data.DataLoader(bcidataset_test, batch_size=batch_size, num_workers=num_worker, shuffle=False)\n",
        "\n",
        "#     print('Create new model...')\n",
        "#     model = EEGTransformer(mbed_dim, att_dim)\n",
        "#     model = model.cuda()\n",
        "\n",
        "#     print('Setting up loss function, optimizer and scheduler...')\n",
        "#     criterion = nn.CrossEntropyLoss()\n",
        "#     optimizer = optim.Adam(model.parameters(), lr=lr)\n",
        "#     scheduler = optim.lr_scheduler.CosineAnnealingLR(optimizer, T_max=num_epochs,)\n",
        "\n",
        "#     # Training loop\n",
        "#     accuracy_list = []\n",
        "#     loss_by_epoch = []\n",
        "#     max_accuracy = 0\n",
        "#     best_model = model\n",
        "#     for epoch in tqdm(range(num_epochs)):\n",
        "#         losses = []\n",
        "#         model.train()\n",
        "#         for i, (inputs, labels) in enumerate(bcidataset_train_dl):\n",
        "#             with torch.autograd.set_detect_anomaly(True):\n",
        "#               inputs = inputs.cuda()\n",
        "#               labels = labels.cuda()\n",
        "#               optimizer.zero_grad()\n",
        "#               outputs = model(inputs)\n",
        "#               loss = criterion(outputs, labels)\n",
        "#               loss.backward()\n",
        "#               optimizer.step()\n",
        "#               losses.append(loss.item())\n",
        "#         loss = np.mean(losses)\n",
        "#         loss_by_epoch.append(loss)\n",
        "        \n",
        "#         # validate with the testing dataset\n",
        "#         predicted_label = []\n",
        "#         actual_label = []\n",
        "#         model.eval()\n",
        "#         for i, (inputs, labels) in enumerate(bcidataset_test_dl):\n",
        "#             inputs = inputs.cuda()\n",
        "#             actual_label += labels.tolist()\n",
        "#             outputs = model(inputs)\n",
        "#             predicted = outputs.argmax(1)\n",
        "#             predicted_label += predicted.cpu().numpy().tolist()\n",
        "#         predicted_label = torch.tensor(predicted_label)\n",
        "#         actual_label = torch.tensor(actual_label)\n",
        "#         accuracy = (np.array(actual_label) == np.array(predicted_label)).sum() / len(predicted_label)\n",
        "#         if accuracy > max_accuracy:\n",
        "#             print(f'Better accuracy found ({max_accuracy} -> {accuracy}), best model saved.')\n",
        "#             max_accuracy = accuracy\n",
        "#             torch.save(model.state_dict(), f'fold_{fold_id}_best_acc.ckpt')\n",
        "#         accuracy_list.append(accuracy)\n",
        "#         scheduler.step()\n",
        "#     plt.plot(accuracy_list)\n",
        "#     plt.xlabel('Epoch')\n",
        "#     plt.ylabel('Validation Accuracy')"
      ],
      "metadata": {
        "id": "m_2qHFw9lk1o"
      },
      "execution_count": null,
      "outputs": []
    },
    {
      "cell_type": "code",
      "source": [
        "from sklearn.model_selection import KFold\n",
        "\n",
        "# Split the data into k folds\n",
        "kf = KFold(n_splits=k, shuffle=True, random_state=42)\n",
        "\n",
        "fig, axes = plt.subplots(1, 3, figsize=(20, 5))\n",
        "axes = axes.flatten()\n",
        "\n",
        "# Loop over each fold\n",
        "for fold, (train_index, test_index) in enumerate(kf.split(X_train_valid)):\n",
        "\n",
        "    # Get the training and test sets for this fold\n",
        "    X_train, X_valid = X_train_valid[train_index], X_train_valid[test_index]\n",
        "    y_train, y_valid = y_train_valid[train_index], y_train_valid[test_index]\n",
        "    train_valid_fold(X_train, y_train, X_valid, y_valid, fold)"
      ],
      "metadata": {
        "colab": {
          "base_uri": "https://localhost:8080/",
          "height": 1000,
          "referenced_widgets": [
            "d98c87228a86404d8f086a8cf7d3b053",
            "9b1edafecc8944ec9ecf5806d6d2b7a4",
            "d51d6471f30a4a2aaa741e26b19e9814",
            "facd8d3442ad43afac0a66eb8383162c",
            "2bd966c3156a4e76a296c1d020245cc6",
            "5470102964f4472c9d3678a78d5aa9c3",
            "c3ab492c8cd24223b2b4274cece9fcff",
            "1eec41bdbf744c9fbbc842048d859f71",
            "4bfaf87d7c30420abb6842a9c05d90cd",
            "c0df3b8ebd754893bdd92fb85449baab",
            "e87069d49e444d639214dbedea48fec0",
            "934c0bc12a4d405db1a0786a68e90f78",
            "778e15ffc7a949f2a73d73f56560fe99",
            "5ec8d1fe98da42859e282f22008556f1",
            "27eca62dc8814ddda3643f48107ae1ca",
            "4dfce6d42d544b0f8ce36a70e71d4e0e",
            "7c1117b428cb40a9b9b56508cec1c260",
            "6fdd1e60e936422db354a9e5281a8782",
            "372fa7dddd714bd9808aa553f72b7a43",
            "e4e384df6b9847b98cc655389440be1c",
            "ec417e19ce094711a8dcaee8dc06aef9",
            "4beeb5a2629c4c339dfa976366cbdaa4",
            "c78663c83cc9493fa3842fdff764b513",
            "b41cf67aceda4bf6852cefc989ef9093",
            "f60474cff1a94d54b4c245c305728075",
            "e6036d3a436e46ecba087c42fb6ca33a",
            "194add448a7b4c968fd9bd2ab20e6d95",
            "b0ce52ae676c456d940f42bb76868bef",
            "89304e4f1d7742099d14bb05937a3d55",
            "cc1f0d32daf34f9d965af9e76177e59c",
            "353657dbe63f474d8db5a4b2770b75d5",
            "02a935e995854be38a2333c7f618dbdb",
            "ffab6b9a732a4a04aaf547623eb5e146",
            "772845cdd1ab495eb919fc2c64384817",
            "6b73171853b64b88bd920eec0dc675f7",
            "53db3fd25c784cbcb3e23a10c7ea0197",
            "f49d0e8309104ad2bd42b5a39561c721",
            "468121eeb8c343e0b67068e94f4624eb",
            "36a0616fa8be4dc792a721334e3af976",
            "95aaaf2846684394bfc9bb1994217f12",
            "8ae1ff9ddd3c4ceaa99558d3b0d997aa",
            "274e13bdce0640ac8ce58da2a68ac6ef",
            "3f1cdb333a824a4f9d3a8dee7ddc29bb",
            "6b88af1693854c3fb029f57c2d1cefa2",
            "eeeeddc6984843aebb9621ab578417b7",
            "f0df75a2ef764af4bb7f934141fb717b",
            "dc7f04f9461945139864b6b9d86e5fd9",
            "1054ff404f56496286953a64850a6c8b",
            "5fd8496b9d9341be940a406fa3f4f0ce",
            "eaefd742d5af45ab899cd33f72fa0e43",
            "93516c6afcb34f49ae5777a1d1d464aa",
            "1cbb2b4406594dc292e21c993fadf475",
            "ab0bf745ee7d4f4fa4eea61df4d8840d",
            "21000ecef4ab4d9f9ab9f5c123614a9f",
            "b889580f30fd42009fdcc449ded1d9b2"
          ]
        },
        "id": "fPmLYFNVo5Vz",
        "outputId": "86fda483-cf19-44d4-a96f-2ec3c8e63aa6"
      },
      "execution_count": null,
      "outputs": [
        {
          "output_type": "stream",
          "name": "stdout",
          "text": [
            "Building dataset...\n",
            "Create new model...\n"
          ]
        },
        {
          "output_type": "stream",
          "name": "stderr",
          "text": [
            "/usr/local/lib/python3.9/dist-packages/torch/utils/data/dataloader.py:554: UserWarning: This DataLoader will create 8 worker processes in total. Our suggested max number of worker in current system is 2, which is smaller than what this DataLoader is going to create. Please be aware that excessive worker creation might get DataLoader running slow or even freeze, lower the worker number to avoid potential slowness/freeze if necessary.\n",
            "  warnings.warn(_create_warning_msg(\n"
          ]
        },
        {
          "output_type": "stream",
          "name": "stdout",
          "text": [
            "Setting up loss function, optimizer and scheduler...\n"
          ]
        },
        {
          "output_type": "display_data",
          "data": {
            "text/plain": [
              "  0%|          | 0/100 [00:00<?, ?it/s]"
            ],
            "application/vnd.jupyter.widget-view+json": {
              "version_major": 2,
              "version_minor": 0,
              "model_id": "d98c87228a86404d8f086a8cf7d3b053"
            }
          },
          "metadata": {}
        },
        {
          "output_type": "stream",
          "name": "stdout",
          "text": [
            "Better accuracy found (0 -> 0.3664302600472813), best model saved.\n",
            "Better accuracy found (0.3664302600472813 -> 0.41134751773049644), best model saved.\n",
            "Better accuracy found (0.41134751773049644 -> 0.41843971631205673), best model saved.\n",
            "Better accuracy found (0.41843971631205673 -> 0.45390070921985815), best model saved.\n",
            "Better accuracy found (0.45390070921985815 -> 0.47044917257683216), best model saved.\n",
            "Better accuracy found (0.47044917257683216 -> 0.5319148936170213), best model saved.\n",
            "Better accuracy found (0.5319148936170213 -> 0.5721040189125296), best model saved.\n",
            "Better accuracy found (0.5721040189125296 -> 0.5933806146572104), best model saved.\n",
            "Better accuracy found (0.5933806146572104 -> 0.6028368794326241), best model saved.\n",
            "Better accuracy found (0.6028368794326241 -> 0.6146572104018913), best model saved.\n",
            "Better accuracy found (0.6146572104018913 -> 0.6264775413711584), best model saved.\n",
            "Better accuracy found (0.6264775413711584 -> 0.6430260047281324), best model saved.\n",
            "Better accuracy found (0.6430260047281324 -> 0.6595744680851063), best model saved.\n",
            "Better accuracy found (0.6595744680851063 -> 0.6784869976359338), best model saved.\n",
            "Better accuracy found (0.6784869976359338 -> 0.6832151300236406), best model saved.\n",
            "Building dataset...\n",
            "Create new model...\n",
            "Setting up loss function, optimizer and scheduler...\n"
          ]
        },
        {
          "output_type": "display_data",
          "data": {
            "text/plain": [
              "  0%|          | 0/100 [00:00<?, ?it/s]"
            ],
            "application/vnd.jupyter.widget-view+json": {
              "version_major": 2,
              "version_minor": 0,
              "model_id": "934c0bc12a4d405db1a0786a68e90f78"
            }
          },
          "metadata": {}
        },
        {
          "output_type": "stream",
          "name": "stdout",
          "text": [
            "Better accuracy found (0 -> 0.34515366430260047), best model saved.\n",
            "Better accuracy found (0.34515366430260047 -> 0.408983451536643), best model saved.\n",
            "Better accuracy found (0.408983451536643 -> 0.46099290780141844), best model saved.\n",
            "Better accuracy found (0.46099290780141844 -> 0.46808510638297873), best model saved.\n",
            "Better accuracy found (0.46808510638297873 -> 0.524822695035461), best model saved.\n",
            "Better accuracy found (0.524822695035461 -> 0.541371158392435), best model saved.\n",
            "Better accuracy found (0.541371158392435 -> 0.5910165484633569), best model saved.\n",
            "Better accuracy found (0.5910165484633569 -> 0.624113475177305), best model saved.\n",
            "Better accuracy found (0.624113475177305 -> 0.6524822695035462), best model saved.\n",
            "Better accuracy found (0.6524822695035462 -> 0.6572104018912529), best model saved.\n",
            "Better accuracy found (0.6572104018912529 -> 0.6643026004728132), best model saved.\n",
            "Better accuracy found (0.6643026004728132 -> 0.6808510638297872), best model saved.\n",
            "Better accuracy found (0.6808510638297872 -> 0.6926713947990544), best model saved.\n",
            "Better accuracy found (0.6926713947990544 -> 0.6950354609929078), best model saved.\n",
            "Better accuracy found (0.6950354609929078 -> 0.7115839243498818), best model saved.\n",
            "Better accuracy found (0.7115839243498818 -> 0.7139479905437353), best model saved.\n",
            "Better accuracy found (0.7139479905437353 -> 0.7186761229314421), best model saved.\n",
            "Building dataset...\n",
            "Create new model...\n",
            "Setting up loss function, optimizer and scheduler...\n"
          ]
        },
        {
          "output_type": "display_data",
          "data": {
            "text/plain": [
              "  0%|          | 0/100 [00:00<?, ?it/s]"
            ],
            "application/vnd.jupyter.widget-view+json": {
              "version_major": 2,
              "version_minor": 0,
              "model_id": "c78663c83cc9493fa3842fdff764b513"
            }
          },
          "metadata": {}
        },
        {
          "output_type": "stream",
          "name": "stdout",
          "text": [
            "Better accuracy found (0 -> 0.3829787234042553), best model saved.\n",
            "Better accuracy found (0.3829787234042553 -> 0.44208037825059104), best model saved.\n",
            "Better accuracy found (0.44208037825059104 -> 0.4515366430260047), best model saved.\n",
            "Better accuracy found (0.4515366430260047 -> 0.5106382978723404), best model saved.\n",
            "Better accuracy found (0.5106382978723404 -> 0.5130023640661938), best model saved.\n",
            "Better accuracy found (0.5130023640661938 -> 0.541371158392435), best model saved.\n",
            "Better accuracy found (0.541371158392435 -> 0.5555555555555556), best model saved.\n",
            "Better accuracy found (0.5555555555555556 -> 0.5933806146572104), best model saved.\n",
            "Better accuracy found (0.5933806146572104 -> 0.6146572104018913), best model saved.\n",
            "Better accuracy found (0.6146572104018913 -> 0.6217494089834515), best model saved.\n",
            "Better accuracy found (0.6217494089834515 -> 0.6264775413711584), best model saved.\n",
            "Better accuracy found (0.6264775413711584 -> 0.6430260047281324), best model saved.\n",
            "Better accuracy found (0.6430260047281324 -> 0.6524822695035462), best model saved.\n",
            "Better accuracy found (0.6524822695035462 -> 0.6548463356973995), best model saved.\n",
            "Better accuracy found (0.6548463356973995 -> 0.6619385342789598), best model saved.\n",
            "Better accuracy found (0.6619385342789598 -> 0.6761229314420804), best model saved.\n",
            "Better accuracy found (0.6761229314420804 -> 0.6832151300236406), best model saved.\n",
            "Better accuracy found (0.6832151300236406 -> 0.6950354609929078), best model saved.\n",
            "Better accuracy found (0.6950354609929078 -> 0.6973995271867612), best model saved.\n",
            "Building dataset...\n",
            "Create new model...\n",
            "Setting up loss function, optimizer and scheduler...\n"
          ]
        },
        {
          "output_type": "display_data",
          "data": {
            "text/plain": [
              "  0%|          | 0/100 [00:00<?, ?it/s]"
            ],
            "application/vnd.jupyter.widget-view+json": {
              "version_major": 2,
              "version_minor": 0,
              "model_id": "772845cdd1ab495eb919fc2c64384817"
            }
          },
          "metadata": {}
        },
        {
          "output_type": "stream",
          "name": "stdout",
          "text": [
            "Better accuracy found (0 -> 0.3404255319148936), best model saved.\n",
            "Better accuracy found (0.3404255319148936 -> 0.4491725768321513), best model saved.\n",
            "Better accuracy found (0.4491725768321513 -> 0.5130023640661938), best model saved.\n",
            "Better accuracy found (0.5130023640661938 -> 0.5153664302600472), best model saved.\n",
            "Better accuracy found (0.5153664302600472 -> 0.524822695035461), best model saved.\n",
            "Better accuracy found (0.524822695035461 -> 0.5602836879432624), best model saved.\n",
            "Better accuracy found (0.5602836879432624 -> 0.5981087470449172), best model saved.\n",
            "Better accuracy found (0.5981087470449172 -> 0.6122931442080378), best model saved.\n",
            "Better accuracy found (0.6122931442080378 -> 0.6359338061465721), best model saved.\n",
            "Better accuracy found (0.6359338061465721 -> 0.640661938534279), best model saved.\n",
            "Better accuracy found (0.640661938534279 -> 0.6430260047281324), best model saved.\n",
            "Better accuracy found (0.6430260047281324 -> 0.6548463356973995), best model saved.\n",
            "Better accuracy found (0.6548463356973995 -> 0.6808510638297872), best model saved.\n",
            "Better accuracy found (0.6808510638297872 -> 0.6879432624113475), best model saved.\n",
            "Better accuracy found (0.6879432624113475 -> 0.6903073286052009), best model saved.\n",
            "Better accuracy found (0.6903073286052009 -> 0.7044917257683215), best model saved.\n",
            "Better accuracy found (0.7044917257683215 -> 0.706855791962175), best model saved.\n",
            "Better accuracy found (0.706855791962175 -> 0.7115839243498818), best model saved.\n",
            "Better accuracy found (0.7115839243498818 -> 0.7163120567375887), best model saved.\n",
            "Building dataset...\n",
            "Create new model...\n",
            "Setting up loss function, optimizer and scheduler...\n"
          ]
        },
        {
          "output_type": "display_data",
          "data": {
            "text/plain": [
              "  0%|          | 0/100 [00:00<?, ?it/s]"
            ],
            "application/vnd.jupyter.widget-view+json": {
              "version_major": 2,
              "version_minor": 0,
              "model_id": "eeeeddc6984843aebb9621ab578417b7"
            }
          },
          "metadata": {}
        },
        {
          "output_type": "stream",
          "name": "stdout",
          "text": [
            "Better accuracy found (0 -> 0.34515366430260047), best model saved.\n",
            "Better accuracy found (0.34515366430260047 -> 0.4397163120567376), best model saved.\n",
            "Better accuracy found (0.4397163120567376 -> 0.4988179669030733), best model saved.\n",
            "Better accuracy found (0.4988179669030733 -> 0.5011820330969267), best model saved.\n",
            "Better accuracy found (0.5011820330969267 -> 0.5130023640661938), best model saved.\n",
            "Better accuracy found (0.5130023640661938 -> 0.6028368794326241), best model saved.\n",
            "Better accuracy found (0.6028368794326241 -> 0.6217494089834515), best model saved.\n",
            "Better accuracy found (0.6217494089834515 -> 0.6453900709219859), best model saved.\n",
            "Better accuracy found (0.6453900709219859 -> 0.6501182033096927), best model saved.\n",
            "Better accuracy found (0.6501182033096927 -> 0.6595744680851063), best model saved.\n",
            "Better accuracy found (0.6595744680851063 -> 0.6761229314420804), best model saved.\n",
            "Better accuracy found (0.6761229314420804 -> 0.6808510638297872), best model saved.\n",
            "Better accuracy found (0.6808510638297872 -> 0.6903073286052009), best model saved.\n",
            "Better accuracy found (0.6903073286052009 -> 0.6997635933806147), best model saved.\n",
            "Better accuracy found (0.6997635933806147 -> 0.7021276595744681), best model saved.\n",
            "Better accuracy found (0.7021276595744681 -> 0.706855791962175), best model saved.\n"
          ]
        },
        {
          "output_type": "display_data",
          "data": {
            "text/plain": [
              "<Figure size 1440x360 with 3 Axes>"
            ],
            "image/png": "[encoded data removed]"
          },
          "metadata": {
            "needs_background": "light"
          }
        }
      ]
    },
    {
      "cell_type": "markdown",
      "source": [
        "# Predict the test dataset"
      ],
      "metadata": {
        "id": "Xd2TaycZpzUU"
      }
    },
    {
      "cell_type": "code",
      "source": [
        "bcidataset_test = BCIDataset(X_test, y_test)\n",
        "bcidataset_test_dl = torch.utils.data.DataLoader(bcidataset_test, batch_size=64, num_workers=8, shuffle=False)"
      ],
      "metadata": {
        "id": "8y4AJkRoqS3U"
      },
      "execution_count": null,
      "outputs": []
    },
    {
      "cell_type": "code",
      "source": [
        "pred_proba_list = []\n",
        "for fold_id in range(k):\n",
        "    model = EEGTransformer(mbed_dim, att_dim)\n",
        "    model.load_state_dict(torch.load(f'fold_{fold_id}_best_acc.ckpt'))\n",
        "    model = model.cuda()\n",
        "    # validate with the testing dataset\n",
        "    predicted_label = []\n",
        "    predicted_proba = []\n",
        "    actual_label = []\n",
        "    model.eval()\n",
        "    for i, (inputs, labels) in enumerate(bcidataset_test_dl):\n",
        "        inputs = inputs.cuda()\n",
        "        actual_label += labels.tolist()\n",
        "        outputs = model(inputs)\n",
        "        predicted_label += outputs.argmax(1).cpu().numpy().tolist()\n",
        "        predicted_proba += outputs.softmax(1).cpu().tolist()\n",
        "    pred_proba_list.append(predicted_proba)"
      ],
      "metadata": {
        "id": "UyYYXHJSK2d9"
      },
      "execution_count": null,
      "outputs": []
    },
    {
      "cell_type": "code",
      "source": [
        "test_accuracy = (np.array(pred_proba_list).mean(0).argmax(1) == np.array(actual_label)).sum() / len(np.array(actual_label))"
      ],
      "metadata": {
        "id": "wVFdJp6rs6j3"
      },
      "execution_count": null,
      "outputs": []
    },
    {
      "cell_type": "code",
      "source": [
        "print(f'Final test accuracy is {test_accuracy: .5f}')"
      ],
      "metadata": {
        "id": "LLhDhdRItVFm",
        "colab": {
          "base_uri": "https://localhost:8080/"
        },
        "outputId": "9c9dda37-c84a-41ea-940c-e1a10e0f6608"
      },
      "execution_count": null,
      "outputs": [
        {
          "output_type": "stream",
          "name": "stdout",
          "text": [
            "Final test accuracy is  0.72686\n"
          ]
        }
      ]
    },
    {
      "cell_type": "code",
      "source": [
        "from sklearn.metrics import confusion_matrix\n",
        "cf_matrix = confusion_matrix(np.array(actual_label), np.array(pred_proba_list).mean(0).argmax(1))\n",
        "\n",
        "sns.heatmap(cf_matrix/np.sum(cf_matrix), annot=True, \n",
        "            fmt='.2%', cmap='Blues')"
      ],
      "metadata": {
        "id": "7A5fQjWrt4eQ",
        "colab": {
          "base_uri": "https://localhost:8080/",
          "height": 284
        },
        "outputId": "51ee6252-3c8d-4468-98d9-81aa37f46e01"
      },
      "execution_count": null,
      "outputs": [
        {
          "output_type": "execute_result",
          "data": {
            "text/plain": [
              "<AxesSubplot:>"
            ]
          },
          "metadata": {},
          "execution_count": 22
        },
        {
          "output_type": "display_data",
          "data": {
            "text/plain": [
              "<Figure size 432x288 with 2 Axes>"
            ],
            "image/png": "[encoded data removed]"
          },
          "metadata": {
            "needs_background": "light"
          }
        }
      ]
    },
    {
      "cell_type": "code",
      "source": [],
      "metadata": {
        "id": "LniUSgonzj8g"
      },
      "execution_count": null,
      "outputs": []
    }
  ]
}